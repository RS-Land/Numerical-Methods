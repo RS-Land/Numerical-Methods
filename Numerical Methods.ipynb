{
 "cells": [
  {
   "cell_type": "markdown",
   "metadata": {},
   "source": [
    "Rusty Bargain used car sales service is developing an app to attract new customers. In that app, you can quickly find out the market value of your car. You have access to historical data: technical specifications, trim versions, and prices. You need to build the model to determine the value. \n",
    "\n",
    "Rusty Bargain is interested in:\n",
    "\n",
    "- the quality of the prediction;\n",
    "- the speed of the prediction;\n",
    "- the time required for training"
   ]
  },
  {
   "cell_type": "markdown",
   "metadata": {},
   "source": [
    "## Data preparation"
   ]
  },
  {
   "cell_type": "markdown",
   "metadata": {},
   "source": [
    "**Importing libraries**"
   ]
  },
  {
   "cell_type": "code",
   "execution_count": 39,
   "metadata": {},
   "outputs": [],
   "source": [
    "import numpy as np\n",
    "import pandas as pd\n",
    "import seaborn as sns\n",
    "import math\n",
    "\n",
    "from sklearn.model_selection import train_test_split\n",
    "from IPython.display import display\n",
    "from sklearn.tree import DecisionTreeRegressor\n",
    "import matplotlib.pyplot as plt\n",
    "from scipy import stats as st\n",
    "from sklearn.model_selection import GridSearchCV\n",
    "from sklearn.preprocessing import StandardScaler\n",
    "\n",
    "from sklearn.linear_model import LinearRegression\n",
    "from sklearn.ensemble import GradientBoostingRegressor, RandomForestRegressor\n",
    "from sklearn.metrics import make_scorer\n",
    "from sklearn.metrics import mean_squared_error\n",
    "\n",
    "import lightgbm\n",
    "import catboost\n",
    "import lightgbm as ltb\n",
    "import xgboost as xgb\n",
    "from catboost import CatBoostRegressor\n",
    "import warnings\n",
    "\n",
    "warnings.filterwarnings('ignore')"
   ]
  },
  {
   "cell_type": "code",
   "execution_count": 2,
   "metadata": {},
   "outputs": [],
   "source": [
    "try:\n",
    "    df = pd.read_csv('/datasets/car_data.csv')\n",
    "except:\n",
    "    df = pd.read_csv(\"https://code.s3.yandex.net///datasets/car_data.csv\")"
   ]
  },
  {
   "cell_type": "code",
   "execution_count": 3,
   "metadata": {},
   "outputs": [
    {
     "name": "stdout",
     "output_type": "stream",
     "text": [
      "<class 'pandas.core.frame.DataFrame'>\n",
      "RangeIndex: 354369 entries, 0 to 354368\n",
      "Data columns (total 16 columns):\n",
      " #   Column             Non-Null Count   Dtype \n",
      "---  ------             --------------   ----- \n",
      " 0   DateCrawled        354369 non-null  object\n",
      " 1   Price              354369 non-null  int64 \n",
      " 2   VehicleType        316879 non-null  object\n",
      " 3   RegistrationYear   354369 non-null  int64 \n",
      " 4   Gearbox            334536 non-null  object\n",
      " 5   Power              354369 non-null  int64 \n",
      " 6   Model              334664 non-null  object\n",
      " 7   Mileage            354369 non-null  int64 \n",
      " 8   RegistrationMonth  354369 non-null  int64 \n",
      " 9   FuelType           321474 non-null  object\n",
      " 10  Brand              354369 non-null  object\n",
      " 11  NotRepaired        283215 non-null  object\n",
      " 12  DateCreated        354369 non-null  object\n",
      " 13  NumberOfPictures   354369 non-null  int64 \n",
      " 14  PostalCode         354369 non-null  int64 \n",
      " 15  LastSeen           354369 non-null  object\n",
      "dtypes: int64(7), object(9)\n",
      "memory usage: 43.3+ MB\n"
     ]
    }
   ],
   "source": [
    "df.info()"
   ]
  },
  {
   "cell_type": "markdown",
   "metadata": {},
   "source": [
    "**Missing values**"
   ]
  },
  {
   "cell_type": "code",
   "execution_count": 4,
   "metadata": {},
   "outputs": [
    {
     "data": {
      "text/plain": [
       "DateCrawled              0\n",
       "Price                    0\n",
       "VehicleType          37490\n",
       "RegistrationYear         0\n",
       "Gearbox              19833\n",
       "Power                    0\n",
       "Model                19705\n",
       "Mileage                  0\n",
       "RegistrationMonth        0\n",
       "FuelType             32895\n",
       "Brand                    0\n",
       "NotRepaired          71154\n",
       "DateCreated              0\n",
       "NumberOfPictures         0\n",
       "PostalCode               0\n",
       "LastSeen                 0\n",
       "dtype: int64"
      ]
     },
     "execution_count": 4,
     "metadata": {},
     "output_type": "execute_result"
    }
   ],
   "source": [
    "df.isna().sum()"
   ]
  },
  {
   "cell_type": "markdown",
   "metadata": {},
   "source": [
    "Most of the missing values make up less than 10 % except for the Not Repaired column."
   ]
  },
  {
   "cell_type": "code",
   "execution_count": 5,
   "metadata": {},
   "outputs": [
    {
     "data": {
      "text/html": [
       "<div>\n",
       "<style scoped>\n",
       "    .dataframe tbody tr th:only-of-type {\n",
       "        vertical-align: middle;\n",
       "    }\n",
       "\n",
       "    .dataframe tbody tr th {\n",
       "        vertical-align: top;\n",
       "    }\n",
       "\n",
       "    .dataframe thead th {\n",
       "        text-align: right;\n",
       "    }\n",
       "</style>\n",
       "<table border=\"1\" class=\"dataframe\">\n",
       "  <thead>\n",
       "    <tr style=\"text-align: right;\">\n",
       "      <th></th>\n",
       "      <th>DateCrawled</th>\n",
       "      <th>Price</th>\n",
       "      <th>VehicleType</th>\n",
       "      <th>RegistrationYear</th>\n",
       "      <th>Gearbox</th>\n",
       "      <th>Power</th>\n",
       "      <th>Model</th>\n",
       "      <th>Mileage</th>\n",
       "      <th>RegistrationMonth</th>\n",
       "      <th>FuelType</th>\n",
       "      <th>Brand</th>\n",
       "      <th>NotRepaired</th>\n",
       "      <th>DateCreated</th>\n",
       "      <th>NumberOfPictures</th>\n",
       "      <th>PostalCode</th>\n",
       "      <th>LastSeen</th>\n",
       "    </tr>\n",
       "  </thead>\n",
       "  <tbody>\n",
       "    <tr>\n",
       "      <th>0</th>\n",
       "      <td>24/03/2016 11:52</td>\n",
       "      <td>480</td>\n",
       "      <td>NaN</td>\n",
       "      <td>1993</td>\n",
       "      <td>manual</td>\n",
       "      <td>0</td>\n",
       "      <td>golf</td>\n",
       "      <td>150000</td>\n",
       "      <td>0</td>\n",
       "      <td>petrol</td>\n",
       "      <td>volkswagen</td>\n",
       "      <td>NaN</td>\n",
       "      <td>24/03/2016 00:00</td>\n",
       "      <td>0</td>\n",
       "      <td>70435</td>\n",
       "      <td>07/04/2016 03:16</td>\n",
       "    </tr>\n",
       "    <tr>\n",
       "      <th>1</th>\n",
       "      <td>24/03/2016 10:58</td>\n",
       "      <td>18300</td>\n",
       "      <td>coupe</td>\n",
       "      <td>2011</td>\n",
       "      <td>manual</td>\n",
       "      <td>190</td>\n",
       "      <td>NaN</td>\n",
       "      <td>125000</td>\n",
       "      <td>5</td>\n",
       "      <td>gasoline</td>\n",
       "      <td>audi</td>\n",
       "      <td>yes</td>\n",
       "      <td>24/03/2016 00:00</td>\n",
       "      <td>0</td>\n",
       "      <td>66954</td>\n",
       "      <td>07/04/2016 01:46</td>\n",
       "    </tr>\n",
       "    <tr>\n",
       "      <th>2</th>\n",
       "      <td>14/03/2016 12:52</td>\n",
       "      <td>9800</td>\n",
       "      <td>suv</td>\n",
       "      <td>2004</td>\n",
       "      <td>auto</td>\n",
       "      <td>163</td>\n",
       "      <td>grand</td>\n",
       "      <td>125000</td>\n",
       "      <td>8</td>\n",
       "      <td>gasoline</td>\n",
       "      <td>jeep</td>\n",
       "      <td>NaN</td>\n",
       "      <td>14/03/2016 00:00</td>\n",
       "      <td>0</td>\n",
       "      <td>90480</td>\n",
       "      <td>05/04/2016 12:47</td>\n",
       "    </tr>\n",
       "    <tr>\n",
       "      <th>3</th>\n",
       "      <td>17/03/2016 16:54</td>\n",
       "      <td>1500</td>\n",
       "      <td>small</td>\n",
       "      <td>2001</td>\n",
       "      <td>manual</td>\n",
       "      <td>75</td>\n",
       "      <td>golf</td>\n",
       "      <td>150000</td>\n",
       "      <td>6</td>\n",
       "      <td>petrol</td>\n",
       "      <td>volkswagen</td>\n",
       "      <td>no</td>\n",
       "      <td>17/03/2016 00:00</td>\n",
       "      <td>0</td>\n",
       "      <td>91074</td>\n",
       "      <td>17/03/2016 17:40</td>\n",
       "    </tr>\n",
       "    <tr>\n",
       "      <th>4</th>\n",
       "      <td>31/03/2016 17:25</td>\n",
       "      <td>3600</td>\n",
       "      <td>small</td>\n",
       "      <td>2008</td>\n",
       "      <td>manual</td>\n",
       "      <td>69</td>\n",
       "      <td>fabia</td>\n",
       "      <td>90000</td>\n",
       "      <td>7</td>\n",
       "      <td>gasoline</td>\n",
       "      <td>skoda</td>\n",
       "      <td>no</td>\n",
       "      <td>31/03/2016 00:00</td>\n",
       "      <td>0</td>\n",
       "      <td>60437</td>\n",
       "      <td>06/04/2016 10:17</td>\n",
       "    </tr>\n",
       "    <tr>\n",
       "      <th>...</th>\n",
       "      <td>...</td>\n",
       "      <td>...</td>\n",
       "      <td>...</td>\n",
       "      <td>...</td>\n",
       "      <td>...</td>\n",
       "      <td>...</td>\n",
       "      <td>...</td>\n",
       "      <td>...</td>\n",
       "      <td>...</td>\n",
       "      <td>...</td>\n",
       "      <td>...</td>\n",
       "      <td>...</td>\n",
       "      <td>...</td>\n",
       "      <td>...</td>\n",
       "      <td>...</td>\n",
       "      <td>...</td>\n",
       "    </tr>\n",
       "    <tr>\n",
       "      <th>354364</th>\n",
       "      <td>21/03/2016 09:50</td>\n",
       "      <td>0</td>\n",
       "      <td>NaN</td>\n",
       "      <td>2005</td>\n",
       "      <td>manual</td>\n",
       "      <td>0</td>\n",
       "      <td>colt</td>\n",
       "      <td>150000</td>\n",
       "      <td>7</td>\n",
       "      <td>petrol</td>\n",
       "      <td>mitsubishi</td>\n",
       "      <td>yes</td>\n",
       "      <td>21/03/2016 00:00</td>\n",
       "      <td>0</td>\n",
       "      <td>2694</td>\n",
       "      <td>21/03/2016 10:42</td>\n",
       "    </tr>\n",
       "    <tr>\n",
       "      <th>354365</th>\n",
       "      <td>14/03/2016 17:48</td>\n",
       "      <td>2200</td>\n",
       "      <td>NaN</td>\n",
       "      <td>2005</td>\n",
       "      <td>NaN</td>\n",
       "      <td>0</td>\n",
       "      <td>NaN</td>\n",
       "      <td>20000</td>\n",
       "      <td>1</td>\n",
       "      <td>NaN</td>\n",
       "      <td>sonstige_autos</td>\n",
       "      <td>NaN</td>\n",
       "      <td>14/03/2016 00:00</td>\n",
       "      <td>0</td>\n",
       "      <td>39576</td>\n",
       "      <td>06/04/2016 00:46</td>\n",
       "    </tr>\n",
       "    <tr>\n",
       "      <th>354366</th>\n",
       "      <td>05/03/2016 19:56</td>\n",
       "      <td>1199</td>\n",
       "      <td>convertible</td>\n",
       "      <td>2000</td>\n",
       "      <td>auto</td>\n",
       "      <td>101</td>\n",
       "      <td>fortwo</td>\n",
       "      <td>125000</td>\n",
       "      <td>3</td>\n",
       "      <td>petrol</td>\n",
       "      <td>smart</td>\n",
       "      <td>no</td>\n",
       "      <td>05/03/2016 00:00</td>\n",
       "      <td>0</td>\n",
       "      <td>26135</td>\n",
       "      <td>11/03/2016 18:17</td>\n",
       "    </tr>\n",
       "    <tr>\n",
       "      <th>354367</th>\n",
       "      <td>19/03/2016 18:57</td>\n",
       "      <td>9200</td>\n",
       "      <td>bus</td>\n",
       "      <td>1996</td>\n",
       "      <td>manual</td>\n",
       "      <td>102</td>\n",
       "      <td>transporter</td>\n",
       "      <td>150000</td>\n",
       "      <td>3</td>\n",
       "      <td>gasoline</td>\n",
       "      <td>volkswagen</td>\n",
       "      <td>no</td>\n",
       "      <td>19/03/2016 00:00</td>\n",
       "      <td>0</td>\n",
       "      <td>87439</td>\n",
       "      <td>07/04/2016 07:15</td>\n",
       "    </tr>\n",
       "    <tr>\n",
       "      <th>354368</th>\n",
       "      <td>20/03/2016 19:41</td>\n",
       "      <td>3400</td>\n",
       "      <td>wagon</td>\n",
       "      <td>2002</td>\n",
       "      <td>manual</td>\n",
       "      <td>100</td>\n",
       "      <td>golf</td>\n",
       "      <td>150000</td>\n",
       "      <td>6</td>\n",
       "      <td>gasoline</td>\n",
       "      <td>volkswagen</td>\n",
       "      <td>NaN</td>\n",
       "      <td>20/03/2016 00:00</td>\n",
       "      <td>0</td>\n",
       "      <td>40764</td>\n",
       "      <td>24/03/2016 12:45</td>\n",
       "    </tr>\n",
       "  </tbody>\n",
       "</table>\n",
       "<p>354369 rows × 16 columns</p>\n",
       "</div>"
      ],
      "text/plain": [
       "             DateCrawled  Price  VehicleType  RegistrationYear Gearbox  Power  \\\n",
       "0       24/03/2016 11:52    480          NaN              1993  manual      0   \n",
       "1       24/03/2016 10:58  18300        coupe              2011  manual    190   \n",
       "2       14/03/2016 12:52   9800          suv              2004    auto    163   \n",
       "3       17/03/2016 16:54   1500        small              2001  manual     75   \n",
       "4       31/03/2016 17:25   3600        small              2008  manual     69   \n",
       "...                  ...    ...          ...               ...     ...    ...   \n",
       "354364  21/03/2016 09:50      0          NaN              2005  manual      0   \n",
       "354365  14/03/2016 17:48   2200          NaN              2005     NaN      0   \n",
       "354366  05/03/2016 19:56   1199  convertible              2000    auto    101   \n",
       "354367  19/03/2016 18:57   9200          bus              1996  manual    102   \n",
       "354368  20/03/2016 19:41   3400        wagon              2002  manual    100   \n",
       "\n",
       "              Model  Mileage  RegistrationMonth  FuelType           Brand  \\\n",
       "0              golf   150000                  0    petrol      volkswagen   \n",
       "1               NaN   125000                  5  gasoline            audi   \n",
       "2             grand   125000                  8  gasoline            jeep   \n",
       "3              golf   150000                  6    petrol      volkswagen   \n",
       "4             fabia    90000                  7  gasoline           skoda   \n",
       "...             ...      ...                ...       ...             ...   \n",
       "354364         colt   150000                  7    petrol      mitsubishi   \n",
       "354365          NaN    20000                  1       NaN  sonstige_autos   \n",
       "354366       fortwo   125000                  3    petrol           smart   \n",
       "354367  transporter   150000                  3  gasoline      volkswagen   \n",
       "354368         golf   150000                  6  gasoline      volkswagen   \n",
       "\n",
       "       NotRepaired       DateCreated  NumberOfPictures  PostalCode  \\\n",
       "0              NaN  24/03/2016 00:00                 0       70435   \n",
       "1              yes  24/03/2016 00:00                 0       66954   \n",
       "2              NaN  14/03/2016 00:00                 0       90480   \n",
       "3               no  17/03/2016 00:00                 0       91074   \n",
       "4               no  31/03/2016 00:00                 0       60437   \n",
       "...            ...               ...               ...         ...   \n",
       "354364         yes  21/03/2016 00:00                 0        2694   \n",
       "354365         NaN  14/03/2016 00:00                 0       39576   \n",
       "354366          no  05/03/2016 00:00                 0       26135   \n",
       "354367          no  19/03/2016 00:00                 0       87439   \n",
       "354368         NaN  20/03/2016 00:00                 0       40764   \n",
       "\n",
       "                LastSeen  \n",
       "0       07/04/2016 03:16  \n",
       "1       07/04/2016 01:46  \n",
       "2       05/04/2016 12:47  \n",
       "3       17/03/2016 17:40  \n",
       "4       06/04/2016 10:17  \n",
       "...                  ...  \n",
       "354364  21/03/2016 10:42  \n",
       "354365  06/04/2016 00:46  \n",
       "354366  11/03/2016 18:17  \n",
       "354367  07/04/2016 07:15  \n",
       "354368  24/03/2016 12:45  \n",
       "\n",
       "[354369 rows x 16 columns]"
      ]
     },
     "execution_count": 5,
     "metadata": {},
     "output_type": "execute_result"
    }
   ],
   "source": [
    "df"
   ]
  },
  {
   "cell_type": "markdown",
   "metadata": {},
   "source": [
    "It is hard to restore model names based on the data we have, so it is better to drop it."
   ]
  },
  {
   "cell_type": "code",
   "execution_count": 6,
   "metadata": {},
   "outputs": [],
   "source": [
    "df = df.loc[~df['Model'].isna()]"
   ]
  },
  {
   "cell_type": "code",
   "execution_count": 7,
   "metadata": {},
   "outputs": [
    {
     "data": {
      "text/plain": [
       "DateCrawled              0\n",
       "Price                    0\n",
       "VehicleType          30662\n",
       "RegistrationYear         0\n",
       "Gearbox              15702\n",
       "Power                    0\n",
       "Model                    0\n",
       "Mileage                  0\n",
       "RegistrationMonth        0\n",
       "FuelType             25732\n",
       "Brand                    0\n",
       "NotRepaired          62100\n",
       "DateCreated              0\n",
       "NumberOfPictures         0\n",
       "PostalCode               0\n",
       "LastSeen                 0\n",
       "dtype: int64"
      ]
     },
     "execution_count": 7,
     "metadata": {},
     "output_type": "execute_result"
    }
   ],
   "source": [
    "df.isna().sum()"
   ]
  },
  {
   "cell_type": "markdown",
   "metadata": {},
   "source": [
    "Car characteristics that are missing can be filled with the most common values for each model."
   ]
  },
  {
   "cell_type": "code",
   "execution_count": 8,
   "metadata": {},
   "outputs": [],
   "source": [
    "df['VehicleType'] = df['VehicleType'].fillna(df.groupby('Model')['VehicleType'].transform(lambda x: x.value_counts().idxmax()))\n",
    "df['Gearbox'] = df['Gearbox'].fillna(df.groupby('Model')['Gearbox'].transform(lambda x: x.value_counts().idxmax()))\n",
    "df['FuelType'] = df['FuelType'].fillna(df.groupby('Model')['FuelType'].transform(lambda x: x.value_counts().idxmax()))"
   ]
  },
  {
   "cell_type": "markdown",
   "metadata": {},
   "source": [
    "**Data types and encoding**"
   ]
  },
  {
   "cell_type": "markdown",
   "metadata": {},
   "source": [
    "DateCrawled is duplicating the data in DateCreated.\n",
    "\n",
    "DateCreated and LastSeen can be presented as days from very first date of profile creation."
   ]
  },
  {
   "cell_type": "code",
   "execution_count": 9,
   "metadata": {},
   "outputs": [],
   "source": [
    "df['DateCreated'] =  pd.to_datetime(df['DateCreated'])\n",
    "df['LastSeen'] =  pd.to_datetime(df['LastSeen']).dt.date\n"
   ]
  },
  {
   "cell_type": "code",
   "execution_count": 10,
   "metadata": {},
   "outputs": [],
   "source": [
    "df['LastSeen'] =  pd.to_datetime(df['LastSeen'])\n",
    "df['min'] = df['DateCreated'].min()\n",
    "df['DateCreated'] = df['DateCreated']-df['min']\n",
    "df['LastSeen'] = df['LastSeen']-df['min']"
   ]
  },
  {
   "cell_type": "code",
   "execution_count": 11,
   "metadata": {},
   "outputs": [],
   "source": [
    "df['LastSeen'] = df['LastSeen'].dt.days.astype('int16')\n",
    "df['DateCreated'] = df['DateCreated'].dt.days.astype('int16')"
   ]
  },
  {
   "cell_type": "code",
   "execution_count": 12,
   "metadata": {},
   "outputs": [
    {
     "data": {
      "text/html": [
       "<div>\n",
       "<style scoped>\n",
       "    .dataframe tbody tr th:only-of-type {\n",
       "        vertical-align: middle;\n",
       "    }\n",
       "\n",
       "    .dataframe tbody tr th {\n",
       "        vertical-align: top;\n",
       "    }\n",
       "\n",
       "    .dataframe thead th {\n",
       "        text-align: right;\n",
       "    }\n",
       "</style>\n",
       "<table border=\"1\" class=\"dataframe\">\n",
       "  <thead>\n",
       "    <tr style=\"text-align: right;\">\n",
       "      <th></th>\n",
       "      <th>DateCrawled</th>\n",
       "      <th>Price</th>\n",
       "      <th>VehicleType</th>\n",
       "      <th>RegistrationYear</th>\n",
       "      <th>Gearbox</th>\n",
       "      <th>Power</th>\n",
       "      <th>Model</th>\n",
       "      <th>Mileage</th>\n",
       "      <th>RegistrationMonth</th>\n",
       "      <th>FuelType</th>\n",
       "      <th>Brand</th>\n",
       "      <th>NotRepaired</th>\n",
       "      <th>DateCreated</th>\n",
       "      <th>NumberOfPictures</th>\n",
       "      <th>PostalCode</th>\n",
       "      <th>LastSeen</th>\n",
       "      <th>min</th>\n",
       "    </tr>\n",
       "  </thead>\n",
       "  <tbody>\n",
       "    <tr>\n",
       "      <th>0</th>\n",
       "      <td>24/03/2016 11:52</td>\n",
       "      <td>480</td>\n",
       "      <td>sedan</td>\n",
       "      <td>1993</td>\n",
       "      <td>manual</td>\n",
       "      <td>0</td>\n",
       "      <td>golf</td>\n",
       "      <td>150000</td>\n",
       "      <td>0</td>\n",
       "      <td>petrol</td>\n",
       "      <td>volkswagen</td>\n",
       "      <td>NaN</td>\n",
       "      <td>538</td>\n",
       "      <td>0</td>\n",
       "      <td>70435</td>\n",
       "      <td>640</td>\n",
       "      <td>2014-10-03</td>\n",
       "    </tr>\n",
       "    <tr>\n",
       "      <th>2</th>\n",
       "      <td>14/03/2016 12:52</td>\n",
       "      <td>9800</td>\n",
       "      <td>suv</td>\n",
       "      <td>2004</td>\n",
       "      <td>auto</td>\n",
       "      <td>163</td>\n",
       "      <td>grand</td>\n",
       "      <td>125000</td>\n",
       "      <td>8</td>\n",
       "      <td>gasoline</td>\n",
       "      <td>jeep</td>\n",
       "      <td>NaN</td>\n",
       "      <td>528</td>\n",
       "      <td>0</td>\n",
       "      <td>90480</td>\n",
       "      <td>579</td>\n",
       "      <td>2014-10-03</td>\n",
       "    </tr>\n",
       "    <tr>\n",
       "      <th>3</th>\n",
       "      <td>17/03/2016 16:54</td>\n",
       "      <td>1500</td>\n",
       "      <td>small</td>\n",
       "      <td>2001</td>\n",
       "      <td>manual</td>\n",
       "      <td>75</td>\n",
       "      <td>golf</td>\n",
       "      <td>150000</td>\n",
       "      <td>6</td>\n",
       "      <td>petrol</td>\n",
       "      <td>volkswagen</td>\n",
       "      <td>no</td>\n",
       "      <td>531</td>\n",
       "      <td>0</td>\n",
       "      <td>91074</td>\n",
       "      <td>531</td>\n",
       "      <td>2014-10-03</td>\n",
       "    </tr>\n",
       "    <tr>\n",
       "      <th>4</th>\n",
       "      <td>31/03/2016 17:25</td>\n",
       "      <td>3600</td>\n",
       "      <td>small</td>\n",
       "      <td>2008</td>\n",
       "      <td>manual</td>\n",
       "      <td>69</td>\n",
       "      <td>fabia</td>\n",
       "      <td>90000</td>\n",
       "      <td>7</td>\n",
       "      <td>gasoline</td>\n",
       "      <td>skoda</td>\n",
       "      <td>no</td>\n",
       "      <td>545</td>\n",
       "      <td>0</td>\n",
       "      <td>60437</td>\n",
       "      <td>610</td>\n",
       "      <td>2014-10-03</td>\n",
       "    </tr>\n",
       "    <tr>\n",
       "      <th>5</th>\n",
       "      <td>04/04/2016 17:36</td>\n",
       "      <td>650</td>\n",
       "      <td>sedan</td>\n",
       "      <td>1995</td>\n",
       "      <td>manual</td>\n",
       "      <td>102</td>\n",
       "      <td>3er</td>\n",
       "      <td>150000</td>\n",
       "      <td>10</td>\n",
       "      <td>petrol</td>\n",
       "      <td>bmw</td>\n",
       "      <td>yes</td>\n",
       "      <td>549</td>\n",
       "      <td>0</td>\n",
       "      <td>33775</td>\n",
       "      <td>610</td>\n",
       "      <td>2014-10-03</td>\n",
       "    </tr>\n",
       "    <tr>\n",
       "      <th>...</th>\n",
       "      <td>...</td>\n",
       "      <td>...</td>\n",
       "      <td>...</td>\n",
       "      <td>...</td>\n",
       "      <td>...</td>\n",
       "      <td>...</td>\n",
       "      <td>...</td>\n",
       "      <td>...</td>\n",
       "      <td>...</td>\n",
       "      <td>...</td>\n",
       "      <td>...</td>\n",
       "      <td>...</td>\n",
       "      <td>...</td>\n",
       "      <td>...</td>\n",
       "      <td>...</td>\n",
       "      <td>...</td>\n",
       "      <td>...</td>\n",
       "    </tr>\n",
       "    <tr>\n",
       "      <th>354363</th>\n",
       "      <td>27/03/2016 20:36</td>\n",
       "      <td>1150</td>\n",
       "      <td>bus</td>\n",
       "      <td>2000</td>\n",
       "      <td>manual</td>\n",
       "      <td>0</td>\n",
       "      <td>zafira</td>\n",
       "      <td>150000</td>\n",
       "      <td>3</td>\n",
       "      <td>petrol</td>\n",
       "      <td>opel</td>\n",
       "      <td>no</td>\n",
       "      <td>541</td>\n",
       "      <td>0</td>\n",
       "      <td>26624</td>\n",
       "      <td>543</td>\n",
       "      <td>2014-10-03</td>\n",
       "    </tr>\n",
       "    <tr>\n",
       "      <th>354364</th>\n",
       "      <td>21/03/2016 09:50</td>\n",
       "      <td>0</td>\n",
       "      <td>sedan</td>\n",
       "      <td>2005</td>\n",
       "      <td>manual</td>\n",
       "      <td>0</td>\n",
       "      <td>colt</td>\n",
       "      <td>150000</td>\n",
       "      <td>7</td>\n",
       "      <td>petrol</td>\n",
       "      <td>mitsubishi</td>\n",
       "      <td>yes</td>\n",
       "      <td>535</td>\n",
       "      <td>0</td>\n",
       "      <td>2694</td>\n",
       "      <td>535</td>\n",
       "      <td>2014-10-03</td>\n",
       "    </tr>\n",
       "    <tr>\n",
       "      <th>354366</th>\n",
       "      <td>05/03/2016 19:56</td>\n",
       "      <td>1199</td>\n",
       "      <td>convertible</td>\n",
       "      <td>2000</td>\n",
       "      <td>auto</td>\n",
       "      <td>101</td>\n",
       "      <td>fortwo</td>\n",
       "      <td>125000</td>\n",
       "      <td>3</td>\n",
       "      <td>petrol</td>\n",
       "      <td>smart</td>\n",
       "      <td>no</td>\n",
       "      <td>578</td>\n",
       "      <td>0</td>\n",
       "      <td>26135</td>\n",
       "      <td>762</td>\n",
       "      <td>2014-10-03</td>\n",
       "    </tr>\n",
       "    <tr>\n",
       "      <th>354367</th>\n",
       "      <td>19/03/2016 18:57</td>\n",
       "      <td>9200</td>\n",
       "      <td>bus</td>\n",
       "      <td>1996</td>\n",
       "      <td>manual</td>\n",
       "      <td>102</td>\n",
       "      <td>transporter</td>\n",
       "      <td>150000</td>\n",
       "      <td>3</td>\n",
       "      <td>gasoline</td>\n",
       "      <td>volkswagen</td>\n",
       "      <td>no</td>\n",
       "      <td>533</td>\n",
       "      <td>0</td>\n",
       "      <td>87439</td>\n",
       "      <td>640</td>\n",
       "      <td>2014-10-03</td>\n",
       "    </tr>\n",
       "    <tr>\n",
       "      <th>354368</th>\n",
       "      <td>20/03/2016 19:41</td>\n",
       "      <td>3400</td>\n",
       "      <td>wagon</td>\n",
       "      <td>2002</td>\n",
       "      <td>manual</td>\n",
       "      <td>100</td>\n",
       "      <td>golf</td>\n",
       "      <td>150000</td>\n",
       "      <td>6</td>\n",
       "      <td>gasoline</td>\n",
       "      <td>volkswagen</td>\n",
       "      <td>NaN</td>\n",
       "      <td>534</td>\n",
       "      <td>0</td>\n",
       "      <td>40764</td>\n",
       "      <td>538</td>\n",
       "      <td>2014-10-03</td>\n",
       "    </tr>\n",
       "  </tbody>\n",
       "</table>\n",
       "<p>334664 rows × 17 columns</p>\n",
       "</div>"
      ],
      "text/plain": [
       "             DateCrawled  Price  VehicleType  RegistrationYear Gearbox  Power  \\\n",
       "0       24/03/2016 11:52    480        sedan              1993  manual      0   \n",
       "2       14/03/2016 12:52   9800          suv              2004    auto    163   \n",
       "3       17/03/2016 16:54   1500        small              2001  manual     75   \n",
       "4       31/03/2016 17:25   3600        small              2008  manual     69   \n",
       "5       04/04/2016 17:36    650        sedan              1995  manual    102   \n",
       "...                  ...    ...          ...               ...     ...    ...   \n",
       "354363  27/03/2016 20:36   1150          bus              2000  manual      0   \n",
       "354364  21/03/2016 09:50      0        sedan              2005  manual      0   \n",
       "354366  05/03/2016 19:56   1199  convertible              2000    auto    101   \n",
       "354367  19/03/2016 18:57   9200          bus              1996  manual    102   \n",
       "354368  20/03/2016 19:41   3400        wagon              2002  manual    100   \n",
       "\n",
       "              Model  Mileage  RegistrationMonth  FuelType       Brand  \\\n",
       "0              golf   150000                  0    petrol  volkswagen   \n",
       "2             grand   125000                  8  gasoline        jeep   \n",
       "3              golf   150000                  6    petrol  volkswagen   \n",
       "4             fabia    90000                  7  gasoline       skoda   \n",
       "5               3er   150000                 10    petrol         bmw   \n",
       "...             ...      ...                ...       ...         ...   \n",
       "354363       zafira   150000                  3    petrol        opel   \n",
       "354364         colt   150000                  7    petrol  mitsubishi   \n",
       "354366       fortwo   125000                  3    petrol       smart   \n",
       "354367  transporter   150000                  3  gasoline  volkswagen   \n",
       "354368         golf   150000                  6  gasoline  volkswagen   \n",
       "\n",
       "       NotRepaired  DateCreated  NumberOfPictures  PostalCode  LastSeen  \\\n",
       "0              NaN          538                 0       70435       640   \n",
       "2              NaN          528                 0       90480       579   \n",
       "3               no          531                 0       91074       531   \n",
       "4               no          545                 0       60437       610   \n",
       "5              yes          549                 0       33775       610   \n",
       "...            ...          ...               ...         ...       ...   \n",
       "354363          no          541                 0       26624       543   \n",
       "354364         yes          535                 0        2694       535   \n",
       "354366          no          578                 0       26135       762   \n",
       "354367          no          533                 0       87439       640   \n",
       "354368         NaN          534                 0       40764       538   \n",
       "\n",
       "              min  \n",
       "0      2014-10-03  \n",
       "2      2014-10-03  \n",
       "3      2014-10-03  \n",
       "4      2014-10-03  \n",
       "5      2014-10-03  \n",
       "...           ...  \n",
       "354363 2014-10-03  \n",
       "354364 2014-10-03  \n",
       "354366 2014-10-03  \n",
       "354367 2014-10-03  \n",
       "354368 2014-10-03  \n",
       "\n",
       "[334664 rows x 17 columns]"
      ]
     },
     "execution_count": 12,
     "metadata": {},
     "output_type": "execute_result"
    }
   ],
   "source": [
    "df"
   ]
  },
  {
   "cell_type": "code",
   "execution_count": 13,
   "metadata": {},
   "outputs": [
    {
     "name": "stdout",
     "output_type": "stream",
     "text": [
      "<class 'pandas.core.frame.DataFrame'>\n",
      "Int64Index: 334664 entries, 0 to 354368\n",
      "Data columns (total 17 columns):\n",
      " #   Column             Non-Null Count   Dtype         \n",
      "---  ------             --------------   -----         \n",
      " 0   DateCrawled        334664 non-null  object        \n",
      " 1   Price              334664 non-null  int64         \n",
      " 2   VehicleType        334664 non-null  object        \n",
      " 3   RegistrationYear   334664 non-null  int64         \n",
      " 4   Gearbox            334664 non-null  object        \n",
      " 5   Power              334664 non-null  int64         \n",
      " 6   Model              334664 non-null  object        \n",
      " 7   Mileage            334664 non-null  int64         \n",
      " 8   RegistrationMonth  334664 non-null  int64         \n",
      " 9   FuelType           334664 non-null  object        \n",
      " 10  Brand              334664 non-null  object        \n",
      " 11  NotRepaired        272564 non-null  object        \n",
      " 12  DateCreated        334664 non-null  int16         \n",
      " 13  NumberOfPictures   334664 non-null  int64         \n",
      " 14  PostalCode         334664 non-null  int64         \n",
      " 15  LastSeen           334664 non-null  int16         \n",
      " 16  min                334664 non-null  datetime64[ns]\n",
      "dtypes: datetime64[ns](1), int16(2), int64(7), object(7)\n",
      "memory usage: 42.1+ MB\n"
     ]
    }
   ],
   "source": [
    "df.info()"
   ]
  },
  {
   "cell_type": "code",
   "execution_count": 14,
   "metadata": {},
   "outputs": [],
   "source": [
    "df_init=df"
   ]
  },
  {
   "cell_type": "code",
   "execution_count": 15,
   "metadata": {},
   "outputs": [
    {
     "data": {
      "text/html": [
       "<div>\n",
       "<style scoped>\n",
       "    .dataframe tbody tr th:only-of-type {\n",
       "        vertical-align: middle;\n",
       "    }\n",
       "\n",
       "    .dataframe tbody tr th {\n",
       "        vertical-align: top;\n",
       "    }\n",
       "\n",
       "    .dataframe thead th {\n",
       "        text-align: right;\n",
       "    }\n",
       "</style>\n",
       "<table border=\"1\" class=\"dataframe\">\n",
       "  <thead>\n",
       "    <tr style=\"text-align: right;\">\n",
       "      <th></th>\n",
       "      <th>DateCrawled</th>\n",
       "      <th>Price</th>\n",
       "      <th>VehicleType</th>\n",
       "      <th>RegistrationYear</th>\n",
       "      <th>Gearbox</th>\n",
       "      <th>Power</th>\n",
       "      <th>Model</th>\n",
       "      <th>Mileage</th>\n",
       "      <th>RegistrationMonth</th>\n",
       "      <th>FuelType</th>\n",
       "      <th>Brand</th>\n",
       "      <th>NotRepaired</th>\n",
       "      <th>DateCreated</th>\n",
       "      <th>NumberOfPictures</th>\n",
       "      <th>PostalCode</th>\n",
       "      <th>LastSeen</th>\n",
       "      <th>min</th>\n",
       "    </tr>\n",
       "  </thead>\n",
       "  <tbody>\n",
       "    <tr>\n",
       "      <th>0</th>\n",
       "      <td>24/03/2016 11:52</td>\n",
       "      <td>480</td>\n",
       "      <td>sedan</td>\n",
       "      <td>1993</td>\n",
       "      <td>manual</td>\n",
       "      <td>0</td>\n",
       "      <td>golf</td>\n",
       "      <td>150000</td>\n",
       "      <td>0</td>\n",
       "      <td>petrol</td>\n",
       "      <td>volkswagen</td>\n",
       "      <td>NaN</td>\n",
       "      <td>538</td>\n",
       "      <td>0</td>\n",
       "      <td>70435</td>\n",
       "      <td>640</td>\n",
       "      <td>2014-10-03</td>\n",
       "    </tr>\n",
       "    <tr>\n",
       "      <th>2</th>\n",
       "      <td>14/03/2016 12:52</td>\n",
       "      <td>9800</td>\n",
       "      <td>suv</td>\n",
       "      <td>2004</td>\n",
       "      <td>auto</td>\n",
       "      <td>163</td>\n",
       "      <td>grand</td>\n",
       "      <td>125000</td>\n",
       "      <td>8</td>\n",
       "      <td>gasoline</td>\n",
       "      <td>jeep</td>\n",
       "      <td>NaN</td>\n",
       "      <td>528</td>\n",
       "      <td>0</td>\n",
       "      <td>90480</td>\n",
       "      <td>579</td>\n",
       "      <td>2014-10-03</td>\n",
       "    </tr>\n",
       "    <tr>\n",
       "      <th>3</th>\n",
       "      <td>17/03/2016 16:54</td>\n",
       "      <td>1500</td>\n",
       "      <td>small</td>\n",
       "      <td>2001</td>\n",
       "      <td>manual</td>\n",
       "      <td>75</td>\n",
       "      <td>golf</td>\n",
       "      <td>150000</td>\n",
       "      <td>6</td>\n",
       "      <td>petrol</td>\n",
       "      <td>volkswagen</td>\n",
       "      <td>no</td>\n",
       "      <td>531</td>\n",
       "      <td>0</td>\n",
       "      <td>91074</td>\n",
       "      <td>531</td>\n",
       "      <td>2014-10-03</td>\n",
       "    </tr>\n",
       "    <tr>\n",
       "      <th>4</th>\n",
       "      <td>31/03/2016 17:25</td>\n",
       "      <td>3600</td>\n",
       "      <td>small</td>\n",
       "      <td>2008</td>\n",
       "      <td>manual</td>\n",
       "      <td>69</td>\n",
       "      <td>fabia</td>\n",
       "      <td>90000</td>\n",
       "      <td>7</td>\n",
       "      <td>gasoline</td>\n",
       "      <td>skoda</td>\n",
       "      <td>no</td>\n",
       "      <td>545</td>\n",
       "      <td>0</td>\n",
       "      <td>60437</td>\n",
       "      <td>610</td>\n",
       "      <td>2014-10-03</td>\n",
       "    </tr>\n",
       "    <tr>\n",
       "      <th>5</th>\n",
       "      <td>04/04/2016 17:36</td>\n",
       "      <td>650</td>\n",
       "      <td>sedan</td>\n",
       "      <td>1995</td>\n",
       "      <td>manual</td>\n",
       "      <td>102</td>\n",
       "      <td>3er</td>\n",
       "      <td>150000</td>\n",
       "      <td>10</td>\n",
       "      <td>petrol</td>\n",
       "      <td>bmw</td>\n",
       "      <td>yes</td>\n",
       "      <td>549</td>\n",
       "      <td>0</td>\n",
       "      <td>33775</td>\n",
       "      <td>610</td>\n",
       "      <td>2014-10-03</td>\n",
       "    </tr>\n",
       "    <tr>\n",
       "      <th>...</th>\n",
       "      <td>...</td>\n",
       "      <td>...</td>\n",
       "      <td>...</td>\n",
       "      <td>...</td>\n",
       "      <td>...</td>\n",
       "      <td>...</td>\n",
       "      <td>...</td>\n",
       "      <td>...</td>\n",
       "      <td>...</td>\n",
       "      <td>...</td>\n",
       "      <td>...</td>\n",
       "      <td>...</td>\n",
       "      <td>...</td>\n",
       "      <td>...</td>\n",
       "      <td>...</td>\n",
       "      <td>...</td>\n",
       "      <td>...</td>\n",
       "    </tr>\n",
       "    <tr>\n",
       "      <th>354363</th>\n",
       "      <td>27/03/2016 20:36</td>\n",
       "      <td>1150</td>\n",
       "      <td>bus</td>\n",
       "      <td>2000</td>\n",
       "      <td>manual</td>\n",
       "      <td>0</td>\n",
       "      <td>zafira</td>\n",
       "      <td>150000</td>\n",
       "      <td>3</td>\n",
       "      <td>petrol</td>\n",
       "      <td>opel</td>\n",
       "      <td>no</td>\n",
       "      <td>541</td>\n",
       "      <td>0</td>\n",
       "      <td>26624</td>\n",
       "      <td>543</td>\n",
       "      <td>2014-10-03</td>\n",
       "    </tr>\n",
       "    <tr>\n",
       "      <th>354364</th>\n",
       "      <td>21/03/2016 09:50</td>\n",
       "      <td>0</td>\n",
       "      <td>sedan</td>\n",
       "      <td>2005</td>\n",
       "      <td>manual</td>\n",
       "      <td>0</td>\n",
       "      <td>colt</td>\n",
       "      <td>150000</td>\n",
       "      <td>7</td>\n",
       "      <td>petrol</td>\n",
       "      <td>mitsubishi</td>\n",
       "      <td>yes</td>\n",
       "      <td>535</td>\n",
       "      <td>0</td>\n",
       "      <td>2694</td>\n",
       "      <td>535</td>\n",
       "      <td>2014-10-03</td>\n",
       "    </tr>\n",
       "    <tr>\n",
       "      <th>354366</th>\n",
       "      <td>05/03/2016 19:56</td>\n",
       "      <td>1199</td>\n",
       "      <td>convertible</td>\n",
       "      <td>2000</td>\n",
       "      <td>auto</td>\n",
       "      <td>101</td>\n",
       "      <td>fortwo</td>\n",
       "      <td>125000</td>\n",
       "      <td>3</td>\n",
       "      <td>petrol</td>\n",
       "      <td>smart</td>\n",
       "      <td>no</td>\n",
       "      <td>578</td>\n",
       "      <td>0</td>\n",
       "      <td>26135</td>\n",
       "      <td>762</td>\n",
       "      <td>2014-10-03</td>\n",
       "    </tr>\n",
       "    <tr>\n",
       "      <th>354367</th>\n",
       "      <td>19/03/2016 18:57</td>\n",
       "      <td>9200</td>\n",
       "      <td>bus</td>\n",
       "      <td>1996</td>\n",
       "      <td>manual</td>\n",
       "      <td>102</td>\n",
       "      <td>transporter</td>\n",
       "      <td>150000</td>\n",
       "      <td>3</td>\n",
       "      <td>gasoline</td>\n",
       "      <td>volkswagen</td>\n",
       "      <td>no</td>\n",
       "      <td>533</td>\n",
       "      <td>0</td>\n",
       "      <td>87439</td>\n",
       "      <td>640</td>\n",
       "      <td>2014-10-03</td>\n",
       "    </tr>\n",
       "    <tr>\n",
       "      <th>354368</th>\n",
       "      <td>20/03/2016 19:41</td>\n",
       "      <td>3400</td>\n",
       "      <td>wagon</td>\n",
       "      <td>2002</td>\n",
       "      <td>manual</td>\n",
       "      <td>100</td>\n",
       "      <td>golf</td>\n",
       "      <td>150000</td>\n",
       "      <td>6</td>\n",
       "      <td>gasoline</td>\n",
       "      <td>volkswagen</td>\n",
       "      <td>NaN</td>\n",
       "      <td>534</td>\n",
       "      <td>0</td>\n",
       "      <td>40764</td>\n",
       "      <td>538</td>\n",
       "      <td>2014-10-03</td>\n",
       "    </tr>\n",
       "  </tbody>\n",
       "</table>\n",
       "<p>334664 rows × 17 columns</p>\n",
       "</div>"
      ],
      "text/plain": [
       "             DateCrawled  Price  VehicleType  RegistrationYear Gearbox  Power  \\\n",
       "0       24/03/2016 11:52    480        sedan              1993  manual      0   \n",
       "2       14/03/2016 12:52   9800          suv              2004    auto    163   \n",
       "3       17/03/2016 16:54   1500        small              2001  manual     75   \n",
       "4       31/03/2016 17:25   3600        small              2008  manual     69   \n",
       "5       04/04/2016 17:36    650        sedan              1995  manual    102   \n",
       "...                  ...    ...          ...               ...     ...    ...   \n",
       "354363  27/03/2016 20:36   1150          bus              2000  manual      0   \n",
       "354364  21/03/2016 09:50      0        sedan              2005  manual      0   \n",
       "354366  05/03/2016 19:56   1199  convertible              2000    auto    101   \n",
       "354367  19/03/2016 18:57   9200          bus              1996  manual    102   \n",
       "354368  20/03/2016 19:41   3400        wagon              2002  manual    100   \n",
       "\n",
       "              Model  Mileage  RegistrationMonth  FuelType       Brand  \\\n",
       "0              golf   150000                  0    petrol  volkswagen   \n",
       "2             grand   125000                  8  gasoline        jeep   \n",
       "3              golf   150000                  6    petrol  volkswagen   \n",
       "4             fabia    90000                  7  gasoline       skoda   \n",
       "5               3er   150000                 10    petrol         bmw   \n",
       "...             ...      ...                ...       ...         ...   \n",
       "354363       zafira   150000                  3    petrol        opel   \n",
       "354364         colt   150000                  7    petrol  mitsubishi   \n",
       "354366       fortwo   125000                  3    petrol       smart   \n",
       "354367  transporter   150000                  3  gasoline  volkswagen   \n",
       "354368         golf   150000                  6  gasoline  volkswagen   \n",
       "\n",
       "       NotRepaired  DateCreated  NumberOfPictures  PostalCode  LastSeen  \\\n",
       "0              NaN          538                 0       70435       640   \n",
       "2              NaN          528                 0       90480       579   \n",
       "3               no          531                 0       91074       531   \n",
       "4               no          545                 0       60437       610   \n",
       "5              yes          549                 0       33775       610   \n",
       "...            ...          ...               ...         ...       ...   \n",
       "354363          no          541                 0       26624       543   \n",
       "354364         yes          535                 0        2694       535   \n",
       "354366          no          578                 0       26135       762   \n",
       "354367          no          533                 0       87439       640   \n",
       "354368         NaN          534                 0       40764       538   \n",
       "\n",
       "              min  \n",
       "0      2014-10-03  \n",
       "2      2014-10-03  \n",
       "3      2014-10-03  \n",
       "4      2014-10-03  \n",
       "5      2014-10-03  \n",
       "...           ...  \n",
       "354363 2014-10-03  \n",
       "354364 2014-10-03  \n",
       "354366 2014-10-03  \n",
       "354367 2014-10-03  \n",
       "354368 2014-10-03  \n",
       "\n",
       "[334664 rows x 17 columns]"
      ]
     },
     "execution_count": 15,
     "metadata": {},
     "output_type": "execute_result"
    }
   ],
   "source": [
    "df_init"
   ]
  },
  {
   "cell_type": "markdown",
   "metadata": {},
   "source": [
    "Dropping all the columns that won't be used in model training."
   ]
  },
  {
   "cell_type": "code",
   "execution_count": 16,
   "metadata": {},
   "outputs": [
    {
     "data": {
      "text/html": [
       "<div>\n",
       "<style scoped>\n",
       "    .dataframe tbody tr th:only-of-type {\n",
       "        vertical-align: middle;\n",
       "    }\n",
       "\n",
       "    .dataframe tbody tr th {\n",
       "        vertical-align: top;\n",
       "    }\n",
       "\n",
       "    .dataframe thead th {\n",
       "        text-align: right;\n",
       "    }\n",
       "</style>\n",
       "<table border=\"1\" class=\"dataframe\">\n",
       "  <thead>\n",
       "    <tr style=\"text-align: right;\">\n",
       "      <th></th>\n",
       "      <th>Price</th>\n",
       "      <th>VehicleType</th>\n",
       "      <th>RegistrationYear</th>\n",
       "      <th>Gearbox</th>\n",
       "      <th>Power</th>\n",
       "      <th>Model</th>\n",
       "      <th>Mileage</th>\n",
       "      <th>FuelType</th>\n",
       "      <th>Brand</th>\n",
       "      <th>NotRepaired</th>\n",
       "      <th>DateCreated</th>\n",
       "      <th>LastSeen</th>\n",
       "    </tr>\n",
       "  </thead>\n",
       "  <tbody>\n",
       "    <tr>\n",
       "      <th>0</th>\n",
       "      <td>480</td>\n",
       "      <td>sedan</td>\n",
       "      <td>1993</td>\n",
       "      <td>manual</td>\n",
       "      <td>0</td>\n",
       "      <td>golf</td>\n",
       "      <td>150000</td>\n",
       "      <td>petrol</td>\n",
       "      <td>volkswagen</td>\n",
       "      <td>NaN</td>\n",
       "      <td>538</td>\n",
       "      <td>640</td>\n",
       "    </tr>\n",
       "    <tr>\n",
       "      <th>2</th>\n",
       "      <td>9800</td>\n",
       "      <td>suv</td>\n",
       "      <td>2004</td>\n",
       "      <td>auto</td>\n",
       "      <td>163</td>\n",
       "      <td>grand</td>\n",
       "      <td>125000</td>\n",
       "      <td>gasoline</td>\n",
       "      <td>jeep</td>\n",
       "      <td>NaN</td>\n",
       "      <td>528</td>\n",
       "      <td>579</td>\n",
       "    </tr>\n",
       "    <tr>\n",
       "      <th>3</th>\n",
       "      <td>1500</td>\n",
       "      <td>small</td>\n",
       "      <td>2001</td>\n",
       "      <td>manual</td>\n",
       "      <td>75</td>\n",
       "      <td>golf</td>\n",
       "      <td>150000</td>\n",
       "      <td>petrol</td>\n",
       "      <td>volkswagen</td>\n",
       "      <td>no</td>\n",
       "      <td>531</td>\n",
       "      <td>531</td>\n",
       "    </tr>\n",
       "    <tr>\n",
       "      <th>4</th>\n",
       "      <td>3600</td>\n",
       "      <td>small</td>\n",
       "      <td>2008</td>\n",
       "      <td>manual</td>\n",
       "      <td>69</td>\n",
       "      <td>fabia</td>\n",
       "      <td>90000</td>\n",
       "      <td>gasoline</td>\n",
       "      <td>skoda</td>\n",
       "      <td>no</td>\n",
       "      <td>545</td>\n",
       "      <td>610</td>\n",
       "    </tr>\n",
       "    <tr>\n",
       "      <th>5</th>\n",
       "      <td>650</td>\n",
       "      <td>sedan</td>\n",
       "      <td>1995</td>\n",
       "      <td>manual</td>\n",
       "      <td>102</td>\n",
       "      <td>3er</td>\n",
       "      <td>150000</td>\n",
       "      <td>petrol</td>\n",
       "      <td>bmw</td>\n",
       "      <td>yes</td>\n",
       "      <td>549</td>\n",
       "      <td>610</td>\n",
       "    </tr>\n",
       "  </tbody>\n",
       "</table>\n",
       "</div>"
      ],
      "text/plain": [
       "   Price VehicleType  RegistrationYear Gearbox  Power  Model  Mileage  \\\n",
       "0    480       sedan              1993  manual      0   golf   150000   \n",
       "2   9800         suv              2004    auto    163  grand   125000   \n",
       "3   1500       small              2001  manual     75   golf   150000   \n",
       "4   3600       small              2008  manual     69  fabia    90000   \n",
       "5    650       sedan              1995  manual    102    3er   150000   \n",
       "\n",
       "   FuelType       Brand NotRepaired  DateCreated  LastSeen  \n",
       "0    petrol  volkswagen         NaN          538       640  \n",
       "2  gasoline        jeep         NaN          528       579  \n",
       "3    petrol  volkswagen          no          531       531  \n",
       "4  gasoline       skoda          no          545       610  \n",
       "5    petrol         bmw         yes          549       610  "
      ]
     },
     "execution_count": 16,
     "metadata": {},
     "output_type": "execute_result"
    }
   ],
   "source": [
    "df = df.drop(['DateCrawled','RegistrationMonth','NumberOfPictures','PostalCode','min'], axis=1)\n",
    "df.head()"
   ]
  },
  {
   "cell_type": "code",
   "execution_count": 17,
   "metadata": {},
   "outputs": [],
   "source": [
    "df['NotRepaired'] = df['NotRepaired'].fillna('unknown')"
   ]
  },
  {
   "cell_type": "code",
   "execution_count": 18,
   "metadata": {},
   "outputs": [
    {
     "data": {
      "text/plain": [
       "volkswagen       73508\n",
       "opel             38060\n",
       "bmw              34979\n",
       "mercedes_benz    30836\n",
       "audi             28173\n",
       "ford             24166\n",
       "renault          17192\n",
       "peugeot          10107\n",
       "fiat              9141\n",
       "seat              6672\n",
       "skoda             5359\n",
       "mazda             5263\n",
       "smart             4978\n",
       "citroen           4899\n",
       "nissan            4734\n",
       "toyota            4449\n",
       "hyundai           3359\n",
       "mini              3140\n",
       "volvo             3101\n",
       "mitsubishi        2862\n",
       "honda             2662\n",
       "kia               2352\n",
       "suzuki            2186\n",
       "alfa_romeo        2177\n",
       "chevrolet         1644\n",
       "chrysler          1350\n",
       "dacia              878\n",
       "daihatsu           767\n",
       "subaru             718\n",
       "porsche            716\n",
       "jeep               651\n",
       "land_rover         532\n",
       "saab               510\n",
       "daewoo             496\n",
       "trabant            494\n",
       "jaguar             491\n",
       "lancia             448\n",
       "rover              404\n",
       "lada               210\n",
       "Name: Brand, dtype: int64"
      ]
     },
     "execution_count": 18,
     "metadata": {},
     "output_type": "execute_result"
    }
   ],
   "source": [
    "df['Brand'].value_counts()"
   ]
  },
  {
   "cell_type": "code",
   "execution_count": 19,
   "metadata": {},
   "outputs": [
    {
     "data": {
      "text/plain": [
       "golf                  29232\n",
       "other                 24421\n",
       "3er                   19761\n",
       "polo                  13066\n",
       "corsa                 12570\n",
       "                      ...  \n",
       "i3                        8\n",
       "serie_3                   4\n",
       "rangerover                4\n",
       "serie_1                   2\n",
       "range_rover_evoque        2\n",
       "Name: Model, Length: 250, dtype: int64"
      ]
     },
     "execution_count": 19,
     "metadata": {},
     "output_type": "execute_result"
    }
   ],
   "source": [
    "df['Model'].value_counts()"
   ]
  },
  {
   "cell_type": "code",
   "execution_count": 20,
   "metadata": {},
   "outputs": [],
   "source": [
    "def ohe (df, column, name):\n",
    "    coded = pd.get_dummies(df[column], prefix=name, drop_first=True)\n",
    "    df = df.drop(column, axis=1)\n",
    "    return df.join(coded)"
   ]
  },
  {
   "cell_type": "code",
   "execution_count": 21,
   "metadata": {},
   "outputs": [],
   "source": [
    "df = ohe(df, 'VehicleType', 'VT')\n",
    "df = ohe(df, 'Gearbox', 'GB')\n",
    "df = ohe(df, 'FuelType', 'FT')\n",
    "df = ohe(df, 'NotRepaired', 'NR')"
   ]
  },
  {
   "cell_type": "code",
   "execution_count": 22,
   "metadata": {},
   "outputs": [
    {
     "data": {
      "text/html": [
       "<div>\n",
       "<style scoped>\n",
       "    .dataframe tbody tr th:only-of-type {\n",
       "        vertical-align: middle;\n",
       "    }\n",
       "\n",
       "    .dataframe tbody tr th {\n",
       "        vertical-align: top;\n",
       "    }\n",
       "\n",
       "    .dataframe thead th {\n",
       "        text-align: right;\n",
       "    }\n",
       "</style>\n",
       "<table border=\"1\" class=\"dataframe\">\n",
       "  <thead>\n",
       "    <tr style=\"text-align: right;\">\n",
       "      <th></th>\n",
       "      <th>Price</th>\n",
       "      <th>RegistrationYear</th>\n",
       "      <th>Power</th>\n",
       "      <th>Model</th>\n",
       "      <th>Mileage</th>\n",
       "      <th>Brand</th>\n",
       "      <th>DateCreated</th>\n",
       "      <th>LastSeen</th>\n",
       "      <th>VT_convertible</th>\n",
       "      <th>VT_coupe</th>\n",
       "      <th>...</th>\n",
       "      <th>VT_wagon</th>\n",
       "      <th>GB_manual</th>\n",
       "      <th>FT_electric</th>\n",
       "      <th>FT_gasoline</th>\n",
       "      <th>FT_hybrid</th>\n",
       "      <th>FT_lpg</th>\n",
       "      <th>FT_other</th>\n",
       "      <th>FT_petrol</th>\n",
       "      <th>NR_unknown</th>\n",
       "      <th>NR_yes</th>\n",
       "    </tr>\n",
       "  </thead>\n",
       "  <tbody>\n",
       "    <tr>\n",
       "      <th>0</th>\n",
       "      <td>480</td>\n",
       "      <td>1993</td>\n",
       "      <td>0</td>\n",
       "      <td>golf</td>\n",
       "      <td>150000</td>\n",
       "      <td>volkswagen</td>\n",
       "      <td>538</td>\n",
       "      <td>640</td>\n",
       "      <td>0</td>\n",
       "      <td>0</td>\n",
       "      <td>...</td>\n",
       "      <td>0</td>\n",
       "      <td>1</td>\n",
       "      <td>0</td>\n",
       "      <td>0</td>\n",
       "      <td>0</td>\n",
       "      <td>0</td>\n",
       "      <td>0</td>\n",
       "      <td>1</td>\n",
       "      <td>1</td>\n",
       "      <td>0</td>\n",
       "    </tr>\n",
       "    <tr>\n",
       "      <th>2</th>\n",
       "      <td>9800</td>\n",
       "      <td>2004</td>\n",
       "      <td>163</td>\n",
       "      <td>grand</td>\n",
       "      <td>125000</td>\n",
       "      <td>jeep</td>\n",
       "      <td>528</td>\n",
       "      <td>579</td>\n",
       "      <td>0</td>\n",
       "      <td>0</td>\n",
       "      <td>...</td>\n",
       "      <td>0</td>\n",
       "      <td>0</td>\n",
       "      <td>0</td>\n",
       "      <td>1</td>\n",
       "      <td>0</td>\n",
       "      <td>0</td>\n",
       "      <td>0</td>\n",
       "      <td>0</td>\n",
       "      <td>1</td>\n",
       "      <td>0</td>\n",
       "    </tr>\n",
       "    <tr>\n",
       "      <th>3</th>\n",
       "      <td>1500</td>\n",
       "      <td>2001</td>\n",
       "      <td>75</td>\n",
       "      <td>golf</td>\n",
       "      <td>150000</td>\n",
       "      <td>volkswagen</td>\n",
       "      <td>531</td>\n",
       "      <td>531</td>\n",
       "      <td>0</td>\n",
       "      <td>0</td>\n",
       "      <td>...</td>\n",
       "      <td>0</td>\n",
       "      <td>1</td>\n",
       "      <td>0</td>\n",
       "      <td>0</td>\n",
       "      <td>0</td>\n",
       "      <td>0</td>\n",
       "      <td>0</td>\n",
       "      <td>1</td>\n",
       "      <td>0</td>\n",
       "      <td>0</td>\n",
       "    </tr>\n",
       "    <tr>\n",
       "      <th>4</th>\n",
       "      <td>3600</td>\n",
       "      <td>2008</td>\n",
       "      <td>69</td>\n",
       "      <td>fabia</td>\n",
       "      <td>90000</td>\n",
       "      <td>skoda</td>\n",
       "      <td>545</td>\n",
       "      <td>610</td>\n",
       "      <td>0</td>\n",
       "      <td>0</td>\n",
       "      <td>...</td>\n",
       "      <td>0</td>\n",
       "      <td>1</td>\n",
       "      <td>0</td>\n",
       "      <td>1</td>\n",
       "      <td>0</td>\n",
       "      <td>0</td>\n",
       "      <td>0</td>\n",
       "      <td>0</td>\n",
       "      <td>0</td>\n",
       "      <td>0</td>\n",
       "    </tr>\n",
       "    <tr>\n",
       "      <th>5</th>\n",
       "      <td>650</td>\n",
       "      <td>1995</td>\n",
       "      <td>102</td>\n",
       "      <td>3er</td>\n",
       "      <td>150000</td>\n",
       "      <td>bmw</td>\n",
       "      <td>549</td>\n",
       "      <td>610</td>\n",
       "      <td>0</td>\n",
       "      <td>0</td>\n",
       "      <td>...</td>\n",
       "      <td>0</td>\n",
       "      <td>1</td>\n",
       "      <td>0</td>\n",
       "      <td>0</td>\n",
       "      <td>0</td>\n",
       "      <td>0</td>\n",
       "      <td>0</td>\n",
       "      <td>1</td>\n",
       "      <td>0</td>\n",
       "      <td>1</td>\n",
       "    </tr>\n",
       "    <tr>\n",
       "      <th>6</th>\n",
       "      <td>2200</td>\n",
       "      <td>2004</td>\n",
       "      <td>109</td>\n",
       "      <td>2_reihe</td>\n",
       "      <td>150000</td>\n",
       "      <td>peugeot</td>\n",
       "      <td>458</td>\n",
       "      <td>579</td>\n",
       "      <td>1</td>\n",
       "      <td>0</td>\n",
       "      <td>...</td>\n",
       "      <td>0</td>\n",
       "      <td>1</td>\n",
       "      <td>0</td>\n",
       "      <td>0</td>\n",
       "      <td>0</td>\n",
       "      <td>0</td>\n",
       "      <td>0</td>\n",
       "      <td>1</td>\n",
       "      <td>0</td>\n",
       "      <td>0</td>\n",
       "    </tr>\n",
       "    <tr>\n",
       "      <th>7</th>\n",
       "      <td>0</td>\n",
       "      <td>1980</td>\n",
       "      <td>50</td>\n",
       "      <td>other</td>\n",
       "      <td>40000</td>\n",
       "      <td>volkswagen</td>\n",
       "      <td>535</td>\n",
       "      <td>539</td>\n",
       "      <td>0</td>\n",
       "      <td>0</td>\n",
       "      <td>...</td>\n",
       "      <td>0</td>\n",
       "      <td>1</td>\n",
       "      <td>0</td>\n",
       "      <td>0</td>\n",
       "      <td>0</td>\n",
       "      <td>0</td>\n",
       "      <td>0</td>\n",
       "      <td>1</td>\n",
       "      <td>0</td>\n",
       "      <td>0</td>\n",
       "    </tr>\n",
       "    <tr>\n",
       "      <th>8</th>\n",
       "      <td>14500</td>\n",
       "      <td>2014</td>\n",
       "      <td>125</td>\n",
       "      <td>c_max</td>\n",
       "      <td>30000</td>\n",
       "      <td>ford</td>\n",
       "      <td>549</td>\n",
       "      <td>549</td>\n",
       "      <td>0</td>\n",
       "      <td>0</td>\n",
       "      <td>...</td>\n",
       "      <td>0</td>\n",
       "      <td>1</td>\n",
       "      <td>0</td>\n",
       "      <td>0</td>\n",
       "      <td>0</td>\n",
       "      <td>0</td>\n",
       "      <td>0</td>\n",
       "      <td>1</td>\n",
       "      <td>1</td>\n",
       "      <td>0</td>\n",
       "    </tr>\n",
       "    <tr>\n",
       "      <th>9</th>\n",
       "      <td>999</td>\n",
       "      <td>1998</td>\n",
       "      <td>101</td>\n",
       "      <td>golf</td>\n",
       "      <td>150000</td>\n",
       "      <td>volkswagen</td>\n",
       "      <td>531</td>\n",
       "      <td>545</td>\n",
       "      <td>0</td>\n",
       "      <td>0</td>\n",
       "      <td>...</td>\n",
       "      <td>0</td>\n",
       "      <td>1</td>\n",
       "      <td>0</td>\n",
       "      <td>0</td>\n",
       "      <td>0</td>\n",
       "      <td>0</td>\n",
       "      <td>0</td>\n",
       "      <td>1</td>\n",
       "      <td>1</td>\n",
       "      <td>0</td>\n",
       "    </tr>\n",
       "    <tr>\n",
       "      <th>10</th>\n",
       "      <td>2000</td>\n",
       "      <td>2004</td>\n",
       "      <td>105</td>\n",
       "      <td>3_reihe</td>\n",
       "      <td>150000</td>\n",
       "      <td>mazda</td>\n",
       "      <td>540</td>\n",
       "      <td>610</td>\n",
       "      <td>0</td>\n",
       "      <td>0</td>\n",
       "      <td>...</td>\n",
       "      <td>0</td>\n",
       "      <td>1</td>\n",
       "      <td>0</td>\n",
       "      <td>0</td>\n",
       "      <td>0</td>\n",
       "      <td>0</td>\n",
       "      <td>0</td>\n",
       "      <td>1</td>\n",
       "      <td>0</td>\n",
       "      <td>0</td>\n",
       "    </tr>\n",
       "  </tbody>\n",
       "</table>\n",
       "<p>10 rows × 24 columns</p>\n",
       "</div>"
      ],
      "text/plain": [
       "    Price  RegistrationYear  Power    Model  Mileage       Brand  DateCreated  \\\n",
       "0     480              1993      0     golf   150000  volkswagen          538   \n",
       "2    9800              2004    163    grand   125000        jeep          528   \n",
       "3    1500              2001     75     golf   150000  volkswagen          531   \n",
       "4    3600              2008     69    fabia    90000       skoda          545   \n",
       "5     650              1995    102      3er   150000         bmw          549   \n",
       "6    2200              2004    109  2_reihe   150000     peugeot          458   \n",
       "7       0              1980     50    other    40000  volkswagen          535   \n",
       "8   14500              2014    125    c_max    30000        ford          549   \n",
       "9     999              1998    101     golf   150000  volkswagen          531   \n",
       "10   2000              2004    105  3_reihe   150000       mazda          540   \n",
       "\n",
       "    LastSeen  VT_convertible  VT_coupe  ...  VT_wagon  GB_manual  FT_electric  \\\n",
       "0        640               0         0  ...         0          1            0   \n",
       "2        579               0         0  ...         0          0            0   \n",
       "3        531               0         0  ...         0          1            0   \n",
       "4        610               0         0  ...         0          1            0   \n",
       "5        610               0         0  ...         0          1            0   \n",
       "6        579               1         0  ...         0          1            0   \n",
       "7        539               0         0  ...         0          1            0   \n",
       "8        549               0         0  ...         0          1            0   \n",
       "9        545               0         0  ...         0          1            0   \n",
       "10       610               0         0  ...         0          1            0   \n",
       "\n",
       "    FT_gasoline  FT_hybrid  FT_lpg  FT_other  FT_petrol  NR_unknown  NR_yes  \n",
       "0             0          0       0         0          1           1       0  \n",
       "2             1          0       0         0          0           1       0  \n",
       "3             0          0       0         0          1           0       0  \n",
       "4             1          0       0         0          0           0       0  \n",
       "5             0          0       0         0          1           0       1  \n",
       "6             0          0       0         0          1           0       0  \n",
       "7             0          0       0         0          1           0       0  \n",
       "8             0          0       0         0          1           1       0  \n",
       "9             0          0       0         0          1           1       0  \n",
       "10            0          0       0         0          1           0       0  \n",
       "\n",
       "[10 rows x 24 columns]"
      ]
     },
     "execution_count": 22,
     "metadata": {},
     "output_type": "execute_result"
    }
   ],
   "source": [
    "df.head(10)"
   ]
  },
  {
   "cell_type": "markdown",
   "metadata": {},
   "source": [
    "For model and Brand columns we shall use target encoding. We will write a function that will perform encoding using smooth mean.\n",
    "We will accept that  we need at least 500 values for the sample mean to overtake the global mean."
   ]
  },
  {
   "cell_type": "code",
   "execution_count": 23,
   "metadata": {},
   "outputs": [],
   "source": [
    "def calc_smooth_mean(df, by, on, m):\n",
    "    # Compute the global mean\n",
    "    mean = df[on].mean()\n",
    "\n",
    "    # Compute the number of values and the mean of each group\n",
    "    agg = df.groupby(by)[on].agg(['count', 'mean'])\n",
    "    counts = agg['count']\n",
    "    means = agg['mean']\n",
    "\n",
    "    # Compute the \"smoothed\" means\n",
    "    smooth = (counts * means + m * mean) / (counts + m)\n",
    "\n",
    "    # Replace each value by the according smoothed mean\n",
    "    return df[by].map(smooth)"
   ]
  },
  {
   "cell_type": "code",
   "execution_count": 24,
   "metadata": {},
   "outputs": [],
   "source": [
    "df['Model'] = calc_smooth_mean(df, by='Model', on='Price', m=500)\n",
    "df['Brand'] = calc_smooth_mean(df, by='Brand', on='Price', m=500)\n",
    "df['Brand'] =df['Brand'].astype(int)\n",
    "df['Model']=df['Model'].astype(int)"
   ]
  },
  {
   "cell_type": "code",
   "execution_count": 25,
   "metadata": {},
   "outputs": [
    {
     "name": "stdout",
     "output_type": "stream",
     "text": [
      "<class 'pandas.core.frame.DataFrame'>\n",
      "Int64Index: 334664 entries, 0 to 354368\n",
      "Data columns (total 24 columns):\n",
      " #   Column            Non-Null Count   Dtype\n",
      "---  ------            --------------   -----\n",
      " 0   Price             334664 non-null  int64\n",
      " 1   RegistrationYear  334664 non-null  int64\n",
      " 2   Power             334664 non-null  int64\n",
      " 3   Model             334664 non-null  int64\n",
      " 4   Mileage           334664 non-null  int64\n",
      " 5   Brand             334664 non-null  int64\n",
      " 6   DateCreated       334664 non-null  int16\n",
      " 7   LastSeen          334664 non-null  int16\n",
      " 8   VT_convertible    334664 non-null  uint8\n",
      " 9   VT_coupe          334664 non-null  uint8\n",
      " 10  VT_other          334664 non-null  uint8\n",
      " 11  VT_sedan          334664 non-null  uint8\n",
      " 12  VT_small          334664 non-null  uint8\n",
      " 13  VT_suv            334664 non-null  uint8\n",
      " 14  VT_wagon          334664 non-null  uint8\n",
      " 15  GB_manual         334664 non-null  uint8\n",
      " 16  FT_electric       334664 non-null  uint8\n",
      " 17  FT_gasoline       334664 non-null  uint8\n",
      " 18  FT_hybrid         334664 non-null  uint8\n",
      " 19  FT_lpg            334664 non-null  uint8\n",
      " 20  FT_other          334664 non-null  uint8\n",
      " 21  FT_petrol         334664 non-null  uint8\n",
      " 22  NR_unknown        334664 non-null  uint8\n",
      " 23  NR_yes            334664 non-null  uint8\n",
      "dtypes: int16(2), int64(6), uint8(16)\n",
      "memory usage: 32.3 MB\n"
     ]
    }
   ],
   "source": [
    "df.info()"
   ]
  },
  {
   "cell_type": "code",
   "execution_count": 26,
   "metadata": {},
   "outputs": [
    {
     "data": {
      "text/html": [
       "<div>\n",
       "<style scoped>\n",
       "    .dataframe tbody tr th:only-of-type {\n",
       "        vertical-align: middle;\n",
       "    }\n",
       "\n",
       "    .dataframe tbody tr th {\n",
       "        vertical-align: top;\n",
       "    }\n",
       "\n",
       "    .dataframe thead th {\n",
       "        text-align: right;\n",
       "    }\n",
       "</style>\n",
       "<table border=\"1\" class=\"dataframe\">\n",
       "  <thead>\n",
       "    <tr style=\"text-align: right;\">\n",
       "      <th></th>\n",
       "      <th>Price</th>\n",
       "      <th>RegistrationYear</th>\n",
       "      <th>Power</th>\n",
       "      <th>Model</th>\n",
       "      <th>Mileage</th>\n",
       "      <th>Brand</th>\n",
       "      <th>DateCreated</th>\n",
       "      <th>LastSeen</th>\n",
       "      <th>VT_convertible</th>\n",
       "      <th>VT_coupe</th>\n",
       "      <th>...</th>\n",
       "      <th>VT_wagon</th>\n",
       "      <th>GB_manual</th>\n",
       "      <th>FT_electric</th>\n",
       "      <th>FT_gasoline</th>\n",
       "      <th>FT_hybrid</th>\n",
       "      <th>FT_lpg</th>\n",
       "      <th>FT_other</th>\n",
       "      <th>FT_petrol</th>\n",
       "      <th>NR_unknown</th>\n",
       "      <th>NR_yes</th>\n",
       "    </tr>\n",
       "  </thead>\n",
       "  <tbody>\n",
       "    <tr>\n",
       "      <th>count</th>\n",
       "      <td>334664.000000</td>\n",
       "      <td>334664.000000</td>\n",
       "      <td>334664.000000</td>\n",
       "      <td>334664.000000</td>\n",
       "      <td>334664.000000</td>\n",
       "      <td>334664.000000</td>\n",
       "      <td>334664.000000</td>\n",
       "      <td>334664.000000</td>\n",
       "      <td>334664.000000</td>\n",
       "      <td>334664.000000</td>\n",
       "      <td>...</td>\n",
       "      <td>334664.000000</td>\n",
       "      <td>334664.000000</td>\n",
       "      <td>334664.000000</td>\n",
       "      <td>334664.000000</td>\n",
       "      <td>334664.000000</td>\n",
       "      <td>334664.000000</td>\n",
       "      <td>334664.000000</td>\n",
       "      <td>334664.000000</td>\n",
       "      <td>334664.000000</td>\n",
       "      <td>334664.000000</td>\n",
       "    </tr>\n",
       "    <tr>\n",
       "      <th>mean</th>\n",
       "      <td>4504.346790</td>\n",
       "      <td>2003.923992</td>\n",
       "      <td>111.373195</td>\n",
       "      <td>4388.516195</td>\n",
       "      <td>128562.588148</td>\n",
       "      <td>4505.189049</td>\n",
       "      <td>571.432027</td>\n",
       "      <td>582.677022</td>\n",
       "      <td>0.058489</td>\n",
       "      <td>0.046707</td>\n",
       "      <td>...</td>\n",
       "      <td>0.198303</td>\n",
       "      <td>0.806513</td>\n",
       "      <td>0.000197</td>\n",
       "      <td>0.300358</td>\n",
       "      <td>0.000622</td>\n",
       "      <td>0.014827</td>\n",
       "      <td>0.000397</td>\n",
       "      <td>0.681974</td>\n",
       "      <td>0.185559</td>\n",
       "      <td>0.100725</td>\n",
       "    </tr>\n",
       "    <tr>\n",
       "      <th>std</th>\n",
       "      <td>4531.438572</td>\n",
       "      <td>69.377219</td>\n",
       "      <td>185.156439</td>\n",
       "      <td>1675.093409</td>\n",
       "      <td>37205.926976</td>\n",
       "      <td>1382.486746</td>\n",
       "      <td>80.339209</td>\n",
       "      <td>63.520443</td>\n",
       "      <td>0.234665</td>\n",
       "      <td>0.211010</td>\n",
       "      <td>...</td>\n",
       "      <td>0.398722</td>\n",
       "      <td>0.395032</td>\n",
       "      <td>0.014042</td>\n",
       "      <td>0.458414</td>\n",
       "      <td>0.024923</td>\n",
       "      <td>0.120860</td>\n",
       "      <td>0.019931</td>\n",
       "      <td>0.465711</td>\n",
       "      <td>0.388751</td>\n",
       "      <td>0.300965</td>\n",
       "    </tr>\n",
       "    <tr>\n",
       "      <th>min</th>\n",
       "      <td>0.000000</td>\n",
       "      <td>1000.000000</td>\n",
       "      <td>0.000000</td>\n",
       "      <td>1668.000000</td>\n",
       "      <td>5000.000000</td>\n",
       "      <td>2368.000000</td>\n",
       "      <td>0.000000</td>\n",
       "      <td>458.000000</td>\n",
       "      <td>0.000000</td>\n",
       "      <td>0.000000</td>\n",
       "      <td>...</td>\n",
       "      <td>0.000000</td>\n",
       "      <td>0.000000</td>\n",
       "      <td>0.000000</td>\n",
       "      <td>0.000000</td>\n",
       "      <td>0.000000</td>\n",
       "      <td>0.000000</td>\n",
       "      <td>0.000000</td>\n",
       "      <td>0.000000</td>\n",
       "      <td>0.000000</td>\n",
       "      <td>0.000000</td>\n",
       "    </tr>\n",
       "    <tr>\n",
       "      <th>25%</th>\n",
       "      <td>1150.000000</td>\n",
       "      <td>1999.000000</td>\n",
       "      <td>70.000000</td>\n",
       "      <td>3143.000000</td>\n",
       "      <td>125000.000000</td>\n",
       "      <td>3263.000000</td>\n",
       "      <td>531.000000</td>\n",
       "      <td>537.000000</td>\n",
       "      <td>0.000000</td>\n",
       "      <td>0.000000</td>\n",
       "      <td>...</td>\n",
       "      <td>0.000000</td>\n",
       "      <td>1.000000</td>\n",
       "      <td>0.000000</td>\n",
       "      <td>0.000000</td>\n",
       "      <td>0.000000</td>\n",
       "      <td>0.000000</td>\n",
       "      <td>0.000000</td>\n",
       "      <td>0.000000</td>\n",
       "      <td>0.000000</td>\n",
       "      <td>0.000000</td>\n",
       "    </tr>\n",
       "    <tr>\n",
       "      <th>50%</th>\n",
       "      <td>2800.000000</td>\n",
       "      <td>2003.000000</td>\n",
       "      <td>105.000000</td>\n",
       "      <td>4185.000000</td>\n",
       "      <td>150000.000000</td>\n",
       "      <td>4480.000000</td>\n",
       "      <td>539.000000</td>\n",
       "      <td>579.000000</td>\n",
       "      <td>0.000000</td>\n",
       "      <td>0.000000</td>\n",
       "      <td>...</td>\n",
       "      <td>0.000000</td>\n",
       "      <td>1.000000</td>\n",
       "      <td>0.000000</td>\n",
       "      <td>0.000000</td>\n",
       "      <td>0.000000</td>\n",
       "      <td>0.000000</td>\n",
       "      <td>0.000000</td>\n",
       "      <td>1.000000</td>\n",
       "      <td>0.000000</td>\n",
       "      <td>0.000000</td>\n",
       "    </tr>\n",
       "    <tr>\n",
       "      <th>75%</th>\n",
       "      <td>6500.000000</td>\n",
       "      <td>2008.000000</td>\n",
       "      <td>143.000000</td>\n",
       "      <td>5418.000000</td>\n",
       "      <td>150000.000000</td>\n",
       "      <td>5967.000000</td>\n",
       "      <td>578.000000</td>\n",
       "      <td>610.000000</td>\n",
       "      <td>0.000000</td>\n",
       "      <td>0.000000</td>\n",
       "      <td>...</td>\n",
       "      <td>0.000000</td>\n",
       "      <td>1.000000</td>\n",
       "      <td>0.000000</td>\n",
       "      <td>1.000000</td>\n",
       "      <td>0.000000</td>\n",
       "      <td>0.000000</td>\n",
       "      <td>0.000000</td>\n",
       "      <td>1.000000</td>\n",
       "      <td>0.000000</td>\n",
       "      <td>0.000000</td>\n",
       "    </tr>\n",
       "    <tr>\n",
       "      <th>max</th>\n",
       "      <td>20000.000000</td>\n",
       "      <td>9999.000000</td>\n",
       "      <td>20000.000000</td>\n",
       "      <td>10255.000000</td>\n",
       "      <td>150000.000000</td>\n",
       "      <td>8555.000000</td>\n",
       "      <td>792.000000</td>\n",
       "      <td>792.000000</td>\n",
       "      <td>1.000000</td>\n",
       "      <td>1.000000</td>\n",
       "      <td>...</td>\n",
       "      <td>1.000000</td>\n",
       "      <td>1.000000</td>\n",
       "      <td>1.000000</td>\n",
       "      <td>1.000000</td>\n",
       "      <td>1.000000</td>\n",
       "      <td>1.000000</td>\n",
       "      <td>1.000000</td>\n",
       "      <td>1.000000</td>\n",
       "      <td>1.000000</td>\n",
       "      <td>1.000000</td>\n",
       "    </tr>\n",
       "  </tbody>\n",
       "</table>\n",
       "<p>8 rows × 24 columns</p>\n",
       "</div>"
      ],
      "text/plain": [
       "               Price  RegistrationYear          Power          Model  \\\n",
       "count  334664.000000     334664.000000  334664.000000  334664.000000   \n",
       "mean     4504.346790       2003.923992     111.373195    4388.516195   \n",
       "std      4531.438572         69.377219     185.156439    1675.093409   \n",
       "min         0.000000       1000.000000       0.000000    1668.000000   \n",
       "25%      1150.000000       1999.000000      70.000000    3143.000000   \n",
       "50%      2800.000000       2003.000000     105.000000    4185.000000   \n",
       "75%      6500.000000       2008.000000     143.000000    5418.000000   \n",
       "max     20000.000000       9999.000000   20000.000000   10255.000000   \n",
       "\n",
       "             Mileage          Brand    DateCreated       LastSeen  \\\n",
       "count  334664.000000  334664.000000  334664.000000  334664.000000   \n",
       "mean   128562.588148    4505.189049     571.432027     582.677022   \n",
       "std     37205.926976    1382.486746      80.339209      63.520443   \n",
       "min      5000.000000    2368.000000       0.000000     458.000000   \n",
       "25%    125000.000000    3263.000000     531.000000     537.000000   \n",
       "50%    150000.000000    4480.000000     539.000000     579.000000   \n",
       "75%    150000.000000    5967.000000     578.000000     610.000000   \n",
       "max    150000.000000    8555.000000     792.000000     792.000000   \n",
       "\n",
       "       VT_convertible       VT_coupe  ...       VT_wagon      GB_manual  \\\n",
       "count   334664.000000  334664.000000  ...  334664.000000  334664.000000   \n",
       "mean         0.058489       0.046707  ...       0.198303       0.806513   \n",
       "std          0.234665       0.211010  ...       0.398722       0.395032   \n",
       "min          0.000000       0.000000  ...       0.000000       0.000000   \n",
       "25%          0.000000       0.000000  ...       0.000000       1.000000   \n",
       "50%          0.000000       0.000000  ...       0.000000       1.000000   \n",
       "75%          0.000000       0.000000  ...       0.000000       1.000000   \n",
       "max          1.000000       1.000000  ...       1.000000       1.000000   \n",
       "\n",
       "         FT_electric    FT_gasoline      FT_hybrid         FT_lpg  \\\n",
       "count  334664.000000  334664.000000  334664.000000  334664.000000   \n",
       "mean        0.000197       0.300358       0.000622       0.014827   \n",
       "std         0.014042       0.458414       0.024923       0.120860   \n",
       "min         0.000000       0.000000       0.000000       0.000000   \n",
       "25%         0.000000       0.000000       0.000000       0.000000   \n",
       "50%         0.000000       0.000000       0.000000       0.000000   \n",
       "75%         0.000000       1.000000       0.000000       0.000000   \n",
       "max         1.000000       1.000000       1.000000       1.000000   \n",
       "\n",
       "            FT_other      FT_petrol     NR_unknown         NR_yes  \n",
       "count  334664.000000  334664.000000  334664.000000  334664.000000  \n",
       "mean        0.000397       0.681974       0.185559       0.100725  \n",
       "std         0.019931       0.465711       0.388751       0.300965  \n",
       "min         0.000000       0.000000       0.000000       0.000000  \n",
       "25%         0.000000       0.000000       0.000000       0.000000  \n",
       "50%         0.000000       1.000000       0.000000       0.000000  \n",
       "75%         0.000000       1.000000       0.000000       0.000000  \n",
       "max         1.000000       1.000000       1.000000       1.000000  \n",
       "\n",
       "[8 rows x 24 columns]"
      ]
     },
     "execution_count": 26,
     "metadata": {},
     "output_type": "execute_result"
    }
   ],
   "source": [
    "df.describe()"
   ]
  },
  {
   "cell_type": "code",
   "execution_count": 27,
   "metadata": {},
   "outputs": [],
   "source": [
    "df = df.drop(df[df.RegistrationYear > 2022].index)"
   ]
  },
  {
   "cell_type": "code",
   "execution_count": 28,
   "metadata": {},
   "outputs": [
    {
     "data": {
      "text/plain": [
       "<AxesSubplot:>"
      ]
     },
     "execution_count": 28,
     "metadata": {},
     "output_type": "execute_result"
    },
    {
     "data": {
      "image/png": "[encoded data removed]",
      "text/plain": [
       "<Figure size 432x288 with 1 Axes>"
      ]
     },
     "metadata": {
      "needs_background": "light"
     },
     "output_type": "display_data"
    }
   ],
   "source": [
    "plt.figure()\n",
    "df.boxplot(['Power'])"
   ]
  },
  {
   "cell_type": "code",
   "execution_count": 29,
   "metadata": {},
   "outputs": [
    {
     "data": {
      "text/plain": [
       "299.0"
      ]
     },
     "execution_count": 29,
     "metadata": {},
     "output_type": "execute_result"
    }
   ],
   "source": [
    "df['Power'].quantile(0.99)"
   ]
  },
  {
   "cell_type": "code",
   "execution_count": 30,
   "metadata": {},
   "outputs": [
    {
     "name": "stdout",
     "output_type": "stream",
     "text": [
      "<class 'pandas.core.frame.DataFrame'>\n",
      "Int64Index: 334498 entries, 0 to 354368\n",
      "Data columns (total 24 columns):\n",
      " #   Column            Non-Null Count   Dtype\n",
      "---  ------            --------------   -----\n",
      " 0   Price             334498 non-null  int64\n",
      " 1   RegistrationYear  334498 non-null  int64\n",
      " 2   Power             334498 non-null  int64\n",
      " 3   Model             334498 non-null  int64\n",
      " 4   Mileage           334498 non-null  int64\n",
      " 5   Brand             334498 non-null  int64\n",
      " 6   DateCreated       334498 non-null  int16\n",
      " 7   LastSeen          334498 non-null  int16\n",
      " 8   VT_convertible    334498 non-null  uint8\n",
      " 9   VT_coupe          334498 non-null  uint8\n",
      " 10  VT_other          334498 non-null  uint8\n",
      " 11  VT_sedan          334498 non-null  uint8\n",
      " 12  VT_small          334498 non-null  uint8\n",
      " 13  VT_suv            334498 non-null  uint8\n",
      " 14  VT_wagon          334498 non-null  uint8\n",
      " 15  GB_manual         334498 non-null  uint8\n",
      " 16  FT_electric       334498 non-null  uint8\n",
      " 17  FT_gasoline       334498 non-null  uint8\n",
      " 18  FT_hybrid         334498 non-null  uint8\n",
      " 19  FT_lpg            334498 non-null  uint8\n",
      " 20  FT_other          334498 non-null  uint8\n",
      " 21  FT_petrol         334498 non-null  uint8\n",
      " 22  NR_unknown        334498 non-null  uint8\n",
      " 23  NR_yes            334498 non-null  uint8\n",
      "dtypes: int16(2), int64(6), uint8(16)\n",
      "memory usage: 24.2 MB\n"
     ]
    }
   ],
   "source": [
    "df = df.drop(df[df.Power > 2000].index)\n",
    "df.info()"
   ]
  },
  {
   "cell_type": "code",
   "execution_count": 31,
   "metadata": {},
   "outputs": [
    {
     "data": {
      "text/plain": [
       "18800.0"
      ]
     },
     "execution_count": 31,
     "metadata": {},
     "output_type": "execute_result"
    }
   ],
   "source": [
    "df['Price'].quantile(0.99)"
   ]
  },
  {
   "cell_type": "markdown",
   "metadata": {},
   "source": [
    "## Model training"
   ]
  },
  {
   "cell_type": "code",
   "execution_count": 42,
   "metadata": {},
   "outputs": [],
   "source": [
    "def eval_regressor(y_true, y_pred):\n",
    "    \n",
    "    rmse = np.sqrt(mean_squared_error(y_true, y_pred))\n",
    "    #sqrt(mean_squared_error(y_actual, y_predicted))\n",
    "    #print(f'RMSE: {rmse:.2f}')\n",
    "    return rmse"
   ]
  },
  {
   "cell_type": "code",
   "execution_count": 33,
   "metadata": {},
   "outputs": [],
   "source": [
    "X = df.drop('Price', axis=1)\n",
    "y = df['Price']"
   ]
  },
  {
   "cell_type": "code",
   "execution_count": 34,
   "metadata": {},
   "outputs": [],
   "source": [
    "X_train, X_test, y_train, y_test = train_test_split(X,y, train_size=0.8,random_state=12345)"
   ]
  },
  {
   "cell_type": "code",
   "execution_count": 35,
   "metadata": {},
   "outputs": [],
   "source": [
    "ss = StandardScaler()\n",
    "ss.fit(X_train)\n",
    "columns = X_train.columns\n",
    "X_train = pd.DataFrame(ss.transform(X_train), columns = columns)\n",
    "X_test = pd.DataFrame(ss.transform(X_test), columns = columns)"
   ]
  },
  {
   "cell_type": "code",
   "execution_count": 43,
   "metadata": {},
   "outputs": [
    {
     "data": {
      "text/plain": [
       "3054.475170145372"
      ]
     },
     "execution_count": 43,
     "metadata": {},
     "output_type": "execute_result"
    }
   ],
   "source": [
    "reg = LinearRegression().fit(X_train, y_train)\n",
    "pred_lr = reg.predict(X_test)\n",
    "accuracy_lr = eval_regressor(y_test, pred_lr)\n",
    "accuracy_lr"
   ]
  },
  {
   "cell_type": "code",
   "execution_count": 44,
   "metadata": {},
   "outputs": [
    {
     "data": {
      "text/plain": [
       "2277.224025759368"
      ]
     },
     "execution_count": 44,
     "metadata": {},
     "output_type": "execute_result"
    }
   ],
   "source": [
    "model_dt = DecisionTreeRegressor(random_state=12345)\n",
    "model_dt.fit(X_train, y_train)\n",
    "predictions_dt = model_dt.predict(X_test)\n",
    "accuracy_dt = eval_regressor(y_test, predictions_dt)\n",
    "accuracy_dt"
   ]
  },
  {
   "cell_type": "code",
   "execution_count": 45,
   "metadata": {},
   "outputs": [],
   "source": [
    "rmse = make_scorer(eval_regressor, greater_is_better=False)"
   ]
  },
  {
   "cell_type": "code",
   "execution_count": 46,
   "metadata": {},
   "outputs": [],
   "source": [
    "def train_fit_score(model, params, name):\n",
    "    model = GridSearchCV(model, param_grid=params, cv=5, scoring=rmse, verbose=0, refit=True)\n",
    "    model.fit(X_train, y_train)\n",
    "    return pd.DataFrame([[name, abs(model.best_score_), model.best_params_]], columns=['Estimator', 'Best Score', 'Best Params'])"
   ]
  },
  {
   "cell_type": "code",
   "execution_count": 47,
   "metadata": {},
   "outputs": [
    {
     "name": "stdout",
     "output_type": "stream",
     "text": [
      "CPU times: user 1.96 s, sys: 1.24 s, total: 3.2 s\n",
      "Wall time: 3.2 s\n"
     ]
    }
   ],
   "source": [
    "%%time\n",
    "#Create Linear Regressor\n",
    "LinearRegressor = train_fit_score(LinearRegression(), {}, 'Linear Regressor')"
   ]
  },
  {
   "cell_type": "code",
   "execution_count": 48,
   "metadata": {},
   "outputs": [
    {
     "data": {
      "text/html": [
       "<div>\n",
       "<style scoped>\n",
       "    .dataframe tbody tr th:only-of-type {\n",
       "        vertical-align: middle;\n",
       "    }\n",
       "\n",
       "    .dataframe tbody tr th {\n",
       "        vertical-align: top;\n",
       "    }\n",
       "\n",
       "    .dataframe thead th {\n",
       "        text-align: right;\n",
       "    }\n",
       "</style>\n",
       "<table border=\"1\" class=\"dataframe\">\n",
       "  <thead>\n",
       "    <tr style=\"text-align: right;\">\n",
       "      <th></th>\n",
       "      <th>Estimator</th>\n",
       "      <th>Best Score</th>\n",
       "      <th>Best Params</th>\n",
       "    </tr>\n",
       "  </thead>\n",
       "  <tbody>\n",
       "    <tr>\n",
       "      <th>0</th>\n",
       "      <td>Linear Regressor</td>\n",
       "      <td>3056.53704</td>\n",
       "      <td>{}</td>\n",
       "    </tr>\n",
       "  </tbody>\n",
       "</table>\n",
       "</div>"
      ],
      "text/plain": [
       "          Estimator  Best Score Best Params\n",
       "0  Linear Regressor  3056.53704          {}"
      ]
     },
     "execution_count": 48,
     "metadata": {},
     "output_type": "execute_result"
    }
   ],
   "source": [
    "LinearRegressor"
   ]
  },
  {
   "cell_type": "code",
   "execution_count": 49,
   "metadata": {},
   "outputs": [
    {
     "name": "stdout",
     "output_type": "stream",
     "text": [
      "CPU times: user 1min 7s, sys: 2.02 s, total: 1min 9s\n",
      "Wall time: 1min 10s\n"
     ]
    }
   ],
   "source": [
    "%%time\n",
    "DecisionTree =train_fit_score(DecisionTreeRegressor(random_state=12345),\n",
    "                              {\"max_depth\" : [1,5,12],\n",
    "                               \"min_samples_leaf\":[1,5,10],\n",
    "                               \"max_leaf_nodes\":[None,10,50,90] }, 'Decision Tree')"
   ]
  },
  {
   "cell_type": "code",
   "execution_count": 50,
   "metadata": {},
   "outputs": [
    {
     "data": {
      "text/html": [
       "<div>\n",
       "<style scoped>\n",
       "    .dataframe tbody tr th:only-of-type {\n",
       "        vertical-align: middle;\n",
       "    }\n",
       "\n",
       "    .dataframe tbody tr th {\n",
       "        vertical-align: top;\n",
       "    }\n",
       "\n",
       "    .dataframe thead th {\n",
       "        text-align: right;\n",
       "    }\n",
       "</style>\n",
       "<table border=\"1\" class=\"dataframe\">\n",
       "  <thead>\n",
       "    <tr style=\"text-align: right;\">\n",
       "      <th></th>\n",
       "      <th>Estimator</th>\n",
       "      <th>Best Score</th>\n",
       "      <th>Best Params</th>\n",
       "    </tr>\n",
       "  </thead>\n",
       "  <tbody>\n",
       "    <tr>\n",
       "      <th>0</th>\n",
       "      <td>Decision Tree</td>\n",
       "      <td>1955.025832</td>\n",
       "      <td>{'max_depth': 12, 'max_leaf_nodes': None, 'min...</td>\n",
       "    </tr>\n",
       "  </tbody>\n",
       "</table>\n",
       "</div>"
      ],
      "text/plain": [
       "       Estimator   Best Score  \\\n",
       "0  Decision Tree  1955.025832   \n",
       "\n",
       "                                         Best Params  \n",
       "0  {'max_depth': 12, 'max_leaf_nodes': None, 'min...  "
      ]
     },
     "execution_count": 50,
     "metadata": {},
     "output_type": "execute_result"
    }
   ],
   "source": [
    "DecisionTree"
   ]
  },
  {
   "cell_type": "code",
   "execution_count": 51,
   "metadata": {},
   "outputs": [
    {
     "name": "stdout",
     "output_type": "stream",
     "text": [
      "CPU times: user 56min 46s, sys: 20.8 s, total: 57min 7s\n",
      "Wall time: 57min 8s\n"
     ]
    }
   ],
   "source": [
    "%%time\n",
    "RandomForest = train_fit_score(RandomForestRegressor(random_state=12345), \n",
    "                       {'n_estimators' : range(10, 85, 25),\n",
    "                        'max_depth' : range(5, 45, 10),\n",
    "                        'min_impurity_decrease' : np.arange(.05, .25, .1)}, 'Random Forest')"
   ]
  },
  {
   "cell_type": "code",
   "execution_count": 52,
   "metadata": {},
   "outputs": [
    {
     "data": {
      "text/html": [
       "<div>\n",
       "<style scoped>\n",
       "    .dataframe tbody tr th:only-of-type {\n",
       "        vertical-align: middle;\n",
       "    }\n",
       "\n",
       "    .dataframe tbody tr th {\n",
       "        vertical-align: top;\n",
       "    }\n",
       "\n",
       "    .dataframe thead th {\n",
       "        text-align: right;\n",
       "    }\n",
       "</style>\n",
       "<table border=\"1\" class=\"dataframe\">\n",
       "  <thead>\n",
       "    <tr style=\"text-align: right;\">\n",
       "      <th></th>\n",
       "      <th>Best Score</th>\n",
       "    </tr>\n",
       "    <tr>\n",
       "      <th>Estimator</th>\n",
       "      <th></th>\n",
       "    </tr>\n",
       "  </thead>\n",
       "  <tbody>\n",
       "    <tr>\n",
       "      <th>Linear Regressor</th>\n",
       "      <td>3056.54</td>\n",
       "    </tr>\n",
       "    <tr>\n",
       "      <th>Decision Tree</th>\n",
       "      <td>1955.03</td>\n",
       "    </tr>\n",
       "    <tr>\n",
       "      <th>Random Forest</th>\n",
       "      <td>1704.34</td>\n",
       "    </tr>\n",
       "  </tbody>\n",
       "</table>\n",
       "</div>"
      ],
      "text/plain": [
       "                  Best Score\n",
       "Estimator                   \n",
       "Linear Regressor     3056.54\n",
       "Decision Tree        1955.03\n",
       "Random Forest        1704.34"
      ]
     },
     "metadata": {},
     "output_type": "display_data"
    }
   ],
   "source": [
    "scores = pd.concat([LinearRegressor,DecisionTree, RandomForest]).set_index('Estimator')\n",
    "scores['Best Score'] = scores['Best Score'].round(2)\n",
    "display(scores.drop('Best Params', axis=1))"
   ]
  },
  {
   "cell_type": "markdown",
   "metadata": {},
   "source": [
    "**Gradient boosting**"
   ]
  },
  {
   "cell_type": "code",
   "execution_count": 53,
   "metadata": {},
   "outputs": [
    {
     "name": "stdout",
     "output_type": "stream",
     "text": [
      "\n",
      "LGBMRegressor(random_state=12345)\n",
      "1765.8012201531699\n",
      "CPU times: user 2min 58s, sys: 1.12 s, total: 2min 59s\n",
      "Wall time: 3min 1s\n"
     ]
    }
   ],
   "source": [
    "%%time\n",
    "lgbm = ltb.LGBMRegressor(random_state=12345)\n",
    "lgbm.fit(X_train, y_train)\n",
    "print(); print(lgbm)\n",
    "\n",
    "expected_y  = y_test\n",
    "predicted_y = lgbm.predict(X_test)\n",
    "\n",
    "print(eval_regressor(expected_y, predicted_y))\n",
    "\n",
    "\n",
    " "
   ]
  },
  {
   "cell_type": "code",
   "execution_count": 54,
   "metadata": {},
   "outputs": [
    {
     "name": "stdout",
     "output_type": "stream",
     "text": [
      "[LightGBM] [Warning] min_data_in_leaf is set=20, min_child_samples=20 will be ignored. Current value: min_data_in_leaf=20\n",
      "[LightGBM] [Warning] min_data_in_leaf is set=20, min_child_samples=20 will be ignored. Current value: min_data_in_leaf=20\n",
      "[LightGBM] [Warning] min_data_in_leaf is set=20, min_child_samples=20 will be ignored. Current value: min_data_in_leaf=20\n",
      "[LightGBM] [Warning] min_data_in_leaf is set=20, min_child_samples=20 will be ignored. Current value: min_data_in_leaf=20\n",
      "[LightGBM] [Warning] min_data_in_leaf is set=20, min_child_samples=20 will be ignored. Current value: min_data_in_leaf=20\n",
      "[LightGBM] [Warning] min_data_in_leaf is set=20, min_child_samples=20 will be ignored. Current value: min_data_in_leaf=20\n",
      "[LightGBM] [Warning] min_data_in_leaf is set=20, min_child_samples=20 will be ignored. Current value: min_data_in_leaf=20\n",
      "[LightGBM] [Warning] min_data_in_leaf is set=20, min_child_samples=20 will be ignored. Current value: min_data_in_leaf=20\n",
      "[LightGBM] [Warning] min_data_in_leaf is set=20, min_child_samples=20 will be ignored. Current value: min_data_in_leaf=20\n",
      "[LightGBM] [Warning] min_data_in_leaf is set=20, min_child_samples=20 will be ignored. Current value: min_data_in_leaf=20\n",
      "[LightGBM] [Warning] min_data_in_leaf is set=20, min_child_samples=20 will be ignored. Current value: min_data_in_leaf=20\n",
      "[LightGBM] [Warning] min_data_in_leaf is set=20, min_child_samples=20 will be ignored. Current value: min_data_in_leaf=20\n",
      "[LightGBM] [Warning] min_data_in_leaf is set=20, min_child_samples=20 will be ignored. Current value: min_data_in_leaf=20\n",
      "[LightGBM] [Warning] min_data_in_leaf is set=20, min_child_samples=20 will be ignored. Current value: min_data_in_leaf=20\n",
      "[LightGBM] [Warning] min_data_in_leaf is set=20, min_child_samples=20 will be ignored. Current value: min_data_in_leaf=20\n",
      "[LightGBM] [Warning] min_data_in_leaf is set=220, min_child_samples=20 will be ignored. Current value: min_data_in_leaf=220\n",
      "[LightGBM] [Warning] min_data_in_leaf is set=220, min_child_samples=20 will be ignored. Current value: min_data_in_leaf=220\n",
      "[LightGBM] [Warning] min_data_in_leaf is set=220, min_child_samples=20 will be ignored. Current value: min_data_in_leaf=220\n",
      "[LightGBM] [Warning] min_data_in_leaf is set=220, min_child_samples=20 will be ignored. Current value: min_data_in_leaf=220\n",
      "[LightGBM] [Warning] min_data_in_leaf is set=220, min_child_samples=20 will be ignored. Current value: min_data_in_leaf=220\n",
      "[LightGBM] [Warning] min_data_in_leaf is set=220, min_child_samples=20 will be ignored. Current value: min_data_in_leaf=220\n",
      "[LightGBM] [Warning] min_data_in_leaf is set=220, min_child_samples=20 will be ignored. Current value: min_data_in_leaf=220\n",
      "[LightGBM] [Warning] min_data_in_leaf is set=220, min_child_samples=20 will be ignored. Current value: min_data_in_leaf=220\n",
      "[LightGBM] [Warning] min_data_in_leaf is set=220, min_child_samples=20 will be ignored. Current value: min_data_in_leaf=220\n",
      "[LightGBM] [Warning] min_data_in_leaf is set=220, min_child_samples=20 will be ignored. Current value: min_data_in_leaf=220\n",
      "[LightGBM] [Warning] min_data_in_leaf is set=220, min_child_samples=20 will be ignored. Current value: min_data_in_leaf=220\n",
      "[LightGBM] [Warning] min_data_in_leaf is set=220, min_child_samples=20 will be ignored. Current value: min_data_in_leaf=220\n",
      "[LightGBM] [Warning] min_data_in_leaf is set=220, min_child_samples=20 will be ignored. Current value: min_data_in_leaf=220\n",
      "[LightGBM] [Warning] min_data_in_leaf is set=220, min_child_samples=20 will be ignored. Current value: min_data_in_leaf=220\n",
      "[LightGBM] [Warning] min_data_in_leaf is set=220, min_child_samples=20 will be ignored. Current value: min_data_in_leaf=220\n",
      "[LightGBM] [Warning] min_data_in_leaf is set=20, min_child_samples=20 will be ignored. Current value: min_data_in_leaf=20\n",
      "[LightGBM] [Warning] min_data_in_leaf is set=20, min_child_samples=20 will be ignored. Current value: min_data_in_leaf=20\n",
      "[LightGBM] [Warning] min_data_in_leaf is set=20, min_child_samples=20 will be ignored. Current value: min_data_in_leaf=20\n",
      "[LightGBM] [Warning] min_data_in_leaf is set=20, min_child_samples=20 will be ignored. Current value: min_data_in_leaf=20\n",
      "[LightGBM] [Warning] min_data_in_leaf is set=20, min_child_samples=20 will be ignored. Current value: min_data_in_leaf=20\n",
      "[LightGBM] [Warning] min_data_in_leaf is set=20, min_child_samples=20 will be ignored. Current value: min_data_in_leaf=20\n",
      "[LightGBM] [Warning] min_data_in_leaf is set=20, min_child_samples=20 will be ignored. Current value: min_data_in_leaf=20\n",
      "[LightGBM] [Warning] min_data_in_leaf is set=20, min_child_samples=20 will be ignored. Current value: min_data_in_leaf=20\n",
      "[LightGBM] [Warning] min_data_in_leaf is set=20, min_child_samples=20 will be ignored. Current value: min_data_in_leaf=20\n",
      "[LightGBM] [Warning] min_data_in_leaf is set=20, min_child_samples=20 will be ignored. Current value: min_data_in_leaf=20\n",
      "[LightGBM] [Warning] min_data_in_leaf is set=20, min_child_samples=20 will be ignored. Current value: min_data_in_leaf=20\n",
      "[LightGBM] [Warning] min_data_in_leaf is set=20, min_child_samples=20 will be ignored. Current value: min_data_in_leaf=20\n",
      "[LightGBM] [Warning] min_data_in_leaf is set=20, min_child_samples=20 will be ignored. Current value: min_data_in_leaf=20\n",
      "[LightGBM] [Warning] min_data_in_leaf is set=20, min_child_samples=20 will be ignored. Current value: min_data_in_leaf=20\n",
      "[LightGBM] [Warning] min_data_in_leaf is set=20, min_child_samples=20 will be ignored. Current value: min_data_in_leaf=20\n",
      "[LightGBM] [Warning] min_data_in_leaf is set=220, min_child_samples=20 will be ignored. Current value: min_data_in_leaf=220\n",
      "[LightGBM] [Warning] min_data_in_leaf is set=220, min_child_samples=20 will be ignored. Current value: min_data_in_leaf=220\n",
      "[LightGBM] [Warning] min_data_in_leaf is set=220, min_child_samples=20 will be ignored. Current value: min_data_in_leaf=220\n",
      "[LightGBM] [Warning] min_data_in_leaf is set=220, min_child_samples=20 will be ignored. Current value: min_data_in_leaf=220\n",
      "[LightGBM] [Warning] min_data_in_leaf is set=220, min_child_samples=20 will be ignored. Current value: min_data_in_leaf=220\n",
      "[LightGBM] [Warning] min_data_in_leaf is set=220, min_child_samples=20 will be ignored. Current value: min_data_in_leaf=220\n",
      "[LightGBM] [Warning] min_data_in_leaf is set=220, min_child_samples=20 will be ignored. Current value: min_data_in_leaf=220\n",
      "[LightGBM] [Warning] min_data_in_leaf is set=220, min_child_samples=20 will be ignored. Current value: min_data_in_leaf=220\n",
      "[LightGBM] [Warning] min_data_in_leaf is set=220, min_child_samples=20 will be ignored. Current value: min_data_in_leaf=220\n",
      "[LightGBM] [Warning] min_data_in_leaf is set=220, min_child_samples=20 will be ignored. Current value: min_data_in_leaf=220\n",
      "[LightGBM] [Warning] min_data_in_leaf is set=220, min_child_samples=20 will be ignored. Current value: min_data_in_leaf=220\n",
      "[LightGBM] [Warning] min_data_in_leaf is set=220, min_child_samples=20 will be ignored. Current value: min_data_in_leaf=220\n",
      "[LightGBM] [Warning] min_data_in_leaf is set=220, min_child_samples=20 will be ignored. Current value: min_data_in_leaf=220\n",
      "[LightGBM] [Warning] min_data_in_leaf is set=220, min_child_samples=20 will be ignored. Current value: min_data_in_leaf=220\n",
      "[LightGBM] [Warning] min_data_in_leaf is set=220, min_child_samples=20 will be ignored. Current value: min_data_in_leaf=220\n",
      "[LightGBM] [Warning] min_data_in_leaf is set=20, min_child_samples=20 will be ignored. Current value: min_data_in_leaf=20\n",
      "[LightGBM] [Warning] min_data_in_leaf is set=20, min_child_samples=20 will be ignored. Current value: min_data_in_leaf=20\n",
      "[LightGBM] [Warning] min_data_in_leaf is set=20, min_child_samples=20 will be ignored. Current value: min_data_in_leaf=20\n",
      "[LightGBM] [Warning] min_data_in_leaf is set=20, min_child_samples=20 will be ignored. Current value: min_data_in_leaf=20\n",
      "[LightGBM] [Warning] min_data_in_leaf is set=20, min_child_samples=20 will be ignored. Current value: min_data_in_leaf=20\n",
      "[LightGBM] [Warning] min_data_in_leaf is set=20, min_child_samples=20 will be ignored. Current value: min_data_in_leaf=20\n",
      "[LightGBM] [Warning] min_data_in_leaf is set=20, min_child_samples=20 will be ignored. Current value: min_data_in_leaf=20\n",
      "[LightGBM] [Warning] min_data_in_leaf is set=20, min_child_samples=20 will be ignored. Current value: min_data_in_leaf=20\n",
      "[LightGBM] [Warning] min_data_in_leaf is set=20, min_child_samples=20 will be ignored. Current value: min_data_in_leaf=20\n",
      "[LightGBM] [Warning] min_data_in_leaf is set=20, min_child_samples=20 will be ignored. Current value: min_data_in_leaf=20\n",
      "[LightGBM] [Warning] min_data_in_leaf is set=20, min_child_samples=20 will be ignored. Current value: min_data_in_leaf=20\n",
      "[LightGBM] [Warning] min_data_in_leaf is set=20, min_child_samples=20 will be ignored. Current value: min_data_in_leaf=20\n",
      "[LightGBM] [Warning] min_data_in_leaf is set=20, min_child_samples=20 will be ignored. Current value: min_data_in_leaf=20\n",
      "[LightGBM] [Warning] min_data_in_leaf is set=20, min_child_samples=20 will be ignored. Current value: min_data_in_leaf=20\n",
      "[LightGBM] [Warning] min_data_in_leaf is set=20, min_child_samples=20 will be ignored. Current value: min_data_in_leaf=20\n",
      "[LightGBM] [Warning] min_data_in_leaf is set=220, min_child_samples=20 will be ignored. Current value: min_data_in_leaf=220\n",
      "[LightGBM] [Warning] min_data_in_leaf is set=220, min_child_samples=20 will be ignored. Current value: min_data_in_leaf=220\n",
      "[LightGBM] [Warning] min_data_in_leaf is set=220, min_child_samples=20 will be ignored. Current value: min_data_in_leaf=220\n",
      "[LightGBM] [Warning] min_data_in_leaf is set=220, min_child_samples=20 will be ignored. Current value: min_data_in_leaf=220\n",
      "[LightGBM] [Warning] min_data_in_leaf is set=220, min_child_samples=20 will be ignored. Current value: min_data_in_leaf=220\n",
      "[LightGBM] [Warning] min_data_in_leaf is set=220, min_child_samples=20 will be ignored. Current value: min_data_in_leaf=220\n",
      "[LightGBM] [Warning] min_data_in_leaf is set=220, min_child_samples=20 will be ignored. Current value: min_data_in_leaf=220\n",
      "[LightGBM] [Warning] min_data_in_leaf is set=220, min_child_samples=20 will be ignored. Current value: min_data_in_leaf=220\n",
      "[LightGBM] [Warning] min_data_in_leaf is set=220, min_child_samples=20 will be ignored. Current value: min_data_in_leaf=220\n",
      "[LightGBM] [Warning] min_data_in_leaf is set=220, min_child_samples=20 will be ignored. Current value: min_data_in_leaf=220\n",
      "[LightGBM] [Warning] min_data_in_leaf is set=220, min_child_samples=20 will be ignored. Current value: min_data_in_leaf=220\n",
      "[LightGBM] [Warning] min_data_in_leaf is set=220, min_child_samples=20 will be ignored. Current value: min_data_in_leaf=220\n",
      "[LightGBM] [Warning] min_data_in_leaf is set=220, min_child_samples=20 will be ignored. Current value: min_data_in_leaf=220\n",
      "[LightGBM] [Warning] min_data_in_leaf is set=220, min_child_samples=20 will be ignored. Current value: min_data_in_leaf=220\n",
      "[LightGBM] [Warning] min_data_in_leaf is set=220, min_child_samples=20 will be ignored. Current value: min_data_in_leaf=220\n",
      "[LightGBM] [Warning] min_data_in_leaf is set=20, min_child_samples=20 will be ignored. Current value: min_data_in_leaf=20\n",
      "[LightGBM] [Warning] min_data_in_leaf is set=20, min_child_samples=20 will be ignored. Current value: min_data_in_leaf=20\n",
      "[LightGBM] [Warning] min_data_in_leaf is set=20, min_child_samples=20 will be ignored. Current value: min_data_in_leaf=20\n",
      "[LightGBM] [Warning] min_data_in_leaf is set=20, min_child_samples=20 will be ignored. Current value: min_data_in_leaf=20\n",
      "[LightGBM] [Warning] min_data_in_leaf is set=20, min_child_samples=20 will be ignored. Current value: min_data_in_leaf=20\n",
      "[LightGBM] [Warning] min_data_in_leaf is set=20, min_child_samples=20 will be ignored. Current value: min_data_in_leaf=20\n",
      "[LightGBM] [Warning] min_data_in_leaf is set=20, min_child_samples=20 will be ignored. Current value: min_data_in_leaf=20\n",
      "[LightGBM] [Warning] min_data_in_leaf is set=20, min_child_samples=20 will be ignored. Current value: min_data_in_leaf=20\n",
      "[LightGBM] [Warning] min_data_in_leaf is set=20, min_child_samples=20 will be ignored. Current value: min_data_in_leaf=20\n",
      "[LightGBM] [Warning] min_data_in_leaf is set=20, min_child_samples=20 will be ignored. Current value: min_data_in_leaf=20\n",
      "[LightGBM] [Warning] min_data_in_leaf is set=20, min_child_samples=20 will be ignored. Current value: min_data_in_leaf=20\n",
      "[LightGBM] [Warning] min_data_in_leaf is set=20, min_child_samples=20 will be ignored. Current value: min_data_in_leaf=20\n",
      "[LightGBM] [Warning] min_data_in_leaf is set=20, min_child_samples=20 will be ignored. Current value: min_data_in_leaf=20\n",
      "[LightGBM] [Warning] min_data_in_leaf is set=20, min_child_samples=20 will be ignored. Current value: min_data_in_leaf=20\n",
      "[LightGBM] [Warning] min_data_in_leaf is set=20, min_child_samples=20 will be ignored. Current value: min_data_in_leaf=20\n",
      "[LightGBM] [Warning] min_data_in_leaf is set=220, min_child_samples=20 will be ignored. Current value: min_data_in_leaf=220\n",
      "[LightGBM] [Warning] min_data_in_leaf is set=220, min_child_samples=20 will be ignored. Current value: min_data_in_leaf=220\n",
      "[LightGBM] [Warning] min_data_in_leaf is set=220, min_child_samples=20 will be ignored. Current value: min_data_in_leaf=220\n",
      "[LightGBM] [Warning] min_data_in_leaf is set=220, min_child_samples=20 will be ignored. Current value: min_data_in_leaf=220\n",
      "[LightGBM] [Warning] min_data_in_leaf is set=220, min_child_samples=20 will be ignored. Current value: min_data_in_leaf=220\n",
      "[LightGBM] [Warning] min_data_in_leaf is set=220, min_child_samples=20 will be ignored. Current value: min_data_in_leaf=220\n",
      "[LightGBM] [Warning] min_data_in_leaf is set=220, min_child_samples=20 will be ignored. Current value: min_data_in_leaf=220\n",
      "[LightGBM] [Warning] min_data_in_leaf is set=220, min_child_samples=20 will be ignored. Current value: min_data_in_leaf=220\n",
      "[LightGBM] [Warning] min_data_in_leaf is set=220, min_child_samples=20 will be ignored. Current value: min_data_in_leaf=220\n",
      "[LightGBM] [Warning] min_data_in_leaf is set=220, min_child_samples=20 will be ignored. Current value: min_data_in_leaf=220\n",
      "[LightGBM] [Warning] min_data_in_leaf is set=220, min_child_samples=20 will be ignored. Current value: min_data_in_leaf=220\n",
      "[LightGBM] [Warning] min_data_in_leaf is set=220, min_child_samples=20 will be ignored. Current value: min_data_in_leaf=220\n",
      "[LightGBM] [Warning] min_data_in_leaf is set=220, min_child_samples=20 will be ignored. Current value: min_data_in_leaf=220\n",
      "[LightGBM] [Warning] min_data_in_leaf is set=220, min_child_samples=20 will be ignored. Current value: min_data_in_leaf=220\n",
      "[LightGBM] [Warning] min_data_in_leaf is set=220, min_child_samples=20 will be ignored. Current value: min_data_in_leaf=220\n",
      "[LightGBM] [Warning] min_data_in_leaf is set=20, min_child_samples=20 will be ignored. Current value: min_data_in_leaf=20\n",
      "CPU times: user 1h 58min 47s, sys: 42.2 s, total: 1h 59min 29s\n",
      "Wall time: 2h 29s\n"
     ]
    }
   ],
   "source": [
    "%%time\n",
    "lgbm = train_fit_score(ltb.LGBMRegressor(random_state=12345), \n",
    "                       {'num_leaves' : range(10, 85, 25),\n",
    "                        'max_depth' : range(5, 45, 10),\n",
    "                        'min_data_in_leaf' : range(20, 420, 200)}, 'LightGBM')\n"
   ]
  },
  {
   "cell_type": "code",
   "execution_count": 55,
   "metadata": {},
   "outputs": [
    {
     "data": {
      "text/html": [
       "<div>\n",
       "<style scoped>\n",
       "    .dataframe tbody tr th:only-of-type {\n",
       "        vertical-align: middle;\n",
       "    }\n",
       "\n",
       "    .dataframe tbody tr th {\n",
       "        vertical-align: top;\n",
       "    }\n",
       "\n",
       "    .dataframe thead th {\n",
       "        text-align: right;\n",
       "    }\n",
       "</style>\n",
       "<table border=\"1\" class=\"dataframe\">\n",
       "  <thead>\n",
       "    <tr style=\"text-align: right;\">\n",
       "      <th></th>\n",
       "      <th>Estimator</th>\n",
       "      <th>Best Score</th>\n",
       "      <th>Best Params</th>\n",
       "    </tr>\n",
       "  </thead>\n",
       "  <tbody>\n",
       "    <tr>\n",
       "      <th>0</th>\n",
       "      <td>LightGBM</td>\n",
       "      <td>1725.270922</td>\n",
       "      <td>{'max_depth': 25, 'min_data_in_leaf': 20, 'num...</td>\n",
       "    </tr>\n",
       "  </tbody>\n",
       "</table>\n",
       "</div>"
      ],
      "text/plain": [
       "  Estimator   Best Score                                        Best Params\n",
       "0  LightGBM  1725.270922  {'max_depth': 25, 'min_data_in_leaf': 20, 'num..."
      ]
     },
     "execution_count": 55,
     "metadata": {},
     "output_type": "execute_result"
    }
   ],
   "source": [
    "lgbm"
   ]
  },
  {
   "cell_type": "code",
   "execution_count": 56,
   "metadata": {},
   "outputs": [
    {
     "name": "stdout",
     "output_type": "stream",
     "text": [
      "CPU times: user 1h 5min 26s, sys: 16.5 s, total: 1h 5min 43s\n",
      "Wall time: 1h 6min 10s\n"
     ]
    }
   ],
   "source": [
    "%%time\n",
    "xgbr = train_fit_score(xgb.XGBRegressor(random_state=12345), \n",
    "                       {'max_depth': [6,10],\n",
    "                        'n_estimators': range(100, 300,100)},'XGBoost')"
   ]
  },
  {
   "cell_type": "code",
   "execution_count": 57,
   "metadata": {},
   "outputs": [
    {
     "data": {
      "text/html": [
       "<div>\n",
       "<style scoped>\n",
       "    .dataframe tbody tr th:only-of-type {\n",
       "        vertical-align: middle;\n",
       "    }\n",
       "\n",
       "    .dataframe tbody tr th {\n",
       "        vertical-align: top;\n",
       "    }\n",
       "\n",
       "    .dataframe thead th {\n",
       "        text-align: right;\n",
       "    }\n",
       "</style>\n",
       "<table border=\"1\" class=\"dataframe\">\n",
       "  <thead>\n",
       "    <tr style=\"text-align: right;\">\n",
       "      <th></th>\n",
       "      <th>Estimator</th>\n",
       "      <th>Best Score</th>\n",
       "      <th>Best Params</th>\n",
       "    </tr>\n",
       "  </thead>\n",
       "  <tbody>\n",
       "    <tr>\n",
       "      <th>0</th>\n",
       "      <td>XGBoost</td>\n",
       "      <td>1666.10061</td>\n",
       "      <td>{'max_depth': 10, 'n_estimators': 100}</td>\n",
       "    </tr>\n",
       "  </tbody>\n",
       "</table>\n",
       "</div>"
      ],
      "text/plain": [
       "  Estimator  Best Score                             Best Params\n",
       "0   XGBoost  1666.10061  {'max_depth': 10, 'n_estimators': 100}"
      ]
     },
     "execution_count": 57,
     "metadata": {},
     "output_type": "execute_result"
    }
   ],
   "source": [
    "xgbr"
   ]
  },
  {
   "cell_type": "code",
   "execution_count": 58,
   "metadata": {},
   "outputs": [
    {
     "data": {
      "text/html": [
       "<div>\n",
       "<style scoped>\n",
       "    .dataframe tbody tr th:only-of-type {\n",
       "        vertical-align: middle;\n",
       "    }\n",
       "\n",
       "    .dataframe tbody tr th {\n",
       "        vertical-align: top;\n",
       "    }\n",
       "\n",
       "    .dataframe thead th {\n",
       "        text-align: right;\n",
       "    }\n",
       "</style>\n",
       "<table border=\"1\" class=\"dataframe\">\n",
       "  <thead>\n",
       "    <tr style=\"text-align: right;\">\n",
       "      <th></th>\n",
       "      <th>Best Score</th>\n",
       "    </tr>\n",
       "    <tr>\n",
       "      <th>Estimator</th>\n",
       "      <th></th>\n",
       "    </tr>\n",
       "  </thead>\n",
       "  <tbody>\n",
       "    <tr>\n",
       "      <th>LightGBM</th>\n",
       "      <td>1725.27</td>\n",
       "    </tr>\n",
       "    <tr>\n",
       "      <th>XGBoost</th>\n",
       "      <td>1666.10</td>\n",
       "    </tr>\n",
       "  </tbody>\n",
       "</table>\n",
       "</div>"
      ],
      "text/plain": [
       "           Best Score\n",
       "Estimator            \n",
       "LightGBM      1725.27\n",
       "XGBoost       1666.10"
      ]
     },
     "metadata": {},
     "output_type": "display_data"
    }
   ],
   "source": [
    "scores_gb = pd.concat([lgbm, xgbr]).set_index('Estimator')\n",
    "scores_gb['Best Score'] = scores_gb['Best Score'].round(2)\n",
    "display(scores_gb.drop('Best Params', axis=1))"
   ]
  },
  {
   "cell_type": "markdown",
   "metadata": {},
   "source": [
    "## Model analysis"
   ]
  },
  {
   "cell_type": "code",
   "execution_count": 59,
   "metadata": {},
   "outputs": [
    {
     "name": "stdout",
     "output_type": "stream",
     "text": [
      "RMSE for Linear Regression model on test datasets: 3054.48\n",
      "CPU times: user 203 µs, sys: 1e+03 ns, total: 204 µs\n",
      "Wall time: 150 µs\n"
     ]
    }
   ],
   "source": [
    "%%time\n",
    "accuracy_lr= round(accuracy_lr, 2)\n",
    "print(f'RMSE for Linear Regression model on test datasets: {accuracy_lr}')"
   ]
  },
  {
   "cell_type": "code",
   "execution_count": 73,
   "metadata": {},
   "outputs": [
    {
     "name": "stdout",
     "output_type": "stream",
     "text": [
      "CPU times: user 1min 23s, sys: 122 ms, total: 1min 23s\n",
      "Wall time: 1min 23s\n",
      "CPU times: user 1.81 s, sys: 4.34 ms, total: 1.82 s\n",
      "Wall time: 1.82 s\n",
      "RMSE for best Random Forest model on test datasets: 1690.39\n"
     ]
    }
   ],
   "source": [
    "%time rfr = RandomForestRegressor(**scores['Best Params'][2]).fit(X_train, y_train)\n",
    "\n",
    "%time RandomForest_rmse = round(eval_regressor(y_test, rfr.predict(X_test)), 2)\n",
    "\n",
    "#Print the result.\n",
    "print(f'RMSE for best Random Forest model on test datasets: {RandomForest_rmse}')"
   ]
  },
  {
   "cell_type": "code",
   "execution_count": 72,
   "metadata": {},
   "outputs": [
    {
     "name": "stdout",
     "output_type": "stream",
     "text": [
      "[LightGBM] [Warning] min_data_in_leaf is set=20, min_child_samples=20 will be ignored. Current value: min_data_in_leaf=20\n",
      "CPU times: user 9.55 s, sys: 55.5 ms, total: 9.61 s\n",
      "Wall time: 9.66 s\n",
      "CPU times: user 666 ms, sys: 0 ns, total: 666 ms\n",
      "Wall time: 700 ms\n",
      "RMSE for best LightGBM model on test datasets: 1715.81\n"
     ]
    }
   ],
   "source": [
    "%time lgbm_model = ltb.LGBMRegressor(**scores_gb['Best Params'][0]).fit(X_train, y_train)\n",
    "\n",
    "%time lgbm_rmse = round(eval_regressor(y_test, lgbm_model.predict(X_test)), 2)\n",
    "\n",
    "#Print the result.\n",
    "print(f'RMSE for best LightGBM model on test datasets: {lgbm_rmse}')"
   ]
  },
  {
   "cell_type": "code",
   "execution_count": 74,
   "metadata": {},
   "outputs": [
    {
     "name": "stdout",
     "output_type": "stream",
     "text": [
      "CPU times: user 2min 26s, sys: 280 ms, total: 2min 26s\n",
      "Wall time: 2min 27s\n",
      "CPU times: user 514 ms, sys: 0 ns, total: 514 ms\n",
      "Wall time: 513 ms\n",
      "RMSE for best XGBoost model on test datasets: 1651.3\n"
     ]
    }
   ],
   "source": [
    "%time xgbr_model = xgb.XGBRegressor(**scores_gb['Best Params'][1]).fit(X_train, y_train)\n",
    "\n",
    "\n",
    "%time xgbr_rmse = round(eval_regressor(y_test, xgbr_model.predict(X_test)), 2)\n",
    "\n",
    "#Print the result.\n",
    "print(f'RMSE for best XGBoost model on test datasets: {xgbr_rmse}')"
   ]
  },
  {
   "cell_type": "markdown",
   "metadata": {},
   "source": [
    "## Conclusions"
   ]
  },
  {
   "cell_type": "markdown",
   "metadata": {},
   "source": [
    "1. Linear Regression model is used as sanity check model. It has the shortest time of training and prediction and the lowest accurasy.\n",
    "\n",
    "2. Random Forest model gave us more accurate results than LightGBM model but LightGBM was faster.\n",
    "\n",
    "3. XGBoost model gave us the most accurate results but required the most time out of all other models for training. \n",
    "    But it was the fastest model to predict the result."
   ]
  }
 ],
 "metadata": {
  "ExecuteTimeLog": [
   {
    "duration": 1489,
    "start_time": "2022-05-25T06:59:37.669Z"
   },
   {
    "duration": 1000,
    "start_time": "2022-05-25T07:00:24.404Z"
   },
   {
    "duration": 25,
    "start_time": "2022-05-25T07:00:45.347Z"
   },
   {
    "duration": 147,
    "start_time": "2022-05-25T07:01:40.044Z"
   },
   {
    "duration": 164,
    "start_time": "2022-05-25T07:03:18.698Z"
   },
   {
    "duration": 247,
    "start_time": "2022-05-25T07:03:24.618Z"
   },
   {
    "duration": 139,
    "start_time": "2022-05-25T07:03:27.601Z"
   },
   {
    "duration": 121,
    "start_time": "2022-05-25T07:04:47.136Z"
   },
   {
    "duration": 31,
    "start_time": "2022-05-25T07:10:57.124Z"
   },
   {
    "duration": 1644,
    "start_time": "2022-05-29T09:01:26.266Z"
   },
   {
    "duration": 4008,
    "start_time": "2022-05-29T09:01:27.912Z"
   },
   {
    "duration": 186,
    "start_time": "2022-05-29T09:01:31.925Z"
   },
   {
    "duration": 170,
    "start_time": "2022-05-29T09:01:32.113Z"
   },
   {
    "duration": 27,
    "start_time": "2022-05-29T09:01:32.286Z"
   },
   {
    "duration": 1904,
    "start_time": "2022-05-31T09:31:29.872Z"
   },
   {
    "duration": 986,
    "start_time": "2022-05-31T09:31:31.779Z"
   },
   {
    "duration": 124,
    "start_time": "2022-05-31T09:31:32.767Z"
   },
   {
    "duration": 136,
    "start_time": "2022-05-31T09:31:32.894Z"
   },
   {
    "duration": 32,
    "start_time": "2022-05-31T09:31:33.033Z"
   },
   {
    "duration": 141,
    "start_time": "2022-05-31T09:31:33.067Z"
   },
   {
    "duration": 0,
    "start_time": "2022-05-31T09:31:33.211Z"
   },
   {
    "duration": 4750,
    "start_time": "2022-05-31T09:35:34.487Z"
   },
   {
    "duration": 115,
    "start_time": "2022-05-31T09:35:42.536Z"
   },
   {
    "duration": 678,
    "start_time": "2022-05-31T09:38:27.902Z"
   },
   {
    "duration": 122,
    "start_time": "2022-05-31T09:38:29.318Z"
   },
   {
    "duration": 119,
    "start_time": "2022-05-31T09:38:30.613Z"
   },
   {
    "duration": 23,
    "start_time": "2022-05-31T09:38:31.638Z"
   },
   {
    "duration": 172,
    "start_time": "2022-05-31T09:38:33.254Z"
   },
   {
    "duration": 16,
    "start_time": "2022-05-31T09:39:53.222Z"
   },
   {
    "duration": 119,
    "start_time": "2022-05-31T09:41:06.788Z"
   },
   {
    "duration": 115,
    "start_time": "2022-05-31T09:41:29.835Z"
   },
   {
    "duration": 1776,
    "start_time": "2022-05-31T09:41:39.123Z"
   },
   {
    "duration": 202,
    "start_time": "2022-05-31T09:41:41.755Z"
   },
   {
    "duration": 7,
    "start_time": "2022-05-31T09:42:03.323Z"
   },
   {
    "duration": 6,
    "start_time": "2022-05-31T09:42:10.939Z"
   },
   {
    "duration": 12,
    "start_time": "2022-05-31T09:42:27.275Z"
   },
   {
    "duration": 618,
    "start_time": "2022-05-31T09:44:29.736Z"
   },
   {
    "duration": 128,
    "start_time": "2022-05-31T09:44:33.289Z"
   },
   {
    "duration": 16,
    "start_time": "2022-05-31T09:45:16.971Z"
   },
   {
    "duration": 109,
    "start_time": "2022-05-31T09:45:37.783Z"
   },
   {
    "duration": 12,
    "start_time": "2022-05-31T09:45:47.849Z"
   },
   {
    "duration": 13,
    "start_time": "2022-05-31T09:46:36.145Z"
   },
   {
    "duration": 709,
    "start_time": "2022-05-31T09:46:48.392Z"
   },
   {
    "duration": 123,
    "start_time": "2022-05-31T09:48:18.994Z"
   },
   {
    "duration": 149,
    "start_time": "2022-05-31T09:55:11.198Z"
   },
   {
    "duration": 54,
    "start_time": "2022-05-31T09:56:11.638Z"
   },
   {
    "duration": 117,
    "start_time": "2022-05-31T09:56:12.678Z"
   },
   {
    "duration": 25,
    "start_time": "2022-05-31T09:57:09.613Z"
   },
   {
    "duration": 24,
    "start_time": "2022-05-31T09:57:17.997Z"
   },
   {
    "duration": 361,
    "start_time": "2022-05-31T09:57:26.214Z"
   },
   {
    "duration": 102,
    "start_time": "2022-05-31T09:57:28.868Z"
   },
   {
    "duration": 767,
    "start_time": "2022-05-31T09:58:06.677Z"
   },
   {
    "duration": 105,
    "start_time": "2022-05-31T09:58:08.780Z"
   },
   {
    "duration": 615,
    "start_time": "2022-05-31T10:00:27.660Z"
   },
   {
    "duration": 11,
    "start_time": "2022-05-31T10:01:17.684Z"
   },
   {
    "duration": 59,
    "start_time": "2022-05-31T10:01:31.523Z"
   },
   {
    "duration": 123,
    "start_time": "2022-05-31T10:01:32.679Z"
   },
   {
    "duration": 766,
    "start_time": "2022-05-31T10:01:35.074Z"
   },
   {
    "duration": 108,
    "start_time": "2022-05-31T10:01:40.810Z"
   },
   {
    "duration": 14,
    "start_time": "2022-05-31T10:04:02.084Z"
   },
   {
    "duration": 104,
    "start_time": "2022-05-31T10:04:05.792Z"
   },
   {
    "duration": 4,
    "start_time": "2022-05-31T10:06:13.623Z"
   },
   {
    "duration": 826,
    "start_time": "2022-05-31T10:06:56.346Z"
   },
   {
    "duration": 57,
    "start_time": "2022-05-31T10:11:12.644Z"
   },
   {
    "duration": 21,
    "start_time": "2022-05-31T10:12:03.888Z"
   },
   {
    "duration": 4,
    "start_time": "2022-05-31T10:12:10.044Z"
   },
   {
    "duration": 691,
    "start_time": "2022-05-31T10:12:10.050Z"
   },
   {
    "duration": 126,
    "start_time": "2022-05-31T10:12:10.743Z"
   },
   {
    "duration": 136,
    "start_time": "2022-05-31T10:12:10.871Z"
   },
   {
    "duration": 31,
    "start_time": "2022-05-31T10:12:11.009Z"
   },
   {
    "duration": 60,
    "start_time": "2022-05-31T10:12:11.042Z"
   },
   {
    "duration": 132,
    "start_time": "2022-05-31T10:12:11.104Z"
   },
   {
    "duration": 831,
    "start_time": "2022-05-31T10:12:11.238Z"
   },
   {
    "duration": 826,
    "start_time": "2022-05-31T10:12:14.627Z"
   },
   {
    "duration": 35,
    "start_time": "2022-05-31T10:12:19.651Z"
   },
   {
    "duration": 71,
    "start_time": "2022-05-31T10:15:57.024Z"
   },
   {
    "duration": 17,
    "start_time": "2022-05-31T10:15:58.593Z"
   },
   {
    "duration": 3,
    "start_time": "2022-05-31T10:16:07.818Z"
   },
   {
    "duration": 679,
    "start_time": "2022-05-31T10:16:07.823Z"
   },
   {
    "duration": 129,
    "start_time": "2022-05-31T10:16:08.503Z"
   },
   {
    "duration": 133,
    "start_time": "2022-05-31T10:16:08.635Z"
   },
   {
    "duration": 22,
    "start_time": "2022-05-31T10:16:08.770Z"
   },
   {
    "duration": 70,
    "start_time": "2022-05-31T10:16:08.794Z"
   },
   {
    "duration": 112,
    "start_time": "2022-05-31T10:16:08.866Z"
   },
   {
    "duration": 839,
    "start_time": "2022-05-31T10:16:08.979Z"
   },
   {
    "duration": 49,
    "start_time": "2022-05-31T10:16:09.819Z"
   },
   {
    "duration": 68,
    "start_time": "2022-05-31T10:16:09.870Z"
   },
   {
    "duration": 18,
    "start_time": "2022-05-31T10:16:22.649Z"
   },
   {
    "duration": 221,
    "start_time": "2022-05-31T10:17:19.540Z"
   },
   {
    "duration": 22,
    "start_time": "2022-05-31T10:17:47.565Z"
   },
   {
    "duration": 321,
    "start_time": "2022-05-31T10:17:57.703Z"
   },
   {
    "duration": 22893,
    "start_time": "2022-05-31T10:19:21.175Z"
   },
   {
    "duration": 2,
    "start_time": "2022-05-31T10:19:44.070Z"
   },
   {
    "duration": 18,
    "start_time": "2022-05-31T10:19:46.569Z"
   },
   {
    "duration": 8,
    "start_time": "2022-05-31T10:20:06.614Z"
   },
   {
    "duration": 18,
    "start_time": "2022-05-31T10:20:08.066Z"
   },
   {
    "duration": 4,
    "start_time": "2022-05-31T10:20:37.111Z"
   },
   {
    "duration": 648,
    "start_time": "2022-05-31T10:20:37.116Z"
   },
   {
    "duration": 123,
    "start_time": "2022-05-31T10:20:37.765Z"
   },
   {
    "duration": 155,
    "start_time": "2022-05-31T10:20:37.891Z"
   },
   {
    "duration": 25,
    "start_time": "2022-05-31T10:20:38.048Z"
   },
   {
    "duration": 74,
    "start_time": "2022-05-31T10:20:38.075Z"
   },
   {
    "duration": 165,
    "start_time": "2022-05-31T10:20:38.151Z"
   },
   {
    "duration": 948,
    "start_time": "2022-05-31T10:20:38.317Z"
   },
   {
    "duration": 36,
    "start_time": "2022-05-31T10:20:39.266Z"
   },
   {
    "duration": 22612,
    "start_time": "2022-05-31T10:20:39.304Z"
   },
   {
    "duration": 7,
    "start_time": "2022-05-31T10:21:19.276Z"
   },
   {
    "duration": 21,
    "start_time": "2022-05-31T10:21:20.079Z"
   },
   {
    "duration": 13,
    "start_time": "2022-05-31T10:21:34.805Z"
   },
   {
    "duration": 6,
    "start_time": "2022-05-31T10:22:53.842Z"
   },
   {
    "duration": 664,
    "start_time": "2022-05-31T10:22:53.850Z"
   },
   {
    "duration": 139,
    "start_time": "2022-05-31T10:22:54.516Z"
   },
   {
    "duration": 142,
    "start_time": "2022-05-31T10:22:54.657Z"
   },
   {
    "duration": 46,
    "start_time": "2022-05-31T10:22:54.801Z"
   },
   {
    "duration": 66,
    "start_time": "2022-05-31T10:22:54.850Z"
   },
   {
    "duration": 134,
    "start_time": "2022-05-31T10:22:54.918Z"
   },
   {
    "duration": 833,
    "start_time": "2022-05-31T10:22:55.054Z"
   },
   {
    "duration": 51,
    "start_time": "2022-05-31T10:22:55.889Z"
   },
   {
    "duration": 329,
    "start_time": "2022-05-31T10:22:55.943Z"
   },
   {
    "duration": 0,
    "start_time": "2022-05-31T10:22:56.275Z"
   },
   {
    "duration": 276,
    "start_time": "2022-05-31T10:23:39.987Z"
   },
   {
    "duration": 23941,
    "start_time": "2022-05-31T10:25:05.026Z"
   },
   {
    "duration": 23616,
    "start_time": "2022-05-31T10:25:45.841Z"
   },
   {
    "duration": 11,
    "start_time": "2022-05-31T10:26:55.264Z"
   },
   {
    "duration": 92,
    "start_time": "2022-05-31T10:27:29.842Z"
   },
   {
    "duration": 33,
    "start_time": "2022-05-31T10:27:42.080Z"
   },
   {
    "duration": 27,
    "start_time": "2022-05-31T10:27:46.480Z"
   },
   {
    "duration": 28,
    "start_time": "2022-05-31T10:28:08.216Z"
   },
   {
    "duration": 12,
    "start_time": "2022-05-31T10:28:20.041Z"
   },
   {
    "duration": 10,
    "start_time": "2022-05-31T10:28:45.475Z"
   },
   {
    "duration": 4,
    "start_time": "2022-05-31T10:30:20.183Z"
   },
   {
    "duration": 634,
    "start_time": "2022-05-31T10:30:20.189Z"
   },
   {
    "duration": 188,
    "start_time": "2022-05-31T10:30:20.824Z"
   },
   {
    "duration": 147,
    "start_time": "2022-05-31T10:30:21.015Z"
   },
   {
    "duration": 19,
    "start_time": "2022-05-31T10:30:21.164Z"
   },
   {
    "duration": 78,
    "start_time": "2022-05-31T10:30:21.185Z"
   },
   {
    "duration": 120,
    "start_time": "2022-05-31T10:30:21.265Z"
   },
   {
    "duration": 800,
    "start_time": "2022-05-31T10:30:21.387Z"
   },
   {
    "duration": 49,
    "start_time": "2022-05-31T10:30:22.188Z"
   },
   {
    "duration": 22825,
    "start_time": "2022-05-31T10:30:22.240Z"
   },
   {
    "duration": 17,
    "start_time": "2022-05-31T10:30:48.351Z"
   },
   {
    "duration": 93,
    "start_time": "2022-05-31T10:30:57.486Z"
   },
   {
    "duration": 71,
    "start_time": "2022-05-31T10:31:23.405Z"
   },
   {
    "duration": 97,
    "start_time": "2022-05-31T10:31:24.541Z"
   },
   {
    "duration": 9,
    "start_time": "2022-05-31T10:31:43.342Z"
   },
   {
    "duration": 111,
    "start_time": "2022-05-31T10:31:44.396Z"
   },
   {
    "duration": 22,
    "start_time": "2022-05-31T10:31:48.589Z"
   },
   {
    "duration": 25,
    "start_time": "2022-05-31T10:32:06.517Z"
   },
   {
    "duration": 2843,
    "start_time": "2022-05-31T10:32:08.654Z"
   },
   {
    "duration": 4,
    "start_time": "2022-05-31T10:38:11.816Z"
   },
   {
    "duration": 21,
    "start_time": "2022-05-31T10:38:12.896Z"
   },
   {
    "duration": 12,
    "start_time": "2022-05-31T10:39:38.862Z"
   },
   {
    "duration": 72,
    "start_time": "2022-05-31T10:39:56.606Z"
   },
   {
    "duration": 843,
    "start_time": "2022-05-31T10:40:04.159Z"
   },
   {
    "duration": 28,
    "start_time": "2022-05-31T10:41:02.648Z"
   },
   {
    "duration": 112,
    "start_time": "2022-05-31T10:41:12.641Z"
   },
   {
    "duration": 8,
    "start_time": "2022-05-31T10:49:12.801Z"
   },
   {
    "duration": 13,
    "start_time": "2022-05-31T10:49:19.944Z"
   },
   {
    "duration": 9,
    "start_time": "2022-05-31T10:52:55.005Z"
   },
   {
    "duration": 4,
    "start_time": "2022-05-31T10:53:05.637Z"
   },
   {
    "duration": 7,
    "start_time": "2022-05-31T10:53:15.780Z"
   },
   {
    "duration": 5,
    "start_time": "2022-05-31T10:53:27.108Z"
   },
   {
    "duration": 5,
    "start_time": "2022-05-31T10:53:35.069Z"
   },
   {
    "duration": 717,
    "start_time": "2022-05-31T10:53:55.107Z"
   },
   {
    "duration": 10,
    "start_time": "2022-05-31T10:57:41.855Z"
   },
   {
    "duration": 3303,
    "start_time": "2022-05-31T10:57:52.080Z"
   },
   {
    "duration": 31,
    "start_time": "2022-05-31T10:58:03.519Z"
   },
   {
    "duration": 30,
    "start_time": "2022-05-31T10:58:14.167Z"
   },
   {
    "duration": 8,
    "start_time": "2022-05-31T10:59:22.534Z"
   },
   {
    "duration": 27,
    "start_time": "2022-05-31T10:59:23.389Z"
   },
   {
    "duration": 17935,
    "start_time": "2022-05-31T10:59:52.901Z"
   },
   {
    "duration": 22,
    "start_time": "2022-05-31T11:00:31.101Z"
   },
   {
    "duration": 17,
    "start_time": "2022-05-31T11:07:45.965Z"
   },
   {
    "duration": 9,
    "start_time": "2022-05-31T11:09:35.956Z"
   },
   {
    "duration": 17,
    "start_time": "2022-05-31T11:09:53.772Z"
   },
   {
    "duration": 11,
    "start_time": "2022-05-31T11:10:07.836Z"
   },
   {
    "duration": 7,
    "start_time": "2022-05-31T11:14:38.570Z"
   },
   {
    "duration": 772,
    "start_time": "2022-05-31T11:14:38.579Z"
   },
   {
    "duration": 113,
    "start_time": "2022-05-31T11:14:39.352Z"
   },
   {
    "duration": 112,
    "start_time": "2022-05-31T11:14:39.467Z"
   },
   {
    "duration": 21,
    "start_time": "2022-05-31T11:14:39.581Z"
   },
   {
    "duration": 60,
    "start_time": "2022-05-31T11:14:39.603Z"
   },
   {
    "duration": 120,
    "start_time": "2022-05-31T11:14:39.666Z"
   },
   {
    "duration": 748,
    "start_time": "2022-05-31T11:14:39.788Z"
   },
   {
    "duration": 39,
    "start_time": "2022-05-31T11:14:40.538Z"
   },
   {
    "duration": 20837,
    "start_time": "2022-05-31T11:14:40.580Z"
   },
   {
    "duration": 54,
    "start_time": "2022-05-31T11:15:01.419Z"
   },
   {
    "duration": 5,
    "start_time": "2022-05-31T11:15:06.087Z"
   },
   {
    "duration": 5,
    "start_time": "2022-05-31T11:15:15.239Z"
   },
   {
    "duration": 11,
    "start_time": "2022-05-31T11:15:25.175Z"
   },
   {
    "duration": 6,
    "start_time": "2022-05-31T11:15:50.847Z"
   },
   {
    "duration": 5,
    "start_time": "2022-05-31T11:15:59.038Z"
   },
   {
    "duration": 5,
    "start_time": "2022-05-31T11:16:09.078Z"
   },
   {
    "duration": 5,
    "start_time": "2022-05-31T11:16:20.375Z"
   },
   {
    "duration": 12,
    "start_time": "2022-05-31T11:16:52.213Z"
   },
   {
    "duration": 10,
    "start_time": "2022-05-31T11:20:04.947Z"
   },
   {
    "duration": 10,
    "start_time": "2022-05-31T11:20:26.595Z"
   },
   {
    "duration": 10,
    "start_time": "2022-05-31T11:20:44.546Z"
   },
   {
    "duration": 19,
    "start_time": "2022-05-31T11:21:30.545Z"
   },
   {
    "duration": 80,
    "start_time": "2022-05-31T11:21:43.802Z"
   },
   {
    "duration": 1489,
    "start_time": "2022-06-01T05:37:10.305Z"
   },
   {
    "duration": 893,
    "start_time": "2022-06-01T05:37:11.796Z"
   },
   {
    "duration": 121,
    "start_time": "2022-06-01T05:37:12.690Z"
   },
   {
    "duration": 120,
    "start_time": "2022-06-01T05:37:12.813Z"
   },
   {
    "duration": 22,
    "start_time": "2022-06-01T05:37:12.935Z"
   },
   {
    "duration": 76,
    "start_time": "2022-06-01T05:37:12.959Z"
   },
   {
    "duration": 106,
    "start_time": "2022-06-01T05:37:13.036Z"
   },
   {
    "duration": 805,
    "start_time": "2022-06-01T05:37:13.144Z"
   },
   {
    "duration": 45,
    "start_time": "2022-06-01T05:37:13.951Z"
   },
   {
    "duration": 20774,
    "start_time": "2022-06-01T05:37:13.998Z"
   },
   {
    "duration": 122,
    "start_time": "2022-06-01T05:37:34.774Z"
   },
   {
    "duration": 84,
    "start_time": "2022-06-01T05:37:45.014Z"
   },
   {
    "duration": 23,
    "start_time": "2022-06-01T05:37:56.656Z"
   },
   {
    "duration": 17,
    "start_time": "2022-06-01T05:39:49.679Z"
   },
   {
    "duration": 20,
    "start_time": "2022-06-01T05:39:50.686Z"
   },
   {
    "duration": 104,
    "start_time": "2022-06-01T05:39:53.863Z"
   },
   {
    "duration": 3,
    "start_time": "2022-06-01T05:40:08.854Z"
   },
   {
    "duration": 30,
    "start_time": "2022-06-01T05:40:09.672Z"
   },
   {
    "duration": 8,
    "start_time": "2022-06-01T05:41:24.880Z"
   },
   {
    "duration": 731,
    "start_time": "2022-06-01T05:41:24.890Z"
   },
   {
    "duration": 134,
    "start_time": "2022-06-01T05:41:25.623Z"
   },
   {
    "duration": 130,
    "start_time": "2022-06-01T05:41:25.759Z"
   },
   {
    "duration": 20,
    "start_time": "2022-06-01T05:41:25.890Z"
   },
   {
    "duration": 76,
    "start_time": "2022-06-01T05:41:25.912Z"
   },
   {
    "duration": 115,
    "start_time": "2022-06-01T05:41:25.989Z"
   },
   {
    "duration": 970,
    "start_time": "2022-06-01T05:41:26.105Z"
   },
   {
    "duration": 23799,
    "start_time": "2022-06-01T05:41:27.077Z"
   },
   {
    "duration": 84,
    "start_time": "2022-06-01T05:41:50.878Z"
   },
   {
    "duration": 11,
    "start_time": "2022-06-01T05:41:50.964Z"
   },
   {
    "duration": 20,
    "start_time": "2022-06-01T05:41:50.976Z"
   },
   {
    "duration": 142,
    "start_time": "2022-06-01T05:41:50.998Z"
   },
   {
    "duration": 3,
    "start_time": "2022-06-01T05:41:51.147Z"
   },
   {
    "duration": 27,
    "start_time": "2022-06-01T05:41:51.151Z"
   },
   {
    "duration": 35,
    "start_time": "2022-06-01T05:42:02.607Z"
   },
   {
    "duration": 984,
    "start_time": "2022-06-01T05:42:07.448Z"
   },
   {
    "duration": 27,
    "start_time": "2022-06-01T05:42:13.544Z"
   },
   {
    "duration": 19,
    "start_time": "2022-06-01T05:42:15.157Z"
   },
   {
    "duration": 37,
    "start_time": "2022-06-01T05:42:24.181Z"
   },
   {
    "duration": 8681,
    "start_time": "2022-06-01T05:42:41.653Z"
   },
   {
    "duration": 30,
    "start_time": "2022-06-01T05:42:56.410Z"
   },
   {
    "duration": 41,
    "start_time": "2022-06-01T05:43:55.212Z"
   },
   {
    "duration": 174,
    "start_time": "2022-06-01T05:44:03.829Z"
   },
   {
    "duration": 52,
    "start_time": "2022-06-01T05:44:07.103Z"
   },
   {
    "duration": 54,
    "start_time": "2022-06-01T05:44:11.180Z"
   },
   {
    "duration": 33,
    "start_time": "2022-06-01T05:44:52.668Z"
   },
   {
    "duration": 9,
    "start_time": "2022-06-01T05:45:23.724Z"
   },
   {
    "duration": 14,
    "start_time": "2022-06-01T05:45:30.387Z"
   },
   {
    "duration": 12,
    "start_time": "2022-06-01T05:46:41.206Z"
   },
   {
    "duration": 29,
    "start_time": "2022-06-01T05:46:47.413Z"
   },
   {
    "duration": 117,
    "start_time": "2022-06-01T05:48:42.249Z"
   },
   {
    "duration": 40,
    "start_time": "2022-06-01T05:49:17.473Z"
   },
   {
    "duration": 6,
    "start_time": "2022-06-01T05:49:48.608Z"
   },
   {
    "duration": 713,
    "start_time": "2022-06-01T05:49:48.616Z"
   },
   {
    "duration": 152,
    "start_time": "2022-06-01T05:49:49.332Z"
   },
   {
    "duration": 179,
    "start_time": "2022-06-01T05:49:49.487Z"
   },
   {
    "duration": 24,
    "start_time": "2022-06-01T05:49:49.667Z"
   },
   {
    "duration": 65,
    "start_time": "2022-06-01T05:49:49.692Z"
   },
   {
    "duration": 117,
    "start_time": "2022-06-01T05:49:49.758Z"
   },
   {
    "duration": 824,
    "start_time": "2022-06-01T05:49:49.877Z"
   },
   {
    "duration": 25226,
    "start_time": "2022-06-01T05:49:50.703Z"
   },
   {
    "duration": 94,
    "start_time": "2022-06-01T05:50:15.933Z"
   },
   {
    "duration": 22,
    "start_time": "2022-06-01T05:50:16.030Z"
   },
   {
    "duration": 24,
    "start_time": "2022-06-01T05:50:16.054Z"
   },
   {
    "duration": 125,
    "start_time": "2022-06-01T05:50:16.079Z"
   },
   {
    "duration": 12,
    "start_time": "2022-06-01T05:50:16.206Z"
   },
   {
    "duration": 68,
    "start_time": "2022-06-01T05:50:16.221Z"
   },
   {
    "duration": 64,
    "start_time": "2022-06-01T05:50:16.299Z"
   },
   {
    "duration": 1137,
    "start_time": "2022-06-01T05:50:16.365Z"
   },
   {
    "duration": 15,
    "start_time": "2022-06-01T05:50:17.504Z"
   },
   {
    "duration": 29,
    "start_time": "2022-06-01T05:50:17.528Z"
   },
   {
    "duration": 49,
    "start_time": "2022-06-01T05:50:17.559Z"
   },
   {
    "duration": 9131,
    "start_time": "2022-06-01T05:50:17.610Z"
   },
   {
    "duration": 105,
    "start_time": "2022-06-01T05:50:26.746Z"
   },
   {
    "duration": 34,
    "start_time": "2022-06-01T05:55:04.819Z"
   },
   {
    "duration": 6,
    "start_time": "2022-06-01T05:55:22.514Z"
   },
   {
    "duration": 27,
    "start_time": "2022-06-01T05:55:58.693Z"
   },
   {
    "duration": 84,
    "start_time": "2022-06-01T05:56:18.754Z"
   },
   {
    "duration": 19,
    "start_time": "2022-06-01T05:57:18.245Z"
   },
   {
    "duration": 23,
    "start_time": "2022-06-01T05:57:25.363Z"
   },
   {
    "duration": 27,
    "start_time": "2022-06-01T05:57:37.302Z"
   },
   {
    "duration": 16,
    "start_time": "2022-06-01T06:00:18.720Z"
   },
   {
    "duration": 62,
    "start_time": "2022-06-01T06:00:31.559Z"
   },
   {
    "duration": 24,
    "start_time": "2022-06-01T06:00:48.751Z"
   },
   {
    "duration": 45,
    "start_time": "2022-06-01T06:01:41.503Z"
   },
   {
    "duration": 12,
    "start_time": "2022-06-01T06:02:25.215Z"
   },
   {
    "duration": 80,
    "start_time": "2022-06-01T06:04:14.020Z"
   },
   {
    "duration": 9167,
    "start_time": "2022-06-01T06:04:28.060Z"
   },
   {
    "duration": 112,
    "start_time": "2022-06-01T06:04:37.230Z"
   },
   {
    "duration": 20,
    "start_time": "2022-06-01T06:05:50.459Z"
   },
   {
    "duration": 72,
    "start_time": "2022-06-01T06:06:01.908Z"
   },
   {
    "duration": 13,
    "start_time": "2022-06-01T06:06:07.515Z"
   },
   {
    "duration": 13,
    "start_time": "2022-06-01T06:07:06.881Z"
   },
   {
    "duration": 29,
    "start_time": "2022-06-01T06:07:10.755Z"
   },
   {
    "duration": 46,
    "start_time": "2022-06-01T06:07:21.505Z"
   },
   {
    "duration": 8,
    "start_time": "2022-06-01T06:07:59.963Z"
   },
   {
    "duration": 45,
    "start_time": "2022-06-01T06:08:00.890Z"
   },
   {
    "duration": 36,
    "start_time": "2022-06-01T06:08:20.009Z"
   },
   {
    "duration": 23,
    "start_time": "2022-06-01T06:08:20.754Z"
   },
   {
    "duration": 1436,
    "start_time": "2022-06-01T08:08:00.839Z"
   },
   {
    "duration": 1012,
    "start_time": "2022-06-01T08:08:02.277Z"
   },
   {
    "duration": 125,
    "start_time": "2022-06-01T08:08:03.293Z"
   },
   {
    "duration": 134,
    "start_time": "2022-06-01T08:08:03.420Z"
   },
   {
    "duration": 23,
    "start_time": "2022-06-01T08:08:03.556Z"
   },
   {
    "duration": 74,
    "start_time": "2022-06-01T08:08:03.581Z"
   },
   {
    "duration": 112,
    "start_time": "2022-06-01T08:08:03.657Z"
   },
   {
    "duration": 826,
    "start_time": "2022-06-01T08:08:03.771Z"
   },
   {
    "duration": 21840,
    "start_time": "2022-06-01T08:08:04.598Z"
   },
   {
    "duration": 117,
    "start_time": "2022-06-01T08:08:26.448Z"
   },
   {
    "duration": 14,
    "start_time": "2022-06-01T08:08:26.567Z"
   },
   {
    "duration": 35,
    "start_time": "2022-06-01T08:08:26.583Z"
   },
   {
    "duration": 96,
    "start_time": "2022-06-01T08:08:26.620Z"
   },
   {
    "duration": 2,
    "start_time": "2022-06-01T08:08:26.718Z"
   },
   {
    "duration": 44,
    "start_time": "2022-06-01T08:08:26.727Z"
   },
   {
    "duration": 31,
    "start_time": "2022-06-01T08:08:26.772Z"
   },
   {
    "duration": 849,
    "start_time": "2022-06-01T08:08:26.804Z"
   },
   {
    "duration": 13,
    "start_time": "2022-06-01T08:08:27.655Z"
   },
   {
    "duration": 21,
    "start_time": "2022-06-01T08:08:27.669Z"
   },
   {
    "duration": 57,
    "start_time": "2022-06-01T08:08:27.692Z"
   },
   {
    "duration": 16386,
    "start_time": "2022-06-01T08:08:27.751Z"
   },
   {
    "duration": 99,
    "start_time": "2022-06-01T08:08:44.138Z"
   },
   {
    "duration": 148,
    "start_time": "2022-06-01T08:08:44.238Z"
   },
   {
    "duration": 27,
    "start_time": "2022-06-01T08:08:44.387Z"
   },
   {
    "duration": 61,
    "start_time": "2022-06-01T08:08:44.416Z"
   },
   {
    "duration": 23,
    "start_time": "2022-06-01T08:08:44.479Z"
   },
   {
    "duration": 37,
    "start_time": "2022-06-01T08:08:44.504Z"
   },
   {
    "duration": 60,
    "start_time": "2022-06-01T08:10:29.819Z"
   },
   {
    "duration": 1370,
    "start_time": "2022-06-01T08:10:39.830Z"
   },
   {
    "duration": 970,
    "start_time": "2022-06-01T08:10:41.202Z"
   },
   {
    "duration": 120,
    "start_time": "2022-06-01T08:10:42.174Z"
   },
   {
    "duration": 141,
    "start_time": "2022-06-01T08:10:42.296Z"
   },
   {
    "duration": 39,
    "start_time": "2022-06-01T08:10:42.441Z"
   },
   {
    "duration": 60,
    "start_time": "2022-06-01T08:10:42.482Z"
   },
   {
    "duration": 122,
    "start_time": "2022-06-01T08:10:42.544Z"
   },
   {
    "duration": 813,
    "start_time": "2022-06-01T08:10:42.667Z"
   },
   {
    "duration": 21959,
    "start_time": "2022-06-01T08:10:43.482Z"
   },
   {
    "duration": 97,
    "start_time": "2022-06-01T08:11:05.444Z"
   },
   {
    "duration": 12,
    "start_time": "2022-06-01T08:11:05.543Z"
   },
   {
    "duration": 36,
    "start_time": "2022-06-01T08:11:05.556Z"
   },
   {
    "duration": 121,
    "start_time": "2022-06-01T08:11:05.594Z"
   },
   {
    "duration": 3,
    "start_time": "2022-06-01T08:11:05.717Z"
   },
   {
    "duration": 45,
    "start_time": "2022-06-01T08:11:05.722Z"
   },
   {
    "duration": 49,
    "start_time": "2022-06-01T08:11:05.769Z"
   },
   {
    "duration": 895,
    "start_time": "2022-06-01T08:11:05.820Z"
   },
   {
    "duration": 22,
    "start_time": "2022-06-01T08:11:06.717Z"
   },
   {
    "duration": 31,
    "start_time": "2022-06-01T08:11:06.743Z"
   },
   {
    "duration": 35,
    "start_time": "2022-06-01T08:11:06.776Z"
   },
   {
    "duration": 16416,
    "start_time": "2022-06-01T08:11:06.813Z"
   },
   {
    "duration": 105,
    "start_time": "2022-06-01T08:11:23.233Z"
   },
   {
    "duration": 54,
    "start_time": "2022-06-01T08:11:23.340Z"
   },
   {
    "duration": 54,
    "start_time": "2022-06-01T08:11:23.396Z"
   },
   {
    "duration": 65,
    "start_time": "2022-06-01T08:11:23.451Z"
   },
   {
    "duration": 29,
    "start_time": "2022-06-01T08:11:23.518Z"
   },
   {
    "duration": 26,
    "start_time": "2022-06-01T08:11:23.549Z"
   },
   {
    "duration": 176224,
    "start_time": "2022-06-01T08:11:23.578Z"
   },
   {
    "duration": 14,
    "start_time": "2022-06-01T10:34:20.718Z"
   },
   {
    "duration": 61,
    "start_time": "2022-06-01T10:35:02.605Z"
   },
   {
    "duration": 4,
    "start_time": "2022-06-01T10:35:44.804Z"
   },
   {
    "duration": 102,
    "start_time": "2022-06-01T10:57:28.761Z"
   },
   {
    "duration": 7,
    "start_time": "2022-06-01T10:57:52.217Z"
   },
   {
    "duration": 130,
    "start_time": "2022-06-01T10:57:58.216Z"
   },
   {
    "duration": 52,
    "start_time": "2022-06-01T10:58:55.769Z"
   },
   {
    "duration": 168,
    "start_time": "2022-06-01T10:59:14.056Z"
   },
   {
    "duration": 8111,
    "start_time": "2022-06-01T10:59:20.113Z"
   },
   {
    "duration": 3,
    "start_time": "2022-06-01T10:59:42.607Z"
   },
   {
    "duration": 8196,
    "start_time": "2022-06-01T10:59:43.992Z"
   },
   {
    "duration": 3,
    "start_time": "2022-06-01T11:03:03.438Z"
   },
   {
    "duration": 1559,
    "start_time": "2022-06-01T11:03:04.510Z"
   },
   {
    "duration": 4,
    "start_time": "2022-06-01T11:03:22.998Z"
   },
   {
    "duration": 6,
    "start_time": "2022-06-01T11:04:03.246Z"
   },
   {
    "duration": 133,
    "start_time": "2022-06-01T11:13:03.015Z"
   },
   {
    "duration": 4421,
    "start_time": "2022-06-01T11:15:22.500Z"
   },
   {
    "duration": 8,
    "start_time": "2022-06-01T11:16:58.651Z"
   },
   {
    "duration": 7,
    "start_time": "2022-06-01T11:17:03.835Z"
   },
   {
    "duration": 6,
    "start_time": "2022-06-01T11:17:15.547Z"
   },
   {
    "duration": 6,
    "start_time": "2022-06-01T11:17:21.050Z"
   },
   {
    "duration": 9,
    "start_time": "2022-06-01T11:18:21.129Z"
   },
   {
    "duration": 8,
    "start_time": "2022-06-01T11:18:32.257Z"
   },
   {
    "duration": 6,
    "start_time": "2022-06-01T11:18:35.379Z"
   },
   {
    "duration": 570,
    "start_time": "2022-06-01T11:18:35.387Z"
   },
   {
    "duration": 127,
    "start_time": "2022-06-01T11:18:35.959Z"
   },
   {
    "duration": 141,
    "start_time": "2022-06-01T11:18:36.089Z"
   },
   {
    "duration": 37,
    "start_time": "2022-06-01T11:18:36.232Z"
   },
   {
    "duration": 73,
    "start_time": "2022-06-01T11:18:36.272Z"
   },
   {
    "duration": 140,
    "start_time": "2022-06-01T11:18:36.350Z"
   },
   {
    "duration": 737,
    "start_time": "2022-06-01T11:18:36.492Z"
   },
   {
    "duration": 21622,
    "start_time": "2022-06-01T11:18:37.231Z"
   },
   {
    "duration": 85,
    "start_time": "2022-06-01T11:18:58.856Z"
   },
   {
    "duration": 10,
    "start_time": "2022-06-01T11:18:58.943Z"
   },
   {
    "duration": 21,
    "start_time": "2022-06-01T11:18:58.955Z"
   },
   {
    "duration": 109,
    "start_time": "2022-06-01T11:18:58.978Z"
   },
   {
    "duration": 3,
    "start_time": "2022-06-01T11:18:59.089Z"
   },
   {
    "duration": 34,
    "start_time": "2022-06-01T11:18:59.093Z"
   },
   {
    "duration": 26,
    "start_time": "2022-06-01T11:18:59.129Z"
   },
   {
    "duration": 838,
    "start_time": "2022-06-01T11:18:59.157Z"
   },
   {
    "duration": 14,
    "start_time": "2022-06-01T11:18:59.998Z"
   },
   {
    "duration": 29,
    "start_time": "2022-06-01T11:19:00.014Z"
   },
   {
    "duration": 35,
    "start_time": "2022-06-01T11:19:00.045Z"
   },
   {
    "duration": 18446,
    "start_time": "2022-06-01T11:19:00.081Z"
   },
   {
    "duration": 105,
    "start_time": "2022-06-01T11:19:18.530Z"
   },
   {
    "duration": 31,
    "start_time": "2022-06-01T11:19:18.637Z"
   },
   {
    "duration": 28,
    "start_time": "2022-06-01T11:19:18.670Z"
   },
   {
    "duration": 57,
    "start_time": "2022-06-01T11:19:18.700Z"
   },
   {
    "duration": 19,
    "start_time": "2022-06-01T11:19:18.759Z"
   },
   {
    "duration": 16,
    "start_time": "2022-06-01T11:19:18.779Z"
   },
   {
    "duration": 159,
    "start_time": "2022-06-01T11:19:18.798Z"
   },
   {
    "duration": 24,
    "start_time": "2022-06-01T11:19:26.111Z"
   },
   {
    "duration": 140,
    "start_time": "2022-06-01T11:19:44.512Z"
   },
   {
    "duration": 6,
    "start_time": "2022-06-01T11:20:03.408Z"
   },
   {
    "duration": 12,
    "start_time": "2022-06-01T11:20:17.463Z"
   },
   {
    "duration": 29,
    "start_time": "2022-06-01T13:42:31.912Z"
   },
   {
    "duration": 5,
    "start_time": "2022-06-01T13:42:33.656Z"
   },
   {
    "duration": 145,
    "start_time": "2022-06-01T13:42:40.734Z"
   },
   {
    "duration": 13,
    "start_time": "2022-06-01T13:42:45.338Z"
   },
   {
    "duration": 46,
    "start_time": "2022-06-01T13:47:49.036Z"
   },
   {
    "duration": 2355,
    "start_time": "2022-06-01T13:47:55.034Z"
   },
   {
    "duration": 10,
    "start_time": "2022-06-01T13:49:13.546Z"
   },
   {
    "duration": 9,
    "start_time": "2022-06-01T13:49:21.842Z"
   },
   {
    "duration": 10,
    "start_time": "2022-06-01T13:49:26.689Z"
   },
   {
    "duration": 11,
    "start_time": "2022-06-01T13:49:37.840Z"
   },
   {
    "duration": 11,
    "start_time": "2022-06-01T13:49:42.312Z"
   },
   {
    "duration": 9,
    "start_time": "2022-06-01T13:49:45.321Z"
   },
   {
    "duration": 40,
    "start_time": "2022-06-01T13:51:24.943Z"
   },
   {
    "duration": 9,
    "start_time": "2022-06-01T14:21:36.588Z"
   },
   {
    "duration": 8,
    "start_time": "2022-06-01T14:21:55.428Z"
   },
   {
    "duration": 3,
    "start_time": "2022-06-01T14:22:27.067Z"
   },
   {
    "duration": 14,
    "start_time": "2022-06-01T14:22:27.644Z"
   },
   {
    "duration": 47,
    "start_time": "2022-06-01T14:22:31.955Z"
   },
   {
    "duration": 10,
    "start_time": "2022-06-01T14:22:38.012Z"
   },
   {
    "duration": 519,
    "start_time": "2022-06-01T14:23:14.555Z"
   },
   {
    "duration": 96,
    "start_time": "2022-06-01T14:23:25.035Z"
   },
   {
    "duration": 1502,
    "start_time": "2022-06-01T14:23:26.979Z"
   },
   {
    "duration": 7644,
    "start_time": "2022-06-01T14:26:27.216Z"
   },
   {
    "duration": 30,
    "start_time": "2022-06-01T14:27:29.873Z"
   },
   {
    "duration": 1600,
    "start_time": "2022-06-01T14:27:35.208Z"
   },
   {
    "duration": 8,
    "start_time": "2022-06-02T09:38:28.075Z"
   },
   {
    "duration": 1830,
    "start_time": "2022-06-02T09:40:46.962Z"
   },
   {
    "duration": 897,
    "start_time": "2022-06-02T09:40:48.794Z"
   },
   {
    "duration": 122,
    "start_time": "2022-06-02T09:40:49.693Z"
   },
   {
    "duration": 125,
    "start_time": "2022-06-02T09:40:49.817Z"
   },
   {
    "duration": 26,
    "start_time": "2022-06-02T09:40:49.944Z"
   },
   {
    "duration": 70,
    "start_time": "2022-06-02T09:40:49.973Z"
   },
   {
    "duration": 125,
    "start_time": "2022-06-02T09:40:50.045Z"
   },
   {
    "duration": 749,
    "start_time": "2022-06-02T09:40:50.171Z"
   },
   {
    "duration": 20994,
    "start_time": "2022-06-02T09:40:50.922Z"
   },
   {
    "duration": 92,
    "start_time": "2022-06-02T09:41:11.919Z"
   },
   {
    "duration": 17,
    "start_time": "2022-06-02T09:41:12.013Z"
   },
   {
    "duration": 23,
    "start_time": "2022-06-02T09:41:12.031Z"
   },
   {
    "duration": 107,
    "start_time": "2022-06-02T09:41:12.056Z"
   },
   {
    "duration": 3,
    "start_time": "2022-06-02T09:41:12.164Z"
   },
   {
    "duration": 24,
    "start_time": "2022-06-02T09:41:12.168Z"
   },
   {
    "duration": 47,
    "start_time": "2022-06-02T09:41:12.194Z"
   },
   {
    "duration": 850,
    "start_time": "2022-06-02T09:41:12.242Z"
   },
   {
    "duration": 14,
    "start_time": "2022-06-02T09:41:13.093Z"
   },
   {
    "duration": 29,
    "start_time": "2022-06-02T09:41:13.109Z"
   },
   {
    "duration": 39,
    "start_time": "2022-06-02T09:41:13.140Z"
   },
   {
    "duration": 18761,
    "start_time": "2022-06-02T09:41:13.181Z"
   },
   {
    "duration": 105,
    "start_time": "2022-06-02T09:41:32.029Z"
   },
   {
    "duration": 30,
    "start_time": "2022-06-02T09:41:32.135Z"
   },
   {
    "duration": 28,
    "start_time": "2022-06-02T09:41:32.167Z"
   },
   {
    "duration": 70,
    "start_time": "2022-06-02T09:41:32.197Z"
   },
   {
    "duration": 21,
    "start_time": "2022-06-02T09:41:32.269Z"
   },
   {
    "duration": 15,
    "start_time": "2022-06-02T09:41:32.291Z"
   },
   {
    "duration": 161,
    "start_time": "2022-06-02T09:41:32.327Z"
   },
   {
    "duration": 21,
    "start_time": "2022-06-02T09:41:32.489Z"
   },
   {
    "duration": 338,
    "start_time": "2022-06-02T09:41:32.511Z"
   },
   {
    "duration": 11,
    "start_time": "2022-06-02T09:41:32.850Z"
   },
   {
    "duration": 42,
    "start_time": "2022-06-02T09:41:32.862Z"
   },
   {
    "duration": 26,
    "start_time": "2022-06-02T09:41:32.906Z"
   },
   {
    "duration": 2,
    "start_time": "2022-06-02T09:41:32.934Z"
   },
   {
    "duration": 15,
    "start_time": "2022-06-02T09:41:32.938Z"
   },
   {
    "duration": 44,
    "start_time": "2022-06-02T09:41:32.955Z"
   },
   {
    "duration": 129,
    "start_time": "2022-06-02T09:41:33.001Z"
   },
   {
    "duration": 1775,
    "start_time": "2022-06-02T09:41:33.131Z"
   },
   {
    "duration": 0,
    "start_time": "2022-06-02T09:41:34.908Z"
   },
   {
    "duration": 0,
    "start_time": "2022-06-02T09:41:34.909Z"
   },
   {
    "duration": 4,
    "start_time": "2022-06-02T09:42:28.900Z"
   },
   {
    "duration": 1640,
    "start_time": "2022-06-02T09:42:31.926Z"
   },
   {
    "duration": 7635,
    "start_time": "2022-06-02T09:42:46.765Z"
   },
   {
    "duration": 3,
    "start_time": "2022-06-02T09:44:03.780Z"
   },
   {
    "duration": 7805,
    "start_time": "2022-06-02T09:44:07.277Z"
   },
   {
    "duration": 360548,
    "start_time": "2022-06-02T09:45:48.452Z"
   },
   {
    "duration": 4,
    "start_time": "2022-06-02T09:52:36.437Z"
   },
   {
    "duration": 1594,
    "start_time": "2022-06-02T09:52:54.492Z"
   },
   {
    "duration": 1614,
    "start_time": "2022-06-02T09:53:39.235Z"
   },
   {
    "duration": 11,
    "start_time": "2022-06-02T09:56:50.364Z"
   },
   {
    "duration": 223,
    "start_time": "2022-06-02T09:57:15.625Z"
   },
   {
    "duration": 60,
    "start_time": "2022-06-02T10:03:19.059Z"
   },
   {
    "duration": 3,
    "start_time": "2022-06-02T10:25:46.987Z"
   },
   {
    "duration": 36,
    "start_time": "2022-06-02T10:28:33.211Z"
   },
   {
    "duration": 3362035,
    "start_time": "2022-06-02T10:28:40.524Z"
   },
   {
    "duration": 3,
    "start_time": "2022-06-02T11:25:08.358Z"
   },
   {
    "duration": 1484,
    "start_time": "2022-06-02T11:25:10.165Z"
   },
   {
    "duration": 47677,
    "start_time": "2022-06-02T11:25:14.093Z"
   },
   {
    "duration": 9,
    "start_time": "2022-06-02T11:26:01.772Z"
   },
   {
    "duration": 7,
    "start_time": "2022-06-02T11:26:41.996Z"
   },
   {
    "duration": 2479686,
    "start_time": "2022-06-02T11:27:19.774Z"
   },
   {
    "duration": 9,
    "start_time": "2022-06-02T12:08:45.509Z"
   },
   {
    "duration": 129212,
    "start_time": "2022-06-02T12:20:21.838Z"
   },
   {
    "duration": 6870,
    "start_time": "2022-06-02T12:22:55.984Z"
   },
   {
    "duration": 6217,
    "start_time": "2022-06-02T12:23:53.123Z"
   },
   {
    "duration": 35,
    "start_time": "2022-06-02T12:31:14.412Z"
   },
   {
    "duration": 715127,
    "start_time": "2022-06-02T12:31:24.009Z"
   },
   {
    "duration": 8,
    "start_time": "2022-06-02T12:45:30.876Z"
   },
   {
    "duration": 3,
    "start_time": "2022-06-02T12:50:51.331Z"
   },
   {
    "duration": 36,
    "start_time": "2022-06-02T12:51:16.611Z"
   },
   {
    "duration": 3680752,
    "start_time": "2022-06-02T12:52:57.187Z"
   },
   {
    "duration": 8,
    "start_time": "2022-06-02T13:55:01.906Z"
   },
   {
    "duration": 4,
    "start_time": "2022-06-02T13:55:39.100Z"
   },
   {
    "duration": 7,
    "start_time": "2022-06-02T13:56:34.043Z"
   },
   {
    "duration": 11,
    "start_time": "2022-06-02T13:56:34.052Z"
   },
   {
    "duration": 0,
    "start_time": "2022-06-02T13:56:34.064Z"
   },
   {
    "duration": 0,
    "start_time": "2022-06-02T13:56:34.065Z"
   },
   {
    "duration": 9,
    "start_time": "2022-06-02T13:56:34.155Z"
   },
   {
    "duration": 0,
    "start_time": "2022-06-02T13:56:34.165Z"
   },
   {
    "duration": 368,
    "start_time": "2022-06-02T13:57:08.722Z"
   },
   {
    "duration": 4599725,
    "start_time": "2022-06-02T13:57:14.954Z"
   },
   {
    "duration": 0,
    "start_time": "2022-06-02T15:13:54.681Z"
   },
   {
    "duration": 2104,
    "start_time": "2022-06-02T17:32:04.934Z"
   },
   {
    "duration": 1297,
    "start_time": "2022-06-02T17:32:07.041Z"
   },
   {
    "duration": 133,
    "start_time": "2022-06-02T17:32:08.340Z"
   },
   {
    "duration": 137,
    "start_time": "2022-06-02T17:32:08.476Z"
   },
   {
    "duration": 45,
    "start_time": "2022-06-02T17:32:08.614Z"
   },
   {
    "duration": 85,
    "start_time": "2022-06-02T17:32:08.661Z"
   },
   {
    "duration": 123,
    "start_time": "2022-06-02T17:32:08.749Z"
   },
   {
    "duration": 926,
    "start_time": "2022-06-02T17:32:08.873Z"
   },
   {
    "duration": 27201,
    "start_time": "2022-06-02T17:32:09.801Z"
   },
   {
    "duration": 149,
    "start_time": "2022-06-02T17:32:37.005Z"
   },
   {
    "duration": 13,
    "start_time": "2022-06-02T17:32:37.157Z"
   },
   {
    "duration": 60,
    "start_time": "2022-06-02T17:32:37.173Z"
   },
   {
    "duration": 123,
    "start_time": "2022-06-02T17:32:37.236Z"
   },
   {
    "duration": 3,
    "start_time": "2022-06-02T17:32:37.360Z"
   },
   {
    "duration": 43,
    "start_time": "2022-06-02T17:32:37.365Z"
   },
   {
    "duration": 59,
    "start_time": "2022-06-02T17:32:37.411Z"
   },
   {
    "duration": 986,
    "start_time": "2022-06-02T17:32:37.473Z"
   },
   {
    "duration": 15,
    "start_time": "2022-06-02T17:32:38.461Z"
   },
   {
    "duration": 24,
    "start_time": "2022-06-02T17:32:38.478Z"
   },
   {
    "duration": 71,
    "start_time": "2022-06-02T17:32:38.505Z"
   },
   {
    "duration": 16749,
    "start_time": "2022-06-02T17:32:38.578Z"
   },
   {
    "duration": 107,
    "start_time": "2022-06-02T17:32:55.329Z"
   },
   {
    "duration": 47,
    "start_time": "2022-06-02T17:32:55.438Z"
   },
   {
    "duration": 37,
    "start_time": "2022-06-02T17:32:55.487Z"
   },
   {
    "duration": 70,
    "start_time": "2022-06-02T17:32:55.527Z"
   },
   {
    "duration": 25,
    "start_time": "2022-06-02T17:32:55.599Z"
   },
   {
    "duration": 31,
    "start_time": "2022-06-02T17:32:55.626Z"
   },
   {
    "duration": 182,
    "start_time": "2022-06-02T17:32:55.662Z"
   },
   {
    "duration": 25,
    "start_time": "2022-06-02T17:32:55.846Z"
   },
   {
    "duration": 477,
    "start_time": "2022-06-02T17:32:55.872Z"
   },
   {
    "duration": 12,
    "start_time": "2022-06-02T17:32:56.351Z"
   },
   {
    "duration": 72,
    "start_time": "2022-06-02T17:32:56.365Z"
   },
   {
    "duration": 11,
    "start_time": "2022-06-02T17:32:56.439Z"
   },
   {
    "duration": 15,
    "start_time": "2022-06-02T17:32:56.453Z"
   },
   {
    "duration": 16,
    "start_time": "2022-06-02T17:32:56.470Z"
   },
   {
    "duration": 84,
    "start_time": "2022-06-02T17:32:56.488Z"
   },
   {
    "duration": 153,
    "start_time": "2022-06-02T17:32:56.574Z"
   },
   {
    "duration": 413,
    "start_time": "2022-06-02T17:32:56.730Z"
   },
   {
    "duration": 2093,
    "start_time": "2022-06-02T17:32:57.146Z"
   },
   {
    "duration": 3,
    "start_time": "2022-06-02T17:32:59.242Z"
   },
   {
    "duration": 29,
    "start_time": "2022-06-02T17:32:59.248Z"
   },
   {
    "duration": 1746,
    "start_time": "2022-06-02T17:32:59.280Z"
   },
   {
    "duration": 17,
    "start_time": "2022-06-02T17:33:01.031Z"
   },
   {
    "duration": 63716,
    "start_time": "2022-06-02T17:33:01.054Z"
   },
   {
    "duration": 11,
    "start_time": "2022-06-02T17:34:04.772Z"
   },
   {
    "duration": 2995272,
    "start_time": "2022-06-02T17:34:04.786Z"
   },
   {
    "duration": 11,
    "start_time": "2022-06-02T18:24:00.060Z"
   },
   {
    "duration": 570,
    "start_time": "2022-06-02T18:24:00.073Z"
   },
   {
    "duration": 438919,
    "start_time": "2022-06-02T18:24:00.645Z"
   },
   {
    "duration": 37,
    "start_time": "2022-06-03T15:37:36.156Z"
   },
   {
    "duration": 3695,
    "start_time": "2022-06-03T15:57:51.043Z"
   },
   {
    "duration": 1058,
    "start_time": "2022-06-03T15:57:54.744Z"
   },
   {
    "duration": 133,
    "start_time": "2022-06-03T15:57:55.804Z"
   },
   {
    "duration": 151,
    "start_time": "2022-06-03T15:57:55.941Z"
   },
   {
    "duration": 38,
    "start_time": "2022-06-03T15:57:56.094Z"
   },
   {
    "duration": 61,
    "start_time": "2022-06-03T15:57:56.137Z"
   },
   {
    "duration": 141,
    "start_time": "2022-06-03T15:57:56.200Z"
   },
   {
    "duration": 962,
    "start_time": "2022-06-03T15:57:56.343Z"
   },
   {
    "duration": 23266,
    "start_time": "2022-06-03T15:57:57.307Z"
   },
   {
    "duration": 105,
    "start_time": "2022-06-03T15:58:20.575Z"
   },
   {
    "duration": 11,
    "start_time": "2022-06-03T15:58:20.682Z"
   },
   {
    "duration": 44,
    "start_time": "2022-06-03T15:58:20.695Z"
   },
   {
    "duration": 102,
    "start_time": "2022-06-03T15:58:20.740Z"
   },
   {
    "duration": 2,
    "start_time": "2022-06-03T15:58:20.844Z"
   },
   {
    "duration": 28,
    "start_time": "2022-06-03T15:58:20.848Z"
   },
   {
    "duration": 61,
    "start_time": "2022-06-03T15:58:20.878Z"
   },
   {
    "duration": 879,
    "start_time": "2022-06-03T15:58:20.941Z"
   },
   {
    "duration": 21,
    "start_time": "2022-06-03T15:58:21.826Z"
   },
   {
    "duration": 21,
    "start_time": "2022-06-03T15:58:21.849Z"
   },
   {
    "duration": 59,
    "start_time": "2022-06-03T15:58:21.871Z"
   },
   {
    "duration": 10788,
    "start_time": "2022-06-03T15:58:21.938Z"
   },
   {
    "duration": 866,
    "start_time": "2022-06-03T15:58:32.740Z"
   },
   {
    "duration": 1395,
    "start_time": "2022-06-03T16:04:38.243Z"
   },
   {
    "duration": 792,
    "start_time": "2022-06-03T16:04:39.640Z"
   },
   {
    "duration": 151,
    "start_time": "2022-06-03T16:04:40.436Z"
   },
   {
    "duration": 137,
    "start_time": "2022-06-03T16:04:40.589Z"
   },
   {
    "duration": 27,
    "start_time": "2022-06-03T16:04:40.729Z"
   },
   {
    "duration": 76,
    "start_time": "2022-06-03T16:04:40.757Z"
   },
   {
    "duration": 125,
    "start_time": "2022-06-03T16:04:40.835Z"
   },
   {
    "duration": 856,
    "start_time": "2022-06-03T16:04:40.962Z"
   },
   {
    "duration": 24144,
    "start_time": "2022-06-03T16:04:41.820Z"
   },
   {
    "duration": 114,
    "start_time": "2022-06-03T16:05:05.965Z"
   },
   {
    "duration": 10,
    "start_time": "2022-06-03T16:05:06.080Z"
   },
   {
    "duration": 32,
    "start_time": "2022-06-03T16:05:06.092Z"
   },
   {
    "duration": 121,
    "start_time": "2022-06-03T16:05:06.132Z"
   },
   {
    "duration": 3,
    "start_time": "2022-06-03T16:05:06.257Z"
   },
   {
    "duration": 33,
    "start_time": "2022-06-03T16:05:06.262Z"
   },
   {
    "duration": 67,
    "start_time": "2022-06-03T16:05:06.296Z"
   },
   {
    "duration": 875,
    "start_time": "2022-06-03T16:05:06.365Z"
   },
   {
    "duration": 24,
    "start_time": "2022-06-03T16:05:07.244Z"
   },
   {
    "duration": 22,
    "start_time": "2022-06-03T16:05:07.270Z"
   },
   {
    "duration": 48,
    "start_time": "2022-06-03T16:05:07.294Z"
   },
   {
    "duration": 16289,
    "start_time": "2022-06-03T16:05:07.344Z"
   },
   {
    "duration": 103,
    "start_time": "2022-06-03T16:05:23.636Z"
   },
   {
    "duration": 144,
    "start_time": "2022-06-03T16:05:23.741Z"
   },
   {
    "duration": 30,
    "start_time": "2022-06-03T16:05:23.887Z"
   },
   {
    "duration": 66,
    "start_time": "2022-06-03T16:05:23.919Z"
   },
   {
    "duration": 23,
    "start_time": "2022-06-03T16:05:23.987Z"
   },
   {
    "duration": 33,
    "start_time": "2022-06-03T16:05:24.012Z"
   },
   {
    "duration": 186,
    "start_time": "2022-06-03T16:05:24.047Z"
   },
   {
    "duration": 38,
    "start_time": "2022-06-03T16:05:24.235Z"
   },
   {
    "duration": 381,
    "start_time": "2022-06-03T16:05:24.275Z"
   },
   {
    "duration": 10,
    "start_time": "2022-06-03T16:05:24.658Z"
   },
   {
    "duration": 76,
    "start_time": "2022-06-03T16:05:24.670Z"
   },
   {
    "duration": 9,
    "start_time": "2022-06-03T16:05:24.748Z"
   },
   {
    "duration": 4,
    "start_time": "2022-06-03T16:05:24.759Z"
   },
   {
    "duration": 13,
    "start_time": "2022-06-03T16:05:24.764Z"
   },
   {
    "duration": 100,
    "start_time": "2022-06-03T16:05:24.779Z"
   },
   {
    "duration": 140,
    "start_time": "2022-06-03T16:05:24.880Z"
   },
   {
    "duration": 217,
    "start_time": "2022-06-03T16:05:25.022Z"
   },
   {
    "duration": 1873,
    "start_time": "2022-06-03T16:05:25.241Z"
   },
   {
    "duration": 3,
    "start_time": "2022-06-03T16:05:27.115Z"
   },
   {
    "duration": 13,
    "start_time": "2022-06-03T16:05:27.130Z"
   },
   {
    "duration": 1584,
    "start_time": "2022-06-03T16:05:27.145Z"
   },
   {
    "duration": 18,
    "start_time": "2022-06-03T16:05:28.735Z"
   },
   {
    "duration": 55684,
    "start_time": "2022-06-03T16:05:28.755Z"
   },
   {
    "duration": 9,
    "start_time": "2022-06-03T16:06:24.443Z"
   },
   {
    "duration": 1295,
    "start_time": "2022-06-03T20:28:47.465Z"
   },
   {
    "duration": 710,
    "start_time": "2022-06-03T20:28:48.762Z"
   },
   {
    "duration": 136,
    "start_time": "2022-06-03T20:28:49.474Z"
   },
   {
    "duration": 149,
    "start_time": "2022-06-03T20:28:49.612Z"
   },
   {
    "duration": 21,
    "start_time": "2022-06-03T20:28:49.763Z"
   },
   {
    "duration": 74,
    "start_time": "2022-06-03T20:28:49.785Z"
   },
   {
    "duration": 128,
    "start_time": "2022-06-03T20:28:49.860Z"
   },
   {
    "duration": 878,
    "start_time": "2022-06-03T20:28:49.990Z"
   },
   {
    "duration": 23909,
    "start_time": "2022-06-03T20:28:50.870Z"
   },
   {
    "duration": 105,
    "start_time": "2022-06-03T20:29:14.781Z"
   },
   {
    "duration": 11,
    "start_time": "2022-06-03T20:29:14.887Z"
   },
   {
    "duration": 58,
    "start_time": "2022-06-03T20:29:14.899Z"
   },
   {
    "duration": 140,
    "start_time": "2022-06-03T20:29:14.959Z"
   },
   {
    "duration": 3,
    "start_time": "2022-06-03T20:29:15.102Z"
   },
   {
    "duration": 46,
    "start_time": "2022-06-03T20:29:15.106Z"
   },
   {
    "duration": 48,
    "start_time": "2022-06-03T20:29:15.153Z"
   },
   {
    "duration": 1016,
    "start_time": "2022-06-03T20:29:15.202Z"
   },
   {
    "duration": 31,
    "start_time": "2022-06-03T20:29:16.223Z"
   },
   {
    "duration": 28,
    "start_time": "2022-06-03T20:29:16.259Z"
   },
   {
    "duration": 39,
    "start_time": "2022-06-03T20:29:16.289Z"
   },
   {
    "duration": 17001,
    "start_time": "2022-06-03T20:29:16.329Z"
   },
   {
    "duration": 111,
    "start_time": "2022-06-03T20:29:33.334Z"
   },
   {
    "duration": 43,
    "start_time": "2022-06-03T20:29:33.447Z"
   },
   {
    "duration": 48,
    "start_time": "2022-06-03T20:29:33.492Z"
   },
   {
    "duration": 93,
    "start_time": "2022-06-03T20:29:33.542Z"
   },
   {
    "duration": 36,
    "start_time": "2022-06-03T20:29:33.637Z"
   },
   {
    "duration": 17,
    "start_time": "2022-06-03T20:29:33.675Z"
   },
   {
    "duration": 175,
    "start_time": "2022-06-03T20:29:33.693Z"
   },
   {
    "duration": 21,
    "start_time": "2022-06-03T20:29:33.870Z"
   },
   {
    "duration": 412,
    "start_time": "2022-06-03T20:29:33.892Z"
   },
   {
    "duration": 38,
    "start_time": "2022-06-03T20:29:34.306Z"
   },
   {
    "duration": 44,
    "start_time": "2022-06-03T20:29:34.351Z"
   },
   {
    "duration": 9,
    "start_time": "2022-06-03T20:29:34.398Z"
   },
   {
    "duration": 5,
    "start_time": "2022-06-03T20:29:34.409Z"
   },
   {
    "duration": 19,
    "start_time": "2022-06-03T20:29:34.416Z"
   },
   {
    "duration": 72,
    "start_time": "2022-06-03T20:29:34.445Z"
   },
   {
    "duration": 152,
    "start_time": "2022-06-03T20:29:34.519Z"
   },
   {
    "duration": 365,
    "start_time": "2022-06-03T20:29:34.674Z"
   },
   {
    "duration": 1965,
    "start_time": "2022-06-03T20:29:35.041Z"
   },
   {
    "duration": 3,
    "start_time": "2022-06-03T20:29:37.008Z"
   },
   {
    "duration": 12,
    "start_time": "2022-06-03T20:29:56.452Z"
   },
   {
    "duration": 4,
    "start_time": "2022-06-03T20:30:26.179Z"
   },
   {
    "duration": 136,
    "start_time": "2022-06-03T20:30:28.660Z"
   },
   {
    "duration": 9,
    "start_time": "2022-06-03T20:30:38.045Z"
   },
   {
    "duration": 31,
    "start_time": "2022-06-03T20:30:43.396Z"
   },
   {
    "duration": 5,
    "start_time": "2022-06-03T20:30:48.682Z"
   },
   {
    "duration": 75,
    "start_time": "2022-06-03T20:30:49.562Z"
   },
   {
    "duration": 15,
    "start_time": "2022-06-03T20:30:56.639Z"
   },
   {
    "duration": 726,
    "start_time": "2022-06-03T20:30:58.272Z"
   },
   {
    "duration": 6,
    "start_time": "2022-06-03T20:31:52.858Z"
   },
   {
    "duration": 10,
    "start_time": "2022-06-03T20:33:04.551Z"
   },
   {
    "duration": 765,
    "start_time": "2022-06-03T20:33:06.469Z"
   },
   {
    "duration": 3152,
    "start_time": "2022-06-03T20:33:24.879Z"
   },
   {
    "duration": 11,
    "start_time": "2022-06-03T20:33:29.153Z"
   },
   {
    "duration": 281582,
    "start_time": "2022-06-03T20:33:29.766Z"
   },
   {
    "duration": 15,
    "start_time": "2022-06-03T20:38:11.358Z"
   },
   {
    "duration": 5,
    "start_time": "2022-06-03T20:38:45.527Z"
   },
   {
    "duration": 2969,
    "start_time": "2022-06-03T20:39:00.410Z"
   },
   {
    "duration": 382388,
    "start_time": "2022-06-03T20:39:03.381Z"
   },
   {
    "duration": 0,
    "start_time": "2022-06-03T21:20:29.928Z"
   },
   {
    "duration": 1866,
    "start_time": "2022-06-04T12:46:53.863Z"
   },
   {
    "duration": 6,
    "start_time": "2022-06-04T12:57:21.803Z"
   },
   {
    "duration": 2623,
    "start_time": "2022-06-04T12:57:21.811Z"
   },
   {
    "duration": 144,
    "start_time": "2022-06-04T12:57:24.436Z"
   },
   {
    "duration": 161,
    "start_time": "2022-06-04T12:57:24.584Z"
   },
   {
    "duration": 38,
    "start_time": "2022-06-04T12:57:24.748Z"
   },
   {
    "duration": 83,
    "start_time": "2022-06-04T12:57:24.789Z"
   },
   {
    "duration": 162,
    "start_time": "2022-06-04T12:57:24.874Z"
   },
   {
    "duration": 907,
    "start_time": "2022-06-04T12:57:25.038Z"
   },
   {
    "duration": 23706,
    "start_time": "2022-06-04T12:57:25.947Z"
   },
   {
    "duration": 109,
    "start_time": "2022-06-04T12:57:49.656Z"
   },
   {
    "duration": 13,
    "start_time": "2022-06-04T12:57:49.766Z"
   },
   {
    "duration": 27,
    "start_time": "2022-06-04T12:57:49.780Z"
   },
   {
    "duration": 123,
    "start_time": "2022-06-04T12:57:49.824Z"
   },
   {
    "duration": 3,
    "start_time": "2022-06-04T12:57:49.948Z"
   },
   {
    "duration": 25,
    "start_time": "2022-06-04T12:57:49.952Z"
   },
   {
    "duration": 51,
    "start_time": "2022-06-04T12:57:49.979Z"
   },
   {
    "duration": 21,
    "start_time": "2022-06-04T12:59:47.443Z"
   },
   {
    "duration": 99,
    "start_time": "2022-06-04T12:59:50.813Z"
   },
   {
    "duration": 6,
    "start_time": "2022-06-04T13:01:02.643Z"
   },
   {
    "duration": 169,
    "start_time": "2022-06-04T13:06:26.586Z"
   },
   {
    "duration": 26,
    "start_time": "2022-06-04T13:07:01.821Z"
   },
   {
    "duration": 41,
    "start_time": "2022-06-04T13:08:09.155Z"
   },
   {
    "duration": 36,
    "start_time": "2022-06-04T13:08:18.725Z"
   },
   {
    "duration": 41003,
    "start_time": "2022-06-04T13:08:48.704Z"
   },
   {
    "duration": 5,
    "start_time": "2022-06-04T13:09:29.710Z"
   },
   {
    "duration": 22,
    "start_time": "2022-06-04T13:09:47.187Z"
   },
   {
    "duration": 15,
    "start_time": "2022-06-04T13:13:13.050Z"
   },
   {
    "duration": 10,
    "start_time": "2022-06-04T13:13:45.114Z"
   },
   {
    "duration": 10,
    "start_time": "2022-06-04T13:15:54.109Z"
   },
   {
    "duration": 3,
    "start_time": "2022-06-04T13:16:25.090Z"
   },
   {
    "duration": 16,
    "start_time": "2022-06-04T13:18:30.820Z"
   },
   {
    "duration": 3,
    "start_time": "2022-06-04T13:22:55.919Z"
   },
   {
    "duration": 13,
    "start_time": "2022-06-04T13:23:03.843Z"
   },
   {
    "duration": 12,
    "start_time": "2022-06-04T13:23:25.387Z"
   },
   {
    "duration": 14,
    "start_time": "2022-06-04T13:24:44.923Z"
   },
   {
    "duration": 3,
    "start_time": "2022-06-04T13:29:56.399Z"
   },
   {
    "duration": 39,
    "start_time": "2022-06-04T13:32:04.363Z"
   },
   {
    "duration": 231541,
    "start_time": "2022-06-04T13:32:10.856Z"
   },
   {
    "duration": 22204,
    "start_time": "2022-06-04T13:36:42.884Z"
   },
   {
    "duration": 5,
    "start_time": "2022-06-04T13:37:10.545Z"
   },
   {
    "duration": 19,
    "start_time": "2022-06-04T13:37:20.203Z"
   },
   {
    "duration": 10,
    "start_time": "2022-06-04T13:43:22.853Z"
   },
   {
    "duration": 10,
    "start_time": "2022-06-04T13:43:28.016Z"
   },
   {
    "duration": 43,
    "start_time": "2022-06-04T13:43:49.453Z"
   },
   {
    "duration": 11,
    "start_time": "2022-06-04T13:44:00.150Z"
   },
   {
    "duration": 13,
    "start_time": "2022-06-04T13:44:07.372Z"
   },
   {
    "duration": 12,
    "start_time": "2022-06-04T13:45:34.322Z"
   },
   {
    "duration": 10,
    "start_time": "2022-06-04T14:10:55.348Z"
   },
   {
    "duration": 17,
    "start_time": "2022-06-04T14:12:15.700Z"
   },
   {
    "duration": 52,
    "start_time": "2022-06-04T14:12:22.108Z"
   },
   {
    "duration": 60,
    "start_time": "2022-06-04T14:12:37.509Z"
   },
   {
    "duration": 3,
    "start_time": "2022-06-04T14:32:00.604Z"
   },
   {
    "duration": 3,
    "start_time": "2022-06-04T14:34:08.705Z"
   },
   {
    "duration": 5,
    "start_time": "2022-06-04T14:35:24.439Z"
   },
   {
    "duration": 333,
    "start_time": "2022-06-04T14:36:50.246Z"
   },
   {
    "duration": 29,
    "start_time": "2022-06-04T14:36:51.865Z"
   },
   {
    "duration": 261,
    "start_time": "2022-06-04T14:37:02.251Z"
   },
   {
    "duration": 5,
    "start_time": "2022-06-04T14:55:57.716Z"
   },
   {
    "duration": 198,
    "start_time": "2022-06-04T14:57:04.331Z"
   },
   {
    "duration": 253,
    "start_time": "2022-06-04T14:57:21.111Z"
   },
   {
    "duration": 31,
    "start_time": "2022-06-04T14:57:30.310Z"
   },
   {
    "duration": 278,
    "start_time": "2022-06-04T14:58:00.220Z"
   },
   {
    "duration": 44,
    "start_time": "2022-06-04T14:58:58.402Z"
   },
   {
    "duration": 54,
    "start_time": "2022-06-04T14:59:14.830Z"
   },
   {
    "duration": 32,
    "start_time": "2022-06-04T14:59:28.161Z"
   },
   {
    "duration": 51,
    "start_time": "2022-06-04T14:59:52.318Z"
   },
   {
    "duration": 427,
    "start_time": "2022-06-04T14:59:53.144Z"
   },
   {
    "duration": 11,
    "start_time": "2022-06-04T14:59:59.932Z"
   },
   {
    "duration": 58,
    "start_time": "2022-06-04T15:00:01.237Z"
   },
   {
    "duration": 9,
    "start_time": "2022-06-04T15:00:07.910Z"
   },
   {
    "duration": 6,
    "start_time": "2022-06-04T15:03:11.794Z"
   },
   {
    "duration": 1627,
    "start_time": "2022-06-06T07:48:44.835Z"
   },
   {
    "duration": 2642,
    "start_time": "2022-06-06T07:48:46.463Z"
   },
   {
    "duration": 125,
    "start_time": "2022-06-06T07:48:49.106Z"
   },
   {
    "duration": 130,
    "start_time": "2022-06-06T07:48:49.233Z"
   },
   {
    "duration": 24,
    "start_time": "2022-06-06T07:48:49.364Z"
   },
   {
    "duration": 68,
    "start_time": "2022-06-06T07:48:49.389Z"
   },
   {
    "duration": 132,
    "start_time": "2022-06-06T07:48:49.459Z"
   },
   {
    "duration": 826,
    "start_time": "2022-06-06T07:48:49.592Z"
   },
   {
    "duration": 23211,
    "start_time": "2022-06-06T07:48:50.419Z"
   },
   {
    "duration": 101,
    "start_time": "2022-06-06T07:49:13.633Z"
   },
   {
    "duration": 11,
    "start_time": "2022-06-06T07:49:13.735Z"
   },
   {
    "duration": 21,
    "start_time": "2022-06-06T07:49:13.747Z"
   },
   {
    "duration": 115,
    "start_time": "2022-06-06T07:49:13.770Z"
   },
   {
    "duration": 2,
    "start_time": "2022-06-06T07:49:13.886Z"
   },
   {
    "duration": 36,
    "start_time": "2022-06-06T07:49:13.890Z"
   },
   {
    "duration": 33,
    "start_time": "2022-06-06T07:49:13.927Z"
   },
   {
    "duration": 20,
    "start_time": "2022-06-06T07:49:13.962Z"
   },
   {
    "duration": 55,
    "start_time": "2022-06-06T07:49:13.984Z"
   },
   {
    "duration": 38,
    "start_time": "2022-06-06T07:49:14.041Z"
   },
   {
    "duration": 5,
    "start_time": "2022-06-06T07:49:14.081Z"
   },
   {
    "duration": 306,
    "start_time": "2022-06-06T07:49:14.088Z"
   },
   {
    "duration": 20,
    "start_time": "2022-06-06T07:49:14.396Z"
   },
   {
    "duration": 4,
    "start_time": "2022-06-06T07:49:14.425Z"
   },
   {
    "duration": 124,
    "start_time": "2022-06-06T07:49:14.431Z"
   },
   {
    "duration": 22,
    "start_time": "2022-06-06T07:49:14.556Z"
   },
   {
    "duration": 287,
    "start_time": "2022-06-06T07:49:14.580Z"
   },
   {
    "duration": 33,
    "start_time": "2022-06-06T07:49:14.869Z"
   },
   {
    "duration": 378,
    "start_time": "2022-06-06T07:49:14.906Z"
   },
   {
    "duration": 10,
    "start_time": "2022-06-06T07:49:15.286Z"
   },
   {
    "duration": 67,
    "start_time": "2022-06-06T07:49:15.297Z"
   },
   {
    "duration": 8,
    "start_time": "2022-06-06T07:49:15.365Z"
   },
   {
    "duration": 3,
    "start_time": "2022-06-06T07:49:15.374Z"
   },
   {
    "duration": 11,
    "start_time": "2022-06-06T07:49:15.378Z"
   },
   {
    "duration": 69,
    "start_time": "2022-06-06T07:49:15.391Z"
   },
   {
    "duration": 251,
    "start_time": "2022-06-06T07:49:15.462Z"
   },
   {
    "duration": 820,
    "start_time": "2022-06-06T07:49:15.715Z"
   },
   {
    "duration": 0,
    "start_time": "2022-06-06T07:49:16.536Z"
   },
   {
    "duration": 0,
    "start_time": "2022-06-06T07:49:16.537Z"
   },
   {
    "duration": 0,
    "start_time": "2022-06-06T07:49:16.538Z"
   },
   {
    "duration": 0,
    "start_time": "2022-06-06T07:49:16.539Z"
   },
   {
    "duration": 0,
    "start_time": "2022-06-06T07:49:16.540Z"
   },
   {
    "duration": 0,
    "start_time": "2022-06-06T07:49:16.541Z"
   },
   {
    "duration": 0,
    "start_time": "2022-06-06T07:49:16.542Z"
   },
   {
    "duration": 0,
    "start_time": "2022-06-06T07:49:16.543Z"
   },
   {
    "duration": 0,
    "start_time": "2022-06-06T07:49:16.544Z"
   },
   {
    "duration": 0,
    "start_time": "2022-06-06T07:49:16.545Z"
   },
   {
    "duration": 3,
    "start_time": "2022-06-06T07:53:12.572Z"
   },
   {
    "duration": 637,
    "start_time": "2022-06-06T07:53:15.188Z"
   },
   {
    "duration": 7,
    "start_time": "2022-06-06T07:54:24.851Z"
   },
   {
    "duration": 4,
    "start_time": "2022-06-06T07:54:33.211Z"
   },
   {
    "duration": 580,
    "start_time": "2022-06-06T07:54:35.347Z"
   },
   {
    "duration": 2,
    "start_time": "2022-06-06T07:56:57.018Z"
   },
   {
    "duration": 507,
    "start_time": "2022-06-06T07:56:58.425Z"
   },
   {
    "duration": 2176,
    "start_time": "2022-06-06T07:57:12.137Z"
   },
   {
    "duration": 3,
    "start_time": "2022-06-06T07:57:29.313Z"
   },
   {
    "duration": 3,
    "start_time": "2022-06-06T07:57:41.252Z"
   },
   {
    "duration": 3201,
    "start_time": "2022-06-06T07:57:43.225Z"
   },
   {
    "duration": 8,
    "start_time": "2022-06-06T07:57:48.289Z"
   },
   {
    "duration": 70076,
    "start_time": "2022-06-06T07:57:56.072Z"
   },
   {
    "duration": 8,
    "start_time": "2022-06-06T07:59:27.191Z"
   },
   {
    "duration": 3428578,
    "start_time": "2022-06-06T07:59:35.879Z"
   },
   {
    "duration": 10,
    "start_time": "2022-06-06T08:58:30.398Z"
   },
   {
    "duration": 181387,
    "start_time": "2022-06-06T08:58:38.566Z"
   },
   {
    "duration": 7229936,
    "start_time": "2022-06-06T09:02:02.899Z"
   },
   {
    "duration": 7,
    "start_time": "2022-06-06T11:03:32.862Z"
   },
   {
    "duration": 3970422,
    "start_time": "2022-06-06T11:06:49.792Z"
   },
   {
    "duration": 8,
    "start_time": "2022-06-06T12:14:19.078Z"
   },
   {
    "duration": 11,
    "start_time": "2022-06-06T12:15:01.005Z"
   },
   {
    "duration": 4,
    "start_time": "2022-06-06T12:15:10.156Z"
   },
   {
    "duration": 39,
    "start_time": "2022-06-06T12:15:17.429Z"
   },
   {
    "duration": 82902,
    "start_time": "2022-06-06T12:15:28.248Z"
   },
   {
    "duration": 512,
    "start_time": "2022-06-06T12:17:15.618Z"
   },
   {
    "duration": 549,
    "start_time": "2022-06-06T12:17:40.227Z"
   },
   {
    "duration": 10,
    "start_time": "2022-06-06T12:18:04.425Z"
   },
   {
    "duration": 5,
    "start_time": "2022-06-06T12:18:47.114Z"
   },
   {
    "duration": 4,
    "start_time": "2022-06-06T12:19:27.449Z"
   },
   {
    "duration": 4,
    "start_time": "2022-06-06T12:19:31.728Z"
   },
   {
    "duration": 12790,
    "start_time": "2022-06-06T12:19:57.743Z"
   },
   {
    "duration": 172998,
    "start_time": "2022-06-06T12:20:22.432Z"
   },
   {
    "duration": 11784,
    "start_time": "2022-06-06T12:34:15.058Z"
   },
   {
    "duration": 84136,
    "start_time": "2022-06-06T12:34:56.808Z"
   },
   {
    "duration": 10367,
    "start_time": "2022-06-06T12:37:59.966Z"
   },
   {
    "duration": 85077,
    "start_time": "2022-06-06T12:38:33.630Z"
   },
   {
    "duration": 147782,
    "start_time": "2022-06-06T12:40:49.444Z"
   }
  ],
  "kernelspec": {
   "display_name": "Python 3 (ipykernel)",
   "language": "python",
   "name": "python3"
  },
  "language_info": {
   "codemirror_mode": {
    "name": "ipython",
    "version": 3
   },
   "file_extension": ".py",
   "mimetype": "text/x-python",
   "name": "python",
   "nbconvert_exporter": "python",
   "pygments_lexer": "ipython3",
   "version": "3.9.12"
  },
  "toc": {
   "base_numbering": 1,
   "nav_menu": {},
   "number_sections": true,
   "sideBar": true,
   "skip_h1_title": true,
   "title_cell": "Table of Contents",
   "title_sidebar": "Contents",
   "toc_cell": false,
   "toc_position": {},
   "toc_section_display": true,
   "toc_window_display": false
  }
 },
 "nbformat": 4,
 "nbformat_minor": 2
}
